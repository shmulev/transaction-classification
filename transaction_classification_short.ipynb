{
 "cells": [
  {
   "cell_type": "markdown",
   "metadata": {},
   "source": [
    "# Text classification of Voice Commands\n",
    "### Sections:\n",
    "* [1. Load datasets](#section1)\n",
    "* [2. Different model for classification](#section2)\n",
    "    * [2.1 Naive Bayes](#section2.1)\n",
    "    * [2.2 Logistic Regression](#section2.2)\n",
    "* [3. Model Evaluation](#section3)\n",
    "* [4. Save model](#section4)"
   ]
  },
  {
   "cell_type": "markdown",
   "metadata": {},
   "source": [
    "Some useful imports:"
   ]
  },
  {
   "cell_type": "code",
   "execution_count": 1,
   "metadata": {
    "collapsed": true
   },
   "outputs": [],
   "source": [
    "import pandas as pd\n",
    "import sklearn as sk\n",
    "import numpy as np\n",
    "import matplotlib.pyplot as plt\n",
    "import seaborn as sns\n",
    "\n",
    "import json\n",
    "from pprint import pprint\n",
    "\n",
    "import pickle\n",
    "\n",
    "%matplotlib inline"
   ]
  },
  {
   "cell_type": "markdown",
   "metadata": {},
   "source": [
    "Fix random seed:"
   ]
  },
  {
   "cell_type": "code",
   "execution_count": 2,
   "metadata": {
    "collapsed": true
   },
   "outputs": [],
   "source": [
    "np.random.seed(1234)"
   ]
  },
  {
   "cell_type": "markdown",
   "metadata": {},
   "source": [
    "# 1. Load the data"
   ]
  },
  {
   "cell_type": "code",
   "execution_count": 6,
   "metadata": {
    "collapsed": true
   },
   "outputs": [],
   "source": [
    "data = pd.read_csv('500k.csv',sep='\\t',header=None, names=['INN', 'KPP','Type','Description'])\n",
    "data.drop(['INN', 'KPP'], axis=1, inplace=True)\n",
    "data = pd.DataFrame({'Type': np.array(data['Type'], dtype='int'), 'Description': np.array(data['Description'])})\n",
    "data = data[['Type', 'Description']]"
   ]
  },
  {
   "cell_type": "code",
   "execution_count": 8,
   "metadata": {},
   "outputs": [],
   "source": [
    "data = data.iloc[::10].copy()"
   ]
  },
  {
   "cell_type": "code",
   "execution_count": 10,
   "metadata": {},
   "outputs": [
    {
     "name": "stdout",
     "output_type": "stream",
     "text": [
      "Data size:  (50000, 2)\n"
     ]
    },
    {
     "data": {
      "text/html": [
       "<div>\n",
       "<style>\n",
       "    .dataframe thead tr:only-child th {\n",
       "        text-align: right;\n",
       "    }\n",
       "\n",
       "    .dataframe thead th {\n",
       "        text-align: left;\n",
       "    }\n",
       "\n",
       "    .dataframe tbody tr th {\n",
       "        vertical-align: top;\n",
       "    }\n",
       "</style>\n",
       "<table border=\"1\" class=\"dataframe\">\n",
       "  <thead>\n",
       "    <tr style=\"text-align: right;\">\n",
       "      <th></th>\n",
       "      <th>Type</th>\n",
       "      <th>Description</th>\n",
       "    </tr>\n",
       "  </thead>\n",
       "  <tbody>\n",
       "    <tr>\n",
       "      <th>0</th>\n",
       "      <td>4022</td>\n",
       "      <td>Предоплата за поверку СИ по счетам N 140808 от...</td>\n",
       "    </tr>\n",
       "    <tr>\n",
       "      <th>10</th>\n",
       "      <td>4001</td>\n",
       "      <td>Переоценка счета. 210.88 USD по курсу 57.2323№...</td>\n",
       "    </tr>\n",
       "    <tr>\n",
       "      <th>20</th>\n",
       "      <td>4040</td>\n",
       "      <td>государственная пошлина запроведение аттестаци...</td>\n",
       "    </tr>\n",
       "    <tr>\n",
       "      <th>30</th>\n",
       "      <td>5107</td>\n",
       "      <td>Возмещение денежных средств по операциям с исп...</td>\n",
       "    </tr>\n",
       "    <tr>\n",
       "      <th>40</th>\n",
       "      <td>4041</td>\n",
       "      <td>Выдача наличных согласно договора 50365 от 07....</td>\n",
       "    </tr>\n",
       "  </tbody>\n",
       "</table>\n",
       "</div>"
      ],
      "text/plain": [
       "    Type                                        Description\n",
       "0   4022  Предоплата за поверку СИ по счетам N 140808 от...\n",
       "10  4001  Переоценка счета. 210.88 USD по курсу 57.2323№...\n",
       "20  4040  государственная пошлина запроведение аттестаци...\n",
       "30  5107  Возмещение денежных средств по операциям с исп...\n",
       "40  4041  Выдача наличных согласно договора 50365 от 07...."
      ]
     },
     "execution_count": 10,
     "metadata": {},
     "output_type": "execute_result"
    }
   ],
   "source": [
    "print('Data size: ', data.shape)\n",
    "data.head()"
   ]
  },
  {
   "cell_type": "code",
   "execution_count": 11,
   "metadata": {
    "scrolled": true
   },
   "outputs": [
    {
     "name": "stdout",
     "output_type": "stream",
     "text": [
      "Data size:  (49823, 2)\n"
     ]
    }
   ],
   "source": [
    "data.dropna(inplace=True)\n",
    "print('Data size: ', data.shape)"
   ]
  },
  {
   "cell_type": "code",
   "execution_count": 12,
   "metadata": {
    "collapsed": true
   },
   "outputs": [],
   "source": [
    "X = np.array(data['Description'])\n",
    "y = np.array(data['Type'], dtype = 'int')"
   ]
  },
  {
   "cell_type": "markdown",
   "metadata": {},
   "source": [
    "# 2. Data analysis"
   ]
  },
  {
   "cell_type": "code",
   "execution_count": 13,
   "metadata": {},
   "outputs": [
    {
     "name": "stdout",
     "output_type": "stream",
     "text": [
      "The number of classes:  96\n"
     ]
    }
   ],
   "source": [
    "print('The number of classes: ', len(np.unique(y)))\n",
    "unique, counts = np.unique(y, return_counts=True)\n",
    "data_dict = dict(zip(unique, counts))"
   ]
  },
  {
   "cell_type": "code",
   "execution_count": 14,
   "metadata": {
    "collapsed": true
   },
   "outputs": [],
   "source": [
    "def idx_by_count(count):\n",
    "    return np.where(np.array(list(data_dict.values())) == count)[0]\n",
    "\n",
    "def key_by_count(count):\n",
    "    return np.array(list(data_dict.items()))[:,0][idx_by_count(count)]"
   ]
  },
  {
   "cell_type": "markdown",
   "metadata": {},
   "source": [
    "Plot now a diagram of interclass distribution:"
   ]
  },
  {
   "cell_type": "code",
   "execution_count": 15,
   "metadata": {},
   "outputs": [
    {
     "data": {
      "text/plain": [
       "<matplotlib.axes._subplots.AxesSubplot at 0x1cb1602fdd8>"
      ]
     },
     "execution_count": 15,
     "metadata": {},
     "output_type": "execute_result"
    },
    {
     "data": {
      "image/png": "[encoded data removed]",
      "text/plain": [
       "<matplotlib.figure.Figure at 0x1cb1602f748>"
      ]
     },
     "metadata": {},
     "output_type": "display_data"
    }
   ],
   "source": [
    "plt.figure(figsize=(10,10))\n",
    "sns.countplot(x=\"Type\", data=data)"
   ]
  },
  {
   "cell_type": "markdown",
   "metadata": {},
   "source": [
    "We see that we have 25% of our data belonging to one class, which means that our data is strongly unbalanced. Find this class:"
   ]
  },
  {
   "cell_type": "code",
   "execution_count": 16,
   "metadata": {},
   "outputs": [
    {
     "name": "stdout",
     "output_type": "stream",
     "text": [
      "Most populated class is:  [3001]\n"
     ]
    }
   ],
   "source": [
    "print(\"Most populated class is: \", key_by_count(counts.max()))"
   ]
  },
  {
   "cell_type": "markdown",
   "metadata": {},
   "source": [
    "Delete 75% of this class instances:"
   ]
  },
  {
   "cell_type": "code",
   "execution_count": 17,
   "metadata": {
    "collapsed": true
   },
   "outputs": [],
   "source": [
    "data_cleared= data.drop(data[data.Type==3001].index[::2], inplace=False)\n",
    "data_cleared = data_cleared.drop(data_cleared[data_cleared.Type==3001].index[::2], inplace=False)"
   ]
  },
  {
   "cell_type": "code",
   "execution_count": 18,
   "metadata": {},
   "outputs": [
    {
     "data": {
      "text/plain": [
       "(31657, 2)"
      ]
     },
     "execution_count": 18,
     "metadata": {},
     "output_type": "execute_result"
    }
   ],
   "source": [
    "data_cleared.shape"
   ]
  },
  {
   "cell_type": "code",
   "execution_count": 19,
   "metadata": {
    "collapsed": true
   },
   "outputs": [],
   "source": [
    "data_3001_1 = data.drop(data[data.Type == 3001].index[1::2], inplace=False)\n",
    "data_3001_2 = data_3001_1.drop(data_3001_1[data_3001_1.Type == 3001].index[1::2], inplace=False)\n",
    "data_3001_1 = data_3001_1[data_3001_1.Type == 3001].copy()\n",
    "data_3001_2 = data_3001_2[data_3001_2.Type == 3001].copy()\n",
    "data_3001 = pd.concat([data_3001_1, data_3001_2], axis=0, join='inner')"
   ]
  },
  {
   "cell_type": "code",
   "execution_count": 20,
   "metadata": {},
   "outputs": [
    {
     "data": {
      "text/plain": [
       "<matplotlib.axes._subplots.AxesSubplot at 0x1cb0518b4e0>"
      ]
     },
     "execution_count": 20,
     "metadata": {},
     "output_type": "execute_result"
    },
    {
     "data": {
      "image/png": "[encoded data removed]",
      "text/plain": [
       "<matplotlib.figure.Figure at 0x1cb1602f080>"
      ]
     },
     "metadata": {},
     "output_type": "display_data"
    }
   ],
   "source": [
    "plt.figure(figsize=(10,10))\n",
    "sns.countplot(x=\"Type\", data=data_cleared)"
   ]
  },
  {
   "cell_type": "markdown",
   "metadata": {},
   "source": [
    "And we have several classes that are very rare:"
   ]
  },
  {
   "cell_type": "code",
   "execution_count": 21,
   "metadata": {},
   "outputs": [
    {
     "name": "stdout",
     "output_type": "stream",
     "text": [
      "Classes with only 1 sample:  [2002 2080 2104 2106 2110 4009 4025 5106 6014]\n"
     ]
    }
   ],
   "source": [
    "print(\"Classes with only 1 sample: \", key_by_count(1))"
   ]
  },
  {
   "cell_type": "code",
   "execution_count": 23,
   "metadata": {},
   "outputs": [
    {
     "name": "stdout",
     "output_type": "stream",
     "text": [
      "Classes with only 2 sample:  [2010 2076 2107 5107 5111 5127 6006]\n"
     ]
    }
   ],
   "source": [
    "print(\"Classes with only 2 sample: \", key_by_count(2))"
   ]
  },
  {
   "cell_type": "markdown",
   "metadata": {},
   "source": [
    "Delete the entries in data with the total number of a class less than 10:"
   ]
  },
  {
   "cell_type": "code",
   "execution_count": 24,
   "metadata": {
    "collapsed": true
   },
   "outputs": [],
   "source": [
    "def delete_minor_classes(data, min_count = 10):\n",
    "    data_copy = data.copy()\n",
    "    for i in range(1, min_count + 1):\n",
    "        classes = key_by_count(i)\n",
    "        for class_name in classes:\n",
    "            data_copy.drop(data_copy[data_copy.Type==class_name].index, inplace=True)\n",
    "    return data_copy"
   ]
  },
  {
   "cell_type": "code",
   "execution_count": 25,
   "metadata": {
    "collapsed": true
   },
   "outputs": [],
   "source": [
    "data_cleared = delete_minor_classes(data_cleared, 10)"
   ]
  },
  {
   "cell_type": "code",
   "execution_count": 26,
   "metadata": {},
   "outputs": [
    {
     "data": {
      "text/plain": [
       "<matplotlib.axes._subplots.AxesSubplot at 0x1cb04f8ee10>"
      ]
     },
     "execution_count": 26,
     "metadata": {},
     "output_type": "execute_result"
    },
    {
     "data": {
      "image/png": "[encoded data removed]",
      "text/plain": [
       "<matplotlib.figure.Figure at 0x1cb063b3518>"
      ]
     },
     "metadata": {},
     "output_type": "display_data"
    }
   ],
   "source": [
    "plt.figure(figsize=(10,10))\n",
    "sns.countplot(x=\"Type\", data=data_cleared)"
   ]
  },
  {
   "cell_type": "markdown",
   "metadata": {},
   "source": [
    "# 3. Preprocessing and training pipeline"
   ]
  },
  {
   "cell_type": "code",
   "execution_count": 27,
   "metadata": {
    "collapsed": true
   },
   "outputs": [],
   "source": [
    "from sklearn.feature_extraction.text import CountVectorizer, HashingVectorizer\n",
    "from sklearn.feature_extraction.text import TfidfTransformer\n",
    "from sklearn.metrics import accuracy_score\n",
    "from sklearn.model_selection import GridSearchCV, train_test_split\n",
    "from sklearn.linear_model import SGDClassifier\n",
    "from sklearn.pipeline import Pipeline"
   ]
  },
  {
   "cell_type": "markdown",
   "metadata": {},
   "source": [
    "## 3.1 Straigth-forward classification"
   ]
  },
  {
   "cell_type": "markdown",
   "metadata": {},
   "source": [
    "Split the data into train and test sets:"
   ]
  },
  {
   "cell_type": "code",
   "execution_count": 28,
   "metadata": {
    "collapsed": true
   },
   "outputs": [],
   "source": [
    "test_size = 0.2\n",
    "X = np.array(data['Description'])\n",
    "y = np.array(data['Type'], dtype = 'int')\n",
    "X_train, X_test, y_train, y_test = train_test_split(X, y, test_size=test_size, random_state=1234)"
   ]
  },
  {
   "cell_type": "code",
   "execution_count": 29,
   "metadata": {
    "collapsed": true
   },
   "outputs": [],
   "source": [
    "parameters = {'vect__ngram_range': [(1, 2), (1,3)],\n",
    "              'tfidf__use_idf': (True, False),\n",
    "              'clf__alpha': (1e-3, 1e-6, 1e-1),\n",
    "}\n",
    "\n",
    "text_clf = Pipeline([('vect', CountVectorizer()),\n",
    "                     ('tfidf', TfidfTransformer()),\n",
    "                     ('clf', SGDClassifier(loss='log', penalty='l2',\n",
    "                                           alpha=1e-3, random_state=1234,\n",
    "                                           max_iter=6, tol=None, n_jobs=-1)),\n",
    "])\n",
    "\n",
    "gs_clf = GridSearchCV(text_clf, parameters, scoring='accuracy', n_jobs=-1, verbose=True)"
   ]
  },
  {
   "cell_type": "markdown",
   "metadata": {},
   "source": [
    "Train a classifier:"
   ]
  },
  {
   "cell_type": "code",
   "execution_count": null,
   "metadata": {},
   "outputs": [
    {
     "name": "stdout",
     "output_type": "stream",
     "text": [
      "Fitting 3 folds for each of 12 candidates, totalling 36 fits\n"
     ]
    },
    {
     "name": "stderr",
     "output_type": "stream",
     "text": [
      "C:\\Users\\i344436\\AppData\\Local\\Continuum\\Anaconda3\\lib\\site-packages\\sklearn\\model_selection\\_split.py:597: Warning: The least populated class in y has only 1 members, which is too few. The minimum number of members in any class cannot be less than n_splits=3.\n",
      "  % (min_groups, self.n_splits)), Warning)\n"
     ]
    }
   ],
   "source": [
    "gs_clf.fit(X_train, y_train)\n",
    "best_clf = gs_clf.best_estimator_"
   ]
  },
  {
   "cell_type": "markdown",
   "metadata": {},
   "source": [
    "Compute the accuracy:"
   ]
  },
  {
   "cell_type": "code",
   "execution_count": null,
   "metadata": {
    "collapsed": true
   },
   "outputs": [],
   "source": [
    "gs_clf.best_params_"
   ]
  },
  {
   "cell_type": "code",
   "execution_count": null,
   "metadata": {
    "collapsed": true
   },
   "outputs": [],
   "source": [
    "gs_clf.best_score_"
   ]
  },
  {
   "cell_type": "markdown",
   "metadata": {},
   "source": [
    "If we use the initial data set, the resulting accuracy is much worse:"
   ]
  },
  {
   "cell_type": "code",
   "execution_count": null,
   "metadata": {
    "collapsed": true
   },
   "outputs": [],
   "source": [
    "print('Accuracy on the train: ', accuracy_score(y_train, best_clf.predict(X_train)))\n",
    "print('Accuracy on the test: ', accuracy_score(y_test, best_clf.predict(X_test)))"
   ]
  },
  {
   "cell_type": "markdown",
   "metadata": {},
   "source": [
    "## 3.2 Classification using cleared data"
   ]
  },
  {
   "cell_type": "markdown",
   "metadata": {},
   "source": [
    "As we have seen, our data is highly unbalanced, thus we can try to use cleared data, where the most populated class is reduced."
   ]
  },
  {
   "cell_type": "markdown",
   "metadata": {},
   "source": [
    "Split the data into train and test sets:"
   ]
  },
  {
   "cell_type": "code",
   "execution_count": 30,
   "metadata": {
    "collapsed": true
   },
   "outputs": [],
   "source": [
    "data_ = data_cleared.copy()"
   ]
  },
  {
   "cell_type": "code",
   "execution_count": 31,
   "metadata": {
    "collapsed": true
   },
   "outputs": [],
   "source": [
    "from sklearn.model_selection import train_test_split\n",
    "test_size = 0.2\n",
    "X = np.array(data_['Description'])\n",
    "y = np.array(data_['Type'], dtype = 'int')\n",
    "X_train, X_test, y_train, y_test = train_test_split(X, y, test_size=test_size, random_state=1234)"
   ]
  },
  {
   "cell_type": "code",
   "execution_count": 32,
   "metadata": {
    "collapsed": true
   },
   "outputs": [],
   "source": [
    "parameters = {'vect__ngram_range': [(1, 1), (1, 2), (1,3)],\n",
    "              'tfidf__use_idf': (True, False),\n",
    "              'clf__alpha': (1e-5, 1e-6, 1e-7,1e-8),\n",
    "}\n",
    "\n",
    "text_clf = Pipeline([('vect', CountVectorizer()),\n",
    "                     ('tfidf', TfidfTransformer()),\n",
    "                     ('clf', SGDClassifier(loss='log', penalty='l2',\n",
    "                                           alpha=1e-3, random_state=1234,\n",
    "                                           max_iter=5, tol=None, n_jobs=-1)),\n",
    "])\n",
    "\n",
    "gs_clf = GridSearchCV(text_clf, parameters, scoring='accuracy', n_jobs=-1, verbose=True)"
   ]
  },
  {
   "cell_type": "markdown",
   "metadata": {},
   "source": [
    "Train a classifier:"
   ]
  },
  {
   "cell_type": "code",
   "execution_count": null,
   "metadata": {
    "collapsed": true
   },
   "outputs": [],
   "source": [
    "gs_clf.fit(X_train, y_train)\n",
    "best_clf = gs_clf.best_estimator_"
   ]
  },
  {
   "cell_type": "markdown",
   "metadata": {},
   "source": [
    "Compute the accuracy:"
   ]
  },
  {
   "cell_type": "code",
   "execution_count": null,
   "metadata": {
    "collapsed": true
   },
   "outputs": [],
   "source": [
    "gs_clf.best_params_"
   ]
  },
  {
   "cell_type": "code",
   "execution_count": null,
   "metadata": {
    "collapsed": true
   },
   "outputs": [],
   "source": [
    "gs_clf.best_score_"
   ]
  },
  {
   "cell_type": "code",
   "execution_count": null,
   "metadata": {
    "collapsed": true
   },
   "outputs": [],
   "source": [
    "print('Accuracy on the train: ', accuracy_score(y_train, best_clf.predict(X_train)))\n",
    "print('Accuracy on the test: ', accuracy_score(y_test, best_clf.predict(X_test)))"
   ]
  },
  {
   "cell_type": "markdown",
   "metadata": {},
   "source": [
    "## 3.3 Classification without duplicates in data"
   ]
  },
  {
   "cell_type": "code",
   "execution_count": 33,
   "metadata": {},
   "outputs": [
    {
     "data": {
      "text/plain": [
       "(31519, 2)"
      ]
     },
     "execution_count": 33,
     "metadata": {},
     "output_type": "execute_result"
    }
   ],
   "source": [
    "data_cleared.shape"
   ]
  },
  {
   "cell_type": "code",
   "execution_count": 34,
   "metadata": {},
   "outputs": [
    {
     "data": {
      "text/plain": [
       "(28688, 2)"
      ]
     },
     "execution_count": 34,
     "metadata": {},
     "output_type": "execute_result"
    }
   ],
   "source": [
    "data_wh_dup = data_cleared.drop_duplicates(subset=['Description'], inplace=False)\n",
    "data_wh_dup.shape"
   ]
  },
  {
   "cell_type": "code",
   "execution_count": 35,
   "metadata": {},
   "outputs": [
    {
     "data": {
      "text/plain": [
       "<matplotlib.axes._subplots.AxesSubplot at 0x1cb063dcb70>"
      ]
     },
     "execution_count": 35,
     "metadata": {},
     "output_type": "execute_result"
    },
    {
     "data": {
      "image/png": "[encoded data removed]",
      "text/plain": [
       "<matplotlib.figure.Figure at 0x1cb1b2835f8>"
      ]
     },
     "metadata": {},
     "output_type": "display_data"
    }
   ],
   "source": [
    "plt.figure(figsize=(10,10))\n",
    "sns.countplot(x=\"Type\", data=data_wh_dup)"
   ]
  },
  {
   "cell_type": "code",
   "execution_count": 36,
   "metadata": {
    "collapsed": true
   },
   "outputs": [],
   "source": [
    "test_size = 0.2\n",
    "X = np.array(data_wh_dup['Description'])\n",
    "y = np.array(data_wh_dup['Type'], dtype = 'int')\n",
    "X_train, X_test, y_train, y_test = train_test_split(X, y, test_size=test_size, random_state=1234)"
   ]
  },
  {
   "cell_type": "code",
   "execution_count": 37,
   "metadata": {
    "collapsed": true
   },
   "outputs": [],
   "source": [
    "parameters = {'vect__ngram_range': [(1,3), (1,4)],\n",
    "              'vect__min_df': (1e-20, 1e-10),\n",
    "              #'tfidf__use_idf': (True, False),\n",
    "              'clf__alpha': (1e-3, 1e-6)\n",
    "}\n",
    "\n",
    "text_clf = Pipeline([('vect', CountVectorizer()),\n",
    "                     ('tfidf', TfidfTransformer(norm='l1', use_idf=True)),\n",
    "                     ('clf', SGDClassifier(loss='log', penalty='l1',\n",
    "                                           random_state=1234,\n",
    "                                           max_iter=5, tol=None, n_jobs=-1)),\n",
    "])\n",
    "\n",
    "gs_clf = GridSearchCV(text_clf, parameters, scoring='accuracy', n_jobs=-1, verbose=5)"
   ]
  },
  {
   "cell_type": "markdown",
   "metadata": {},
   "source": [
    "Train a classifier:"
   ]
  },
  {
   "cell_type": "code",
   "execution_count": null,
   "metadata": {
    "scrolled": true
   },
   "outputs": [
    {
     "name": "stdout",
     "output_type": "stream",
     "text": [
      "Fitting 3 folds for each of 8 candidates, totalling 24 fits\n"
     ]
    }
   ],
   "source": [
    "gs_clf.fit(X_train, y_train)\n",
    "best_clf = gs_clf.best_estimator_"
   ]
  },
  {
   "cell_type": "markdown",
   "metadata": {},
   "source": [
    "Compute the accuracy:"
   ]
  },
  {
   "cell_type": "code",
   "execution_count": null,
   "metadata": {
    "collapsed": true
   },
   "outputs": [],
   "source": [
    "gs_clf.best_params_"
   ]
  },
  {
   "cell_type": "code",
   "execution_count": null,
   "metadata": {
    "collapsed": true
   },
   "outputs": [],
   "source": [
    "gs_clf.best_score_"
   ]
  },
  {
   "cell_type": "code",
   "execution_count": null,
   "metadata": {
    "collapsed": true,
    "scrolled": true
   },
   "outputs": [],
   "source": [
    "print('Accuracy on the train: ', accuracy_score(y_train, best_clf.predict(X_train)))\n",
    "print('Accuracy on the test: ', accuracy_score(y_test, best_clf.predict(X_test)))"
   ]
  },
  {
   "cell_type": "markdown",
   "metadata": {},
   "source": [
    "### 3.4 TEST"
   ]
  },
  {
   "cell_type": "code",
   "execution_count": 38,
   "metadata": {
    "collapsed": true
   },
   "outputs": [],
   "source": [
    "test_size = 0.2\n",
    "X = np.array(data_wh_dup['Description'])\n",
    "y = np.array(data_wh_dup['Type'], dtype = 'int')\n",
    "X_train, X_test, y_train, y_test = train_test_split(X, y, test_size=test_size, random_state=1234)"
   ]
  },
  {
   "cell_type": "code",
   "execution_count": 39,
   "metadata": {
    "collapsed": true
   },
   "outputs": [],
   "source": [
    "parameters = {'vect__ngram_range': [(1,3)],\n",
    "              'clf__alpha': (1e-1, 1e-7)\n",
    "}\n",
    "\n",
    "text_clf = Pipeline([('vect', CountVectorizer()),\n",
    "                     ('tfidf', TfidfTransformer(use_idf=True)),\n",
    "                     ('clf', SGDClassifier(loss='log', penalty='l1',\n",
    "                                           random_state=1234,\n",
    "                                           max_iter=5, tol=None, n_jobs=-1)),\n",
    "])\n",
    "\n",
    "gs_clf = GridSearchCV(text_clf, parameters, scoring='accuracy', n_jobs=-1, verbose=2)"
   ]
  },
  {
   "cell_type": "markdown",
   "metadata": {},
   "source": [
    "Train a classifier:"
   ]
  },
  {
   "cell_type": "code",
   "execution_count": 40,
   "metadata": {
    "scrolled": true
   },
   "outputs": [
    {
     "name": "stdout",
     "output_type": "stream",
     "text": [
      "Fitting 3 folds for each of 2 candidates, totalling 6 fits\n"
     ]
    },
    {
     "name": "stderr",
     "output_type": "stream",
     "text": [
      "C:\\Users\\i344436\\AppData\\Local\\Continuum\\Anaconda3\\lib\\site-packages\\sklearn\\model_selection\\_split.py:597: Warning: The least populated class in y has only 2 members, which is too few. The minimum number of members in any class cannot be less than n_splits=3.\n",
      "  % (min_groups, self.n_splits)), Warning)\n",
      "[Parallel(n_jobs=-1)]: Done   3 out of   6 | elapsed:   32.6s remaining:   32.6s\n",
      "[Parallel(n_jobs=-1)]: Done   6 out of   6 | elapsed:   48.0s finished\n"
     ]
    }
   ],
   "source": [
    "gs_clf.fit(X_train, y_train)\n",
    "best_clf = gs_clf.best_estimator_"
   ]
  },
  {
   "cell_type": "markdown",
   "metadata": {},
   "source": [
    "Compute the accuracy:"
   ]
  },
  {
   "cell_type": "code",
   "execution_count": 41,
   "metadata": {},
   "outputs": [
    {
     "data": {
      "text/plain": [
       "{'clf__alpha': 1e-07, 'vect__ngram_range': (1, 3)}"
      ]
     },
     "execution_count": 41,
     "metadata": {},
     "output_type": "execute_result"
    }
   ],
   "source": [
    "gs_clf.best_params_"
   ]
  },
  {
   "cell_type": "code",
   "execution_count": 42,
   "metadata": {},
   "outputs": [
    {
     "data": {
      "text/plain": [
       "0.88405228758169929"
      ]
     },
     "execution_count": 42,
     "metadata": {},
     "output_type": "execute_result"
    }
   ],
   "source": [
    "gs_clf.best_score_"
   ]
  },
  {
   "cell_type": "code",
   "execution_count": 43,
   "metadata": {
    "scrolled": true
   },
   "outputs": [
    {
     "name": "stdout",
     "output_type": "stream",
     "text": [
      "Accuracy on the train:  0.998518518519\n",
      "Accuracy on the test:  0.898919484141\n"
     ]
    }
   ],
   "source": [
    "print('Accuracy on the train: ', accuracy_score(y_train, best_clf.predict(X_train)))\n",
    "print('Accuracy on the test: ', accuracy_score(y_test, best_clf.predict(X_test)))"
   ]
  },
  {
   "cell_type": "markdown",
   "metadata": {},
   "source": [
    "# 3. Model Analysis"
   ]
  },
  {
   "cell_type": "markdown",
   "metadata": {},
   "source": [
    "Some useful function:"
   ]
  },
  {
   "cell_type": "code",
   "execution_count": 44,
   "metadata": {
    "collapsed": true
   },
   "outputs": [],
   "source": [
    "def class_by_idx(data, index):\n",
    "    y = np.array(data['Type'], dtype = 'int')\n",
    "    unique, counts = np.unique(y, return_counts=True)\n",
    "    data_dict = dict(zip(unique, counts))\n",
    "    return np.array(list(data_dict.keys()))[index]\n",
    "\n",
    "def find_most_probable_class(data, probabilities, n_classes=2):\n",
    "    probabilities = probabilities[0]\n",
    "    sorted_prob = np.sort(probabilities)\n",
    "    idx_sorted_prob = probabilities.argsort()\n",
    "    return class_by_idx(data, idx_sorted_prob[-n_classes:][::-1]), sorted_prob[-n_classes:][::-1]"
   ]
  },
  {
   "cell_type": "code",
   "execution_count": 45,
   "metadata": {
    "collapsed": true
   },
   "outputs": [],
   "source": [
    "y_pred = best_clf.predict(X_test)\n",
    "\n",
    "mistakes = np.array([i for i in range(len(y_pred)) if (y_pred[i] != y_test[i])])"
   ]
  },
  {
   "cell_type": "code",
   "execution_count": 46,
   "metadata": {},
   "outputs": [
    {
     "data": {
      "text/plain": [
       "array([ 2,  3, 22, 33, 36])"
      ]
     },
     "execution_count": 46,
     "metadata": {},
     "output_type": "execute_result"
    }
   ],
   "source": [
    "mistakes[:5]"
   ]
  },
  {
   "cell_type": "markdown",
   "metadata": {},
   "source": [
    "### Consider several difficult cases:"
   ]
  },
  {
   "cell_type": "markdown",
   "metadata": {},
   "source": [
    "### 1. Similar entries - different classes"
   ]
  },
  {
   "cell_type": "markdown",
   "metadata": {},
   "source": [
    "We see that our classifier confuses **4028** and **3001** classes, and in our data we have several entries, which belong to that classes:"
   ]
  },
  {
   "cell_type": "code",
   "execution_count": 47,
   "metadata": {},
   "outputs": [
    {
     "data": {
      "text/html": [
       "<div>\n",
       "<style>\n",
       "    .dataframe thead tr:only-child th {\n",
       "        text-align: right;\n",
       "    }\n",
       "\n",
       "    .dataframe thead th {\n",
       "        text-align: left;\n",
       "    }\n",
       "\n",
       "    .dataframe tbody tr th {\n",
       "        vertical-align: top;\n",
       "    }\n",
       "</style>\n",
       "<table border=\"1\" class=\"dataframe\">\n",
       "  <thead>\n",
       "    <tr style=\"text-align: right;\">\n",
       "      <th></th>\n",
       "      <th>Type</th>\n",
       "      <th>Description</th>\n",
       "    </tr>\n",
       "  </thead>\n",
       "  <tbody>\n",
       "  </tbody>\n",
       "</table>\n",
       "</div>"
      ],
      "text/plain": [
       "Empty DataFrame\n",
       "Columns: [Type, Description]\n",
       "Index: []"
      ]
     },
     "execution_count": 47,
     "metadata": {},
     "output_type": "execute_result"
    }
   ],
   "source": [
    "entry = 'Арендная плата за ноябрь 2015г по ДАЗУ 45-ю от 20.02.2007г. НДС не облагается№REF<<ИМЯ>ИНН=6646001507КПП=664601001'\n",
    "data_cleared[data_cleared.Description == entry]"
   ]
  },
  {
   "cell_type": "code",
   "execution_count": 48,
   "metadata": {
    "collapsed": true
   },
   "outputs": [],
   "source": [
    "probs = best_clf.predict_proba([X_test[3]])"
   ]
  },
  {
   "cell_type": "code",
   "execution_count": 49,
   "metadata": {},
   "outputs": [
    {
     "data": {
      "text/plain": [
       "(array([5003, 5103]), array([ 0.99841318,  0.00138896]))"
      ]
     },
     "execution_count": 49,
     "metadata": {},
     "output_type": "execute_result"
    }
   ],
   "source": [
    "find_most_probable_class(data_cleared, probs, 2)"
   ]
  },
  {
   "cell_type": "code",
   "execution_count": 50,
   "metadata": {},
   "outputs": [
    {
     "data": {
      "text/html": [
       "<div>\n",
       "<style>\n",
       "    .dataframe thead tr:only-child th {\n",
       "        text-align: right;\n",
       "    }\n",
       "\n",
       "    .dataframe thead th {\n",
       "        text-align: left;\n",
       "    }\n",
       "\n",
       "    .dataframe tbody tr th {\n",
       "        vertical-align: top;\n",
       "    }\n",
       "</style>\n",
       "<table border=\"1\" class=\"dataframe\">\n",
       "  <thead>\n",
       "    <tr style=\"text-align: right;\">\n",
       "      <th></th>\n",
       "      <th>Type</th>\n",
       "      <th>Description</th>\n",
       "    </tr>\n",
       "  </thead>\n",
       "  <tbody>\n",
       "  </tbody>\n",
       "</table>\n",
       "</div>"
      ],
      "text/plain": [
       "Empty DataFrame\n",
       "Columns: [Type, Description]\n",
       "Index: []"
      ]
     },
     "execution_count": 50,
     "metadata": {},
     "output_type": "execute_result"
    }
   ],
   "source": [
    "entry = 'Арендная плата за октябрь 2013г. по ДАЗУ 33 от 13.12.2005 НДС не облагается<<ИМЯ>УФК по Свердловской области (МУГИСО)ИНН=6658091960КПП=667001001'\n",
    "data_cleared[data_cleared.Description == entry]"
   ]
  },
  {
   "cell_type": "markdown",
   "metadata": {},
   "source": [
    "### 2. Abbreviations"
   ]
  },
  {
   "cell_type": "code",
   "execution_count": 51,
   "metadata": {},
   "outputs": [
    {
     "data": {
      "text/plain": [
       "'Зачислить на карту прочие выплаты согласно положения от 01.01.2008г. НДС не облагается№REF8899<<ИМЯ>Сивцов Сергей БорисовичИНН=000000000000КПП='"
      ]
     },
     "execution_count": 51,
     "metadata": {},
     "output_type": "execute_result"
    }
   ],
   "source": [
    "X_test[7]"
   ]
  },
  {
   "cell_type": "code",
   "execution_count": 52,
   "metadata": {},
   "outputs": [
    {
     "name": "stdout",
     "output_type": "stream",
     "text": [
      "Зачислить на карту прочие выплаты согласно положения от 01.01.2008г. НДС не облагается№REF8899<<ИМЯ>Сивцов Сергей БорисовичИНН=000000000000КПП=\n",
      "true: 3001\n",
      "pred: 3001\n"
     ]
    }
   ],
   "source": [
    "j = 7\n",
    "print(str(X_test[j]) + '\\ntrue: ' + str(y_test[j]) + '\\npred: ' + str(y_pred[j]))"
   ]
  },
  {
   "cell_type": "code",
   "execution_count": 53,
   "metadata": {},
   "outputs": [
    {
     "data": {
      "text/plain": [
       "(array([3001, 4014, 5002, 4005, 4018, 4008, 1001]),\n",
       " array([  9.99705396e-01,   1.12886262e-04,   1.61163865e-05,\n",
       "          1.25658001e-05,   1.00905179e-05,   9.81668380e-06,\n",
       "          7.66317311e-06]))"
      ]
     },
     "execution_count": 53,
     "metadata": {},
     "output_type": "execute_result"
    }
   ],
   "source": [
    "prob = best_clf.predict_proba([X_test[j]])\n",
    "find_most_probable_class(data_cleared, prob, j)"
   ]
  },
  {
   "cell_type": "markdown",
   "metadata": {},
   "source": [
    "### 3. Similar classes\n"
   ]
  },
  {
   "cell_type": "markdown",
   "metadata": {},
   "source": [
    "The first thing to consider is that classes **2101** and **2103** are pretty similar:"
   ]
  },
  {
   "cell_type": "markdown",
   "metadata": {},
   "source": [
    "And our classifier works fine:"
   ]
  },
  {
   "cell_type": "code",
   "execution_count": 54,
   "metadata": {
    "collapsed": true
   },
   "outputs": [],
   "source": [
    "def lazy_print(idx):\n",
    "    print('%r => %s, true: %s' % (X_test[idx], best_clf.predict([X_test[idx]]),y_test[idx]))"
   ]
  },
  {
   "cell_type": "code",
   "execution_count": 55,
   "metadata": {},
   "outputs": [
    {
     "name": "stdout",
     "output_type": "stream",
     "text": [
      "'Комиссия за перевод средств. П/п N 22716№REF<<ИМЯ>ПАО РОСБАНКИНН=7730060164КПП=997950001' => [6001], true: 6001\n"
     ]
    }
   ],
   "source": [
    "lazy_print(12)"
   ]
  },
  {
   "cell_type": "code",
   "execution_count": 56,
   "metadata": {},
   "outputs": [
    {
     "data": {
      "text/plain": [
       "(array([6001, 5002, 2077]),\n",
       " array([  9.99996772e-01,   9.61099452e-07,   3.85046516e-07]))"
      ]
     },
     "execution_count": 56,
     "metadata": {},
     "output_type": "execute_result"
    }
   ],
   "source": [
    "find_most_probable_class(data_cleared, best_clf.predict_proba([X_test[12]]), n_classes=3)"
   ]
  },
  {
   "cell_type": "code",
   "execution_count": 57,
   "metadata": {},
   "outputs": [
    {
     "data": {
      "text/plain": [
       "(580,)"
      ]
     },
     "execution_count": 57,
     "metadata": {},
     "output_type": "execute_result"
    }
   ],
   "source": [
    "mistakes.shape"
   ]
  },
  {
   "cell_type": "markdown",
   "metadata": {
    "collapsed": true
   },
   "source": [
    "### 4. Other mistakes"
   ]
  },
  {
   "cell_type": "code",
   "execution_count": 58,
   "metadata": {},
   "outputs": [
    {
     "data": {
      "text/plain": [
       "array([   2,    3,   22,   33,   36,   52,   77,  101,  102,  103,  106,\n",
       "        107,  108,  109,  112,  123,  130,  151,  179,  182,  194,  203,\n",
       "        214,  222,  225,  239,  246,  252,  258,  269,  301,  304,  319,\n",
       "        340,  367,  390,  410,  412,  422,  424,  429,  440,  444,  468,\n",
       "        472,  475,  481,  514,  517,  518,  523,  535,  546,  552,  555,\n",
       "        556,  557,  571,  576,  580,  603,  607,  614,  617,  635,  641,\n",
       "        647,  652,  664,  665,  668,  679,  687,  691,  696,  697,  736,\n",
       "        741,  744,  750,  784,  791,  794,  795,  803,  835,  839,  851,\n",
       "        862,  863,  891,  904,  909,  935,  957,  977,  981,  982,  986,\n",
       "        987,  995,  996, 1003, 1005, 1007, 1009, 1026, 1028, 1030, 1051,\n",
       "       1052, 1056, 1058, 1073, 1101, 1118, 1119, 1128, 1133, 1137, 1151,\n",
       "       1157, 1192, 1193, 1203, 1220, 1253, 1275, 1292, 1306, 1319, 1324,\n",
       "       1326, 1351, 1357, 1358, 1370, 1378, 1379, 1383, 1385, 1388, 1417,\n",
       "       1432, 1433, 1441, 1446, 1479, 1495, 1497, 1503, 1509, 1574, 1590,\n",
       "       1618, 1630, 1648, 1649, 1655, 1656, 1658, 1686, 1696, 1697, 1703,\n",
       "       1705, 1723, 1729, 1732, 1751, 1752, 1771, 1773, 1774, 1784, 1790,\n",
       "       1796, 1799, 1805, 1810, 1821, 1823, 1843, 1878, 1887, 1892, 1893,\n",
       "       1895, 1899, 1929, 1953, 1955, 1962, 1965, 1980, 1995, 2005, 2007,\n",
       "       2022, 2024, 2028, 2043, 2081, 2110, 2113, 2127, 2145, 2167, 2187,\n",
       "       2199, 2205, 2212, 2219, 2229, 2238, 2255, 2274, 2285, 2288, 2289,\n",
       "       2295, 2296, 2310, 2316, 2323, 2338, 2363, 2381, 2389, 2390, 2394,\n",
       "       2396, 2404, 2416, 2420, 2430, 2461, 2478, 2480, 2482, 2488, 2515,\n",
       "       2521, 2536, 2542, 2559, 2562, 2567, 2570, 2574, 2592, 2615, 2621,\n",
       "       2630, 2639, 2648, 2649, 2657, 2659, 2667, 2668, 2674, 2679, 2684,\n",
       "       2690, 2697, 2707, 2716, 2723, 2742, 2744, 2752, 2757, 2767, 2772,\n",
       "       2776, 2784, 2785, 2799, 2806, 2826, 2830, 2840, 2841, 2854, 2860,\n",
       "       2863, 2866, 2868, 2882, 2895, 2902, 2908, 2915, 2916, 2923, 2929,\n",
       "       2932, 2937, 2962, 2973, 2980, 2993, 3015, 3022, 3030, 3039, 3041,\n",
       "       3042, 3055, 3064, 3065, 3066, 3068, 3075, 3103, 3107, 3136, 3152,\n",
       "       3168, 3191, 3193, 3243, 3257, 3260, 3266, 3269, 3272, 3276, 3287,\n",
       "       3304, 3306, 3309, 3324, 3329, 3332, 3338, 3339, 3356, 3376, 3382,\n",
       "       3393, 3409, 3418, 3419, 3421, 3425, 3432, 3433, 3435, 3451, 3454,\n",
       "       3458, 3472, 3474, 3492, 3494, 3510, 3518, 3529, 3532, 3536, 3538,\n",
       "       3539, 3557, 3561, 3566, 3578, 3582, 3590, 3599, 3606, 3608, 3680,\n",
       "       3682, 3687, 3694, 3718, 3726, 3749, 3752, 3756, 3764, 3765, 3774,\n",
       "       3784, 3808, 3809, 3831, 3840, 3844, 3845, 3846, 3871, 3873, 3887,\n",
       "       3890, 3898, 3899, 3901, 3915, 3918, 3932, 3950, 3953, 3985, 3992,\n",
       "       3995, 3996, 4027, 4037, 4040, 4056, 4064, 4078, 4085, 4098, 4115,\n",
       "       4119, 4132, 4147, 4150, 4180, 4195, 4197, 4202, 4231, 4238, 4241,\n",
       "       4250, 4254, 4265, 4273, 4277, 4290, 4295, 4305, 4315, 4328, 4337,\n",
       "       4342, 4344, 4356, 4360, 4377, 4392, 4415, 4425, 4443, 4445, 4451,\n",
       "       4467, 4468, 4481, 4505, 4509, 4522, 4524, 4536, 4540, 4555, 4560,\n",
       "       4567, 4582, 4590, 4600, 4602, 4607, 4617, 4621, 4626, 4627, 4654,\n",
       "       4660, 4666, 4671, 4673, 4678, 4683, 4687, 4695, 4699, 4702, 4708,\n",
       "       4718, 4726, 4744, 4747, 4755, 4764, 4775, 4778, 4780, 4783, 4785,\n",
       "       4791, 4825, 4833, 4860, 4862, 4866, 4876, 4880, 4884, 4886, 4900,\n",
       "       4918, 4921, 4923, 4928, 4932, 4934, 4946, 4947, 4954, 4960, 4968,\n",
       "       4972, 4983, 4988, 4989, 5018, 5019, 5026, 5061, 5119, 5120, 5132,\n",
       "       5146, 5154, 5173, 5190, 5194, 5201, 5206, 5228, 5230, 5242, 5254,\n",
       "       5258, 5259, 5261, 5282, 5287, 5307, 5314, 5349, 5401, 5402, 5412,\n",
       "       5419, 5422, 5423, 5436, 5464, 5477, 5480, 5524, 5530, 5538, 5551,\n",
       "       5561, 5575, 5579, 5585, 5588, 5597, 5614, 5617, 5622, 5635, 5651,\n",
       "       5655, 5667, 5673, 5676, 5684, 5707, 5722, 5732])"
      ]
     },
     "execution_count": 58,
     "metadata": {},
     "output_type": "execute_result"
    }
   ],
   "source": [
    "mistakes"
   ]
  },
  {
   "cell_type": "code",
   "execution_count": 59,
   "metadata": {
    "scrolled": true
   },
   "outputs": [
    {
     "name": "stdout",
     "output_type": "stream",
     "text": [
      "'Перевод собственных средств. НДС не облагается.№REF00185<<ИМЯ>ИНН=4823006703КПП=997550001' => [5102], true: 5102\n"
     ]
    }
   ],
   "source": [
    "lazy_print(9)"
   ]
  },
  {
   "cell_type": "code",
   "execution_count": 60,
   "metadata": {},
   "outputs": [
    {
     "data": {
      "text/html": [
       "<div>\n",
       "<style>\n",
       "    .dataframe thead tr:only-child th {\n",
       "        text-align: right;\n",
       "    }\n",
       "\n",
       "    .dataframe thead th {\n",
       "        text-align: left;\n",
       "    }\n",
       "\n",
       "    .dataframe tbody tr th {\n",
       "        vertical-align: top;\n",
       "    }\n",
       "</style>\n",
       "<table border=\"1\" class=\"dataframe\">\n",
       "  <thead>\n",
       "    <tr style=\"text-align: right;\">\n",
       "      <th></th>\n",
       "      <th>Type</th>\n",
       "      <th>Description</th>\n",
       "    </tr>\n",
       "  </thead>\n",
       "  <tbody>\n",
       "  </tbody>\n",
       "</table>\n",
       "</div>"
      ],
      "text/plain": [
       "Empty DataFrame\n",
       "Columns: [Type, Description]\n",
       "Index: []"
      ]
     },
     "execution_count": 60,
     "metadata": {},
     "output_type": "execute_result"
    }
   ],
   "source": [
    "entry = 'Списание долларов США для продажи согласно заявки №67от 01.03.2012г.№REF40740894<<ИМЯ>ИНН=7729405872'\n",
    "data_cleared[data_cleared.Description == entry]"
   ]
  },
  {
   "cell_type": "code",
   "execution_count": 62,
   "metadata": {},
   "outputs": [
    {
     "data": {
      "text/plain": [
       "(array([5003, 5103]), array([ 0.99841318,  0.00138896]))"
      ]
     },
     "execution_count": 62,
     "metadata": {},
     "output_type": "execute_result"
    }
   ],
   "source": [
    "find_most_probable_class(data_cleared, probs, 2)"
   ]
  },
  {
   "cell_type": "code",
   "execution_count": 63,
   "metadata": {},
   "outputs": [
    {
     "data": {
      "text/html": [
       "<div>\n",
       "<style>\n",
       "    .dataframe thead tr:only-child th {\n",
       "        text-align: right;\n",
       "    }\n",
       "\n",
       "    .dataframe thead th {\n",
       "        text-align: left;\n",
       "    }\n",
       "\n",
       "    .dataframe tbody tr th {\n",
       "        vertical-align: top;\n",
       "    }\n",
       "</style>\n",
       "<table border=\"1\" class=\"dataframe\">\n",
       "  <thead>\n",
       "    <tr style=\"text-align: right;\">\n",
       "      <th></th>\n",
       "      <th>Type</th>\n",
       "      <th>Description</th>\n",
       "    </tr>\n",
       "  </thead>\n",
       "  <tbody>\n",
       "  </tbody>\n",
       "</table>\n",
       "</div>"
      ],
      "text/plain": [
       "Empty DataFrame\n",
       "Columns: [Type, Description]\n",
       "Index: []"
      ]
     },
     "execution_count": 63,
     "metadata": {},
     "output_type": "execute_result"
    }
   ],
   "source": [
    "entry = 'Арендная плата за октябрь 2013г. по ДАЗУ 33 от 13.12.2005 НДС не облагается<<ИМЯ>УФК по Свердловской области (МУГИСО)ИНН=6658091960КПП=667001001'\n",
    "data_cleared[data_cleared.Description == entry]"
   ]
  },
  {
   "cell_type": "code",
   "execution_count": 64,
   "metadata": {},
   "outputs": [
    {
     "data": {
      "text/plain": [
       "0.99818876259421252"
      ]
     },
     "execution_count": 64,
     "metadata": {},
     "output_type": "execute_result"
    }
   ],
   "source": [
    "best_clf.predict_proba([\"Aвансовый платеж по дог.NA2100252 от 01.03.2010г.на продажу авиа и ж/д билетов Вт.ч. НДС 18%- 38135-59№REF71639<<ИМЯ>ФГУП  ГлавУпДК при МИД РоссииИНН=7704010978КПП=774801001\"]).max()"
   ]
  },
  {
   "cell_type": "code",
   "execution_count": 65,
   "metadata": {},
   "outputs": [
    {
     "data": {
      "text/plain": [
       "0.99946956390301167"
      ]
     },
     "execution_count": 65,
     "metadata": {},
     "output_type": "execute_result"
    }
   ],
   "source": [
    "best_clf.predict_proba(['Из ЗП Ястребцовой С. А. заянварь 2012 г. оплата по договору купли-продажи гаражного бокса N5/824 от 29.04.2011 НДС не облагается<<ИМЯ>Филиал ОАО  НЛМК  в г.Екатеринбурге- НЛМК-УралИНН=4823006703КПП=665843001']).max()"
   ]
  },
  {
   "cell_type": "code",
   "execution_count": 66,
   "metadata": {},
   "outputs": [
    {
     "data": {
      "text/plain": [
       "array([3001])"
      ]
     },
     "execution_count": 66,
     "metadata": {},
     "output_type": "execute_result"
    }
   ],
   "source": [
    "best_clf.predict(['Оплата за вкладыш в трудовую книжку Болонь Никита Евгеньевич НДС не облагается№REF435<<ИМЯ>ИНН=6646009256КПП=662701001'])"
   ]
  },
  {
   "cell_type": "markdown",
   "metadata": {
    "collapsed": true
   },
   "source": [
    "### 5. Save model"
   ]
  },
  {
   "cell_type": "code",
   "execution_count": 67,
   "metadata": {
    "collapsed": true
   },
   "outputs": [],
   "source": [
    "pickle.dump(best_clf, open( \"clf_small.pkl\", \"wb\" ) )"
   ]
  },
  {
   "cell_type": "markdown",
   "metadata": {},
   "source": [
    "### 6. Load model"
   ]
  },
  {
   "cell_type": "code",
   "execution_count": 68,
   "metadata": {
    "collapsed": true
   },
   "outputs": [],
   "source": [
    "clf = pickle.load(open( \"clf_small.pkl\", \"rb\") )"
   ]
  },
  {
   "cell_type": "code",
   "execution_count": 69,
   "metadata": {},
   "outputs": [
    {
     "data": {
      "text/plain": [
       "array([3001])"
      ]
     },
     "execution_count": 69,
     "metadata": {},
     "output_type": "execute_result"
    }
   ],
   "source": [
    "clf.predict(['закрой че нить'])"
   ]
  },
  {
   "cell_type": "code",
   "execution_count": 70,
   "metadata": {
    "collapsed": true
   },
   "outputs": [],
   "source": [
    "labels = np.zeros(4)\n",
    "probs = clf.predict_proba(['открой и закрой пожалуйста что нить'])[0]"
   ]
  },
  {
   "cell_type": "code",
   "execution_count": null,
   "metadata": {
    "collapsed": true
   },
   "outputs": [],
   "source": []
  }
 ],
 "metadata": {
  "kernelspec": {
   "display_name": "Python 3",
   "language": "python",
   "name": "python3"
  },
  "language_info": {
   "codemirror_mode": {
    "name": "ipython",
    "version": 3
   },
   "file_extension": ".py",
   "mimetype": "text/x-python",
   "name": "python",
   "nbconvert_exporter": "python",
   "pygments_lexer": "ipython3",
   "version": "3.6.1"
  }
 },
 "nbformat": 4,
 "nbformat_minor": 2
}
