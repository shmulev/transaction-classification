{
 "cells": [
  {
   "cell_type": "markdown",
   "metadata": {},
   "source": [
    "# Text classification of Voice Commands\n",
    "### Sections:\n",
    "* [1. Load datasets](#section1)\n",
    "* [2. Data analysis](#section2)\n",
    "* [3. Training pipeline](#section3)\n",
    "* [4. Model analysis](#section4)\n",
    "* [5. Postprocessing](#section5)"
   ]
  },
  {
   "cell_type": "markdown",
   "metadata": {},
   "source": [
    "Some useful imports:"
   ]
  },
  {
   "cell_type": "code",
   "execution_count": 2,
   "metadata": {
    "collapsed": true
   },
   "outputs": [],
   "source": [
    "import pandas as pd\n",
    "import sklearn as sk\n",
    "import numpy as np\n",
    "import matplotlib.pyplot as plt\n",
    "import seaborn as sns\n",
    "\n",
    "import json\n",
    "from pprint import pprint\n",
    "\n",
    "import pickle\n",
    "\n",
    "%matplotlib inline"
   ]
  },
  {
   "cell_type": "markdown",
   "metadata": {},
   "source": [
    "Fix random seed:"
   ]
  },
  {
   "cell_type": "code",
   "execution_count": 3,
   "metadata": {
    "collapsed": true
   },
   "outputs": [],
   "source": [
    "np.random.seed(1234)"
   ]
  },
  {
   "cell_type": "markdown",
   "metadata": {},
   "source": [
    "# 1. Load the data <a id=\"section1\"/>"
   ]
  },
  {
   "cell_type": "code",
   "execution_count": 4,
   "metadata": {
    "collapsed": true
   },
   "outputs": [],
   "source": [
    "data = pd.read_csv('500k.csv',sep='\\t',header=None, names=['INN', 'KPP','Type','Description'])\n",
    "data.drop(['INN', 'KPP'], axis=1, inplace=True)\n",
    "data = pd.DataFrame({'Type': np.array(data['Type'], dtype='int'), 'Description': np.array(data['Description'])})\n",
    "data = data[['Type', 'Description']]"
   ]
  },
  {
   "cell_type": "code",
   "execution_count": 5,
   "metadata": {},
   "outputs": [
    {
     "name": "stdout",
     "output_type": "stream",
     "text": [
      "Data size:  (500000, 2)\n"
     ]
    },
    {
     "data": {
      "text/html": [
       "<div>\n",
       "<style>\n",
       "    .dataframe thead tr:only-child th {\n",
       "        text-align: right;\n",
       "    }\n",
       "\n",
       "    .dataframe thead th {\n",
       "        text-align: left;\n",
       "    }\n",
       "\n",
       "    .dataframe tbody tr th {\n",
       "        vertical-align: top;\n",
       "    }\n",
       "</style>\n",
       "<table border=\"1\" class=\"dataframe\">\n",
       "  <thead>\n",
       "    <tr style=\"text-align: right;\">\n",
       "      <th></th>\n",
       "      <th>Type</th>\n",
       "      <th>Description</th>\n",
       "    </tr>\n",
       "  </thead>\n",
       "  <tbody>\n",
       "    <tr>\n",
       "      <th>0</th>\n",
       "      <td>4022</td>\n",
       "      <td>Предоплата за поверку СИ по счетам N 140808 от...</td>\n",
       "    </tr>\n",
       "    <tr>\n",
       "      <th>1</th>\n",
       "      <td>4022</td>\n",
       "      <td>Оплата услуг по договору N40077 от 9 февраля 2...</td>\n",
       "    </tr>\n",
       "    <tr>\n",
       "      <th>2</th>\n",
       "      <td>4022</td>\n",
       "      <td>Aвансовый платеж за услугибульдозеров SD32, CA...</td>\n",
       "    </tr>\n",
       "    <tr>\n",
       "      <th>3</th>\n",
       "      <td>3001</td>\n",
       "      <td>Оплата за Проектные работыи предпроектные прор...</td>\n",
       "    </tr>\n",
       "    <tr>\n",
       "      <th>4</th>\n",
       "      <td>4018</td>\n",
       "      <td>предоплата за рекламу в газете и на сайте  Ком...</td>\n",
       "    </tr>\n",
       "  </tbody>\n",
       "</table>\n",
       "</div>"
      ],
      "text/plain": [
       "   Type                                        Description\n",
       "0  4022  Предоплата за поверку СИ по счетам N 140808 от...\n",
       "1  4022  Оплата услуг по договору N40077 от 9 февраля 2...\n",
       "2  4022  Aвансовый платеж за услугибульдозеров SD32, CA...\n",
       "3  3001  Оплата за Проектные работыи предпроектные прор...\n",
       "4  4018  предоплата за рекламу в газете и на сайте  Ком..."
      ]
     },
     "execution_count": 5,
     "metadata": {},
     "output_type": "execute_result"
    }
   ],
   "source": [
    "print('Data size: ', data.shape)\n",
    "data.head()"
   ]
  },
  {
   "cell_type": "code",
   "execution_count": 6,
   "metadata": {},
   "outputs": [
    {
     "name": "stdout",
     "output_type": "stream",
     "text": [
      "<class 'pandas.core.frame.DataFrame'>\n",
      "RangeIndex: 500000 entries, 0 to 499999\n",
      "Data columns (total 2 columns):\n",
      "Type           500000 non-null int32\n",
      "Description    498135 non-null object\n",
      "dtypes: int32(1), object(1)\n",
      "memory usage: 5.7+ MB\n"
     ]
    }
   ],
   "source": [
    "data.info()"
   ]
  },
  {
   "cell_type": "code",
   "execution_count": 7,
   "metadata": {
    "scrolled": true
   },
   "outputs": [
    {
     "name": "stdout",
     "output_type": "stream",
     "text": [
      "Data size:  (498135, 2)\n"
     ]
    }
   ],
   "source": [
    "data.dropna(inplace=True)\n",
    "print('Data size: ', data.shape)"
   ]
  },
  {
   "cell_type": "code",
   "execution_count": 8,
   "metadata": {},
   "outputs": [
    {
     "name": "stdout",
     "output_type": "stream",
     "text": [
      "Data size without duplicates:  (429426, 2)\n"
     ]
    }
   ],
   "source": [
    "data.drop_duplicates(subset=['Type','Description'], inplace=True)\n",
    "print('Data size without duplicates: ', data.shape)"
   ]
  },
  {
   "cell_type": "code",
   "execution_count": 9,
   "metadata": {
    "collapsed": true
   },
   "outputs": [],
   "source": [
    "X = np.array(data['Description'])\n",
    "y = np.array(data['Type'], dtype = 'int')"
   ]
  },
  {
   "cell_type": "markdown",
   "metadata": {},
   "source": [
    "# 2. Data analysis <a id=\"section2\"/>"
   ]
  },
  {
   "cell_type": "code",
   "execution_count": 10,
   "metadata": {},
   "outputs": [
    {
     "name": "stdout",
     "output_type": "stream",
     "text": [
      "The number of classes:  133\n"
     ]
    }
   ],
   "source": [
    "print('The number of classes: ', len(np.unique(y)))\n",
    "unique, counts = np.unique(y, return_counts=True)\n",
    "data_dict = dict(zip(unique, counts))"
   ]
  },
  {
   "cell_type": "code",
   "execution_count": 11,
   "metadata": {
    "collapsed": true
   },
   "outputs": [],
   "source": [
    "def idx_by_count(count):\n",
    "    return np.where(np.array(list(data_dict.values())) == count)[0]\n",
    "\n",
    "def key_by_count(count):\n",
    "    return np.array(list(data_dict.items()))[:,0][idx_by_count(count)]"
   ]
  },
  {
   "cell_type": "markdown",
   "metadata": {},
   "source": [
    "Plot now a diagram of interclass distribution:"
   ]
  },
  {
   "cell_type": "code",
   "execution_count": 12,
   "metadata": {},
   "outputs": [
    {
     "data": {
      "text/plain": [
       "<matplotlib.axes._subplots.AxesSubplot at 0x20f30dd40f0>"
      ]
     },
     "execution_count": 12,
     "metadata": {},
     "output_type": "execute_result"
    },
    {
     "data": {
      "image/png": "[encoded data removed]",
      "text/plain": [
       "<matplotlib.figure.Figure at 0x20f4a8ed4a8>"
      ]
     },
     "metadata": {},
     "output_type": "display_data"
    }
   ],
   "source": [
    "plt.figure(figsize=(10,10))\n",
    "sns.countplot(x=\"Type\", data=data)"
   ]
  },
  {
   "cell_type": "markdown",
   "metadata": {},
   "source": [
    "We see that we have 25% of our data belonging to one class, which means that our data is strongly unbalanced. Find this class:"
   ]
  },
  {
   "cell_type": "code",
   "execution_count": 13,
   "metadata": {},
   "outputs": [
    {
     "name": "stdout",
     "output_type": "stream",
     "text": [
      "Most populated class is:  [3001]\n"
     ]
    }
   ],
   "source": [
    "print(\"Most populated class is: \", key_by_count(counts.max()))"
   ]
  },
  {
   "cell_type": "markdown",
   "metadata": {},
   "source": [
    "Delete 75% of this class instances:"
   ]
  },
  {
   "cell_type": "code",
   "execution_count": 14,
   "metadata": {
    "collapsed": true
   },
   "outputs": [],
   "source": [
    "data_cleared= data.drop(data[data.Type==3001].index[::2], inplace=False)\n",
    "data_cleared = data_cleared.drop(data_cleared[data_cleared.Type==3001].index[::2], inplace=False)"
   ]
  },
  {
   "cell_type": "code",
   "execution_count": 15,
   "metadata": {
    "collapsed": true
   },
   "outputs": [],
   "source": [
    "data_3001_1 = data.drop(data[data.Type == 3001].index[1::2], inplace=False)\n",
    "data_3001_2 = data_3001_1.drop(data_3001_1[data_3001_1.Type == 3001].index[1::2], inplace=False)\n",
    "data_3001_1 = data_3001_1[data_3001_1.Type == 3001].copy()\n",
    "data_3001_2 = data_3001_2[data_3001_2.Type == 3001].copy()\n",
    "data_3001 = pd.concat([data_3001_1, data_3001_2], axis=0, join='inner')"
   ]
  },
  {
   "cell_type": "code",
   "execution_count": 16,
   "metadata": {},
   "outputs": [
    {
     "data": {
      "text/plain": [
       "<matplotlib.axes._subplots.AxesSubplot at 0x20f3b7eb898>"
      ]
     },
     "execution_count": 16,
     "metadata": {},
     "output_type": "execute_result"
    },
    {
     "data": {
      "image/png": "[encoded data removed]",
      "text/plain": [
       "<matplotlib.figure.Figure at 0x20f4a8edcf8>"
      ]
     },
     "metadata": {},
     "output_type": "display_data"
    }
   ],
   "source": [
    "plt.figure(figsize=(10,10))\n",
    "sns.countplot(x=\"Type\", data=data_cleared)"
   ]
  },
  {
   "cell_type": "markdown",
   "metadata": {},
   "source": [
    "And we have several classes that are very rare:"
   ]
  },
  {
   "cell_type": "code",
   "execution_count": 17,
   "metadata": {},
   "outputs": [
    {
     "name": "stdout",
     "output_type": "stream",
     "text": [
      "Classes with only 1 sample:  [2011 2047 2074 2084 2120 2129 4105 4117 5010 5125 6218]\n"
     ]
    }
   ],
   "source": [
    "print(\"Classes with only 1 sample: \", key_by_count(1))"
   ]
  },
  {
   "cell_type": "code",
   "execution_count": 18,
   "metadata": {},
   "outputs": [
    {
     "name": "stdout",
     "output_type": "stream",
     "text": [
      "Classes with only 2 sample:  [2002 2005 2110 2127 4110 5105]\n"
     ]
    }
   ],
   "source": [
    "print(\"Classes with only 2 sample: \", key_by_count(2))"
   ]
  },
  {
   "cell_type": "markdown",
   "metadata": {},
   "source": [
    "Delete the entries in data with the total number of a class less than 10:"
   ]
  },
  {
   "cell_type": "code",
   "execution_count": 19,
   "metadata": {
    "collapsed": true
   },
   "outputs": [],
   "source": [
    "def delete_minor_classes(data, min_count = 10):\n",
    "    data_copy = data.copy()\n",
    "    for i in range(1, min_count + 1):\n",
    "        classes = key_by_count(i)\n",
    "        for class_name in classes:\n",
    "            data_copy.drop(data_copy[data_copy.Type==class_name].index, inplace=True)\n",
    "    return data_copy"
   ]
  },
  {
   "cell_type": "code",
   "execution_count": 20,
   "metadata": {
    "collapsed": true
   },
   "outputs": [],
   "source": [
    "data_cleared = delete_minor_classes(data_cleared, 10)"
   ]
  },
  {
   "cell_type": "code",
   "execution_count": 21,
   "metadata": {},
   "outputs": [
    {
     "data": {
      "text/plain": [
       "<matplotlib.axes._subplots.AxesSubplot at 0x20f3bab7f98>"
      ]
     },
     "execution_count": 21,
     "metadata": {},
     "output_type": "execute_result"
    },
    {
     "data": {
      "image/png": "[encoded data removed]",
      "text/plain": [
       "<matplotlib.figure.Figure at 0x20f3bae0d30>"
      ]
     },
     "metadata": {},
     "output_type": "display_data"
    }
   ],
   "source": [
    "plt.figure(figsize=(10,10))\n",
    "sns.countplot(x=\"Type\", data=data_cleared)"
   ]
  },
  {
   "cell_type": "markdown",
   "metadata": {},
   "source": [
    "# 3. Preprocessing and training pipeline <a id=\"section3\"/>"
   ]
  },
  {
   "cell_type": "code",
   "execution_count": 24,
   "metadata": {
    "collapsed": true
   },
   "outputs": [],
   "source": [
    "from sklearn.feature_extraction.text import CountVectorizer, HashingVectorizer\n",
    "from sklearn.feature_extraction.text import TfidfTransformer\n",
    "from sklearn.metrics import accuracy_score, classification_report\n",
    "from sklearn.model_selection import GridSearchCV, train_test_split\n",
    "from sklearn.linear_model import SGDClassifier\n",
    "from sklearn.pipeline import Pipeline\n",
    "from utils import stemming"
   ]
  },
  {
   "cell_type": "code",
   "execution_count": 25,
   "metadata": {
    "collapsed": true
   },
   "outputs": [],
   "source": [
    "from nltk.corpus import stopwords\n",
    "stopwordlist = stopwords.words('russian')"
   ]
  },
  {
   "cell_type": "markdown",
   "metadata": {},
   "source": [
    "## 3.1 Straight-forward Classification <a id=\"section3.1\"/>"
   ]
  },
  {
   "cell_type": "markdown",
   "metadata": {},
   "source": [
    "# <font color='red'>TODO: ???</font>"
   ]
  },
  {
   "cell_type": "markdown",
   "metadata": {},
   "source": [
    "## 3.2 Classification using cleared data <a id=\"section3.2\"/>"
   ]
  },
  {
   "cell_type": "markdown",
   "metadata": {},
   "source": [
    " As we have seen, our data is highly unbalanced, thus we can try to use cleared data, where the most populated class is reduced."
   ]
  },
  {
   "cell_type": "markdown",
   "metadata": {},
   "source": [
    "Split the data into train and test sets:"
   ]
  },
  {
   "cell_type": "code",
   "execution_count": 26,
   "metadata": {
    "collapsed": true
   },
   "outputs": [],
   "source": [
    "test_size = 0.2\n",
    "X = np.array(data_cleared['Description'])\n",
    "y = np.array(data_cleared['Type'], dtype = 'int')\n",
    "X_train, X_test, y_train, y_test = train_test_split(X, y, test_size=test_size, random_state=1234)"
   ]
  },
  {
   "cell_type": "code",
   "execution_count": 28,
   "metadata": {},
   "outputs": [
    {
     "name": "stderr",
     "output_type": "stream",
     "text": [
      "C:\\Users\\Yaroslav\\Anaconda3\\lib\\site-packages\\sklearn\\linear_model\\stochastic_gradient.py:84: FutureWarning: max_iter and tol parameters have been added in <class 'sklearn.linear_model.stochastic_gradient.SGDClassifier'> in 0.19. If both are left unset, they default to max_iter=5 and tol=None. If tol is not None, max_iter defaults to max_iter=1000. From 0.21, default max_iter will be 1000, and default tol will be 1e-3.\n",
      "  \"and default tol will be 1e-3.\" % type(self), FutureWarning)\n"
     ]
    }
   ],
   "source": [
    "parameters = {'vect__ngram_range': [(1,1), (1, 2)],\n",
    "              'vect__min_df': (3, 4),\n",
    "              'vect_max_df': (0.8, 0.9, 0.95),\n",
    "              'tfidf__use_idf': [True],\n",
    "              'clf__alpha': (1e-6,1e-7),\n",
    "              'clf__max_iter': [50],\n",
    "              'clf__penalty': ['l2']\n",
    "}\n",
    "\n",
    "text_clf = Pipeline([('vect', CountVectorizer(analyzer=stemming)),\n",
    "                     ('tfidf', TfidfTransformer(norm='l1')),\n",
    "                     ('clf', SGDClassifier(loss='log',\n",
    "                                           random_state=1234,\n",
    "                                           n_jobs=-1))\n",
    "])\n",
    "\n",
    "gs_clf = GridSearchCV(text_clf, parameters, scoring='accuracy', n_jobs=-1, verbose=5)"
   ]
  },
  {
   "cell_type": "markdown",
   "metadata": {},
   "source": [
    "Train a classifier:"
   ]
  },
  {
   "cell_type": "code",
   "execution_count": 26,
   "metadata": {},
   "outputs": [
    {
     "name": "stdout",
     "output_type": "stream",
     "text": [
      "Fitting 3 folds for each of 24 candidates, totalling 72 fits\n"
     ]
    },
    {
     "name": "stderr",
     "output_type": "stream",
     "text": [
      "[Parallel(n_jobs=-1)]: Done  10 tasks      | elapsed: 106.2min\n",
      "[Parallel(n_jobs=-1)]: Done  64 tasks      | elapsed: 614.9min\n",
      "[Parallel(n_jobs=-1)]: Done  72 out of  72 | elapsed: 699.5min finished\n"
     ]
    }
   ],
   "source": [
    "gs_clf.fit(X_train, y_train)\n",
    "best_clf = gs_clf.best_estimator_"
   ]
  },
  {
   "cell_type": "code",
   "execution_count": 27,
   "metadata": {},
   "outputs": [
    {
     "data": {
      "text/plain": [
       "{'clf__alpha': 1e-06,\n",
       " 'clf__max_iter': 50,\n",
       " 'clf__penalty': 'l1',\n",
       " 'tfidf__use_idf': True,\n",
       " 'vect__min_df': 3,\n",
       " 'vect__ngram_range': (1, 1)}"
      ]
     },
     "execution_count": 27,
     "metadata": {},
     "output_type": "execute_result"
    }
   ],
   "source": [
    "gs_clf.best_params_"
   ]
  },
  {
   "cell_type": "markdown",
   "metadata": {},
   "source": [
    "on 100% of data"
   ]
  },
  {
   "cell_type": "code",
   "execution_count": 28,
   "metadata": {},
   "outputs": [
    {
     "data": {
      "text/plain": [
       "0.90697652656844352"
      ]
     },
     "execution_count": 28,
     "metadata": {},
     "output_type": "execute_result"
    }
   ],
   "source": [
    "gs_clf.best_score_"
   ]
  },
  {
   "cell_type": "markdown",
   "metadata": {},
   "source": [
    "on 10% of data"
   ]
  },
  {
   "cell_type": "code",
   "execution_count": 40,
   "metadata": {},
   "outputs": [
    {
     "data": {
      "text/plain": [
       "0.8960927025474047"
      ]
     },
     "execution_count": 40,
     "metadata": {},
     "output_type": "execute_result"
    }
   ],
   "source": [
    "gs_clf.best_score_"
   ]
  },
  {
   "cell_type": "markdown",
   "metadata": {},
   "source": [
    "Compute the accuracy:"
   ]
  },
  {
   "cell_type": "markdown",
   "metadata": {},
   "source": [
    "on 100% of data"
   ]
  },
  {
   "cell_type": "code",
   "execution_count": 30,
   "metadata": {},
   "outputs": [
    {
     "name": "stdout",
     "output_type": "stream",
     "text": [
      "Accuracy on the train:  0.915622909171\n",
      "Accuracy on the test:  0.907304474763\n"
     ]
    }
   ],
   "source": [
    "print('Accuracy on the train: ', accuracy_score(y_train, best_clf.predict(X_train)))\n",
    "print('Accuracy on the test: ', accuracy_score(y_test, best_clf.predict(X_test)))"
   ]
  },
  {
   "cell_type": "markdown",
   "metadata": {},
   "source": [
    "on 10% of data"
   ]
  },
  {
   "cell_type": "code",
   "execution_count": 41,
   "metadata": {},
   "outputs": [
    {
     "name": "stdout",
     "output_type": "stream",
     "text": [
      "Accuracy on the train:  0.906488220647\n",
      "Accuracy on the test:  0.901685500862\n"
     ]
    }
   ],
   "source": [
    "print('Accuracy on the train: ', accuracy_score(y_train, best_clf.predict(X_train)))\n",
    "print('Accuracy on the test: ', accuracy_score(y_test, best_clf.predict(X_test)))"
   ]
  },
  {
   "cell_type": "code",
   "execution_count": 31,
   "metadata": {},
   "outputs": [
    {
     "data": {
      "text/plain": [
       "0.75373150806132916"
      ]
     },
     "execution_count": 31,
     "metadata": {},
     "output_type": "execute_result"
    }
   ],
   "source": [
    "best_clf.predict_proba(['сталин это что']).max()"
   ]
  },
  {
   "cell_type": "code",
   "execution_count": 32,
   "metadata": {},
   "outputs": [
    {
     "data": {
      "text/plain": [
       "0.30847741059966866"
      ]
     },
     "execution_count": 32,
     "metadata": {},
     "output_type": "execute_result"
    }
   ],
   "source": [
    "best_clf.predict_proba(['Какой то абсолютный бред бред бреееееееееееед']).max()"
   ]
  },
  {
   "cell_type": "markdown",
   "metadata": {},
   "source": [
    "## 3.3 Classification without GridSearch <a id=\"section3.3\"/>"
   ]
  },
  {
   "cell_type": "markdown",
   "metadata": {},
   "source": [
    "Use stopwords, higher min_df and low max_df:"
   ]
  },
  {
   "cell_type": "code",
   "execution_count": 201,
   "metadata": {},
   "outputs": [
    {
     "data": {
      "text/plain": [
       "Pipeline(memory=None,\n",
       "     steps=[('vect', CountVectorizer(analyzer=<function stemming at 0x00000244980E7840>,\n",
       "        binary=False, decode_error='strict', dtype=<class 'numpy.int64'>,\n",
       "        encoding='utf-8', input='content', lowercase=True, max_df=0.8,\n",
       "        max_features=None, min_df=10, ngram_range=(1, 2),\n",
       "        prepr...='l2', power_t=0.5, random_state=1234,\n",
       "       shuffle=True, tol=None, verbose=0, warm_start=False))])"
      ]
     },
     "execution_count": 201,
     "metadata": {},
     "output_type": "execute_result"
    }
   ],
   "source": [
    "pipe = Pipeline([('vect', CountVectorizer(analyzer=stemming, stop_words=stopwordlist, min_df = 10, max_df = 0.8, ngram_range=(1,2))),\n",
    "                     ('tfidf', TfidfTransformer(norm='l1', use_idf=True)),\n",
    "                     ('clf', SGDClassifier(loss='log', alpha=1e-7, max_iter=50,\n",
    "                                           random_state=1234, penalty='l2',\n",
    "                                           n_jobs=-1))\n",
    "])\n",
    "\n",
    "pipe.fit(X_train, y_train)"
   ]
  },
  {
   "cell_type": "code",
   "execution_count": 202,
   "metadata": {},
   "outputs": [
    {
     "name": "stdout",
     "output_type": "stream",
     "text": [
      "Accuracy on the train:  0.929846395703\n",
      "Accuracy on the test:  0.909119832313\n"
     ]
    }
   ],
   "source": [
    "print('Accuracy on the train: ', accuracy_score(y_train, pipe.predict(X_train)))\n",
    "print('Accuracy on the test: ', accuracy_score(y_test, pipe.predict(X_test)))"
   ]
  },
  {
   "cell_type": "code",
   "execution_count": 214,
   "metadata": {
    "collapsed": true
   },
   "outputs": [],
   "source": [
    "best_clf = pipe\n",
    "accuracy, X_test_, y_test_, y_pred_, examples_for_manual_clf = classify(X_test, y_test, y_train)"
   ]
  },
  {
   "cell_type": "code",
   "execution_count": 215,
   "metadata": {},
   "outputs": [
    {
     "data": {
      "text/plain": [
       "0.93653519680998065"
      ]
     },
     "execution_count": 215,
     "metadata": {},
     "output_type": "execute_result"
    }
   ],
   "source": [
    "accuracy"
   ]
  },
  {
   "cell_type": "code",
   "execution_count": 30,
   "metadata": {},
   "outputs": [],
   "source": [
    "pipe = load('pipe_0.91.pkl')"
   ]
  },
  {
   "cell_type": "code",
   "execution_count": 31,
   "metadata": {
    "collapsed": true
   },
   "outputs": [],
   "source": [
    "y_pred = pipe.predict(X_test)"
   ]
  },
  {
   "cell_type": "markdown",
   "metadata": {},
   "source": [
    "# 4. Model Analysis <a id=\"section4\"/>"
   ]
  },
  {
   "cell_type": "markdown",
   "metadata": {},
   "source": [
    "Some useful function:"
   ]
  },
  {
   "cell_type": "code",
   "execution_count": 61,
   "metadata": {
    "collapsed": true
   },
   "outputs": [],
   "source": [
    "def class_by_idx(y, index):\n",
    "    unique, counts = np.unique(y, return_counts=True)\n",
    "    data_dict = dict(zip(unique, counts))\n",
    "    return np.array(list(data_dict.keys()))[index]\n",
    "\n",
    "def find_most_probable_class(y, probabilities, n_classes=2):\n",
    "    probabilities = probabilities[0]\n",
    "    sorted_prob = np.sort(probabilities)\n",
    "    idx_sorted_prob = probabilities.argsort()\n",
    "    return class_by_idx(y, idx_sorted_prob[-n_classes:][::-1]), sorted_prob[-n_classes:][::-1]"
   ]
  },
  {
   "cell_type": "markdown",
   "metadata": {},
   "source": [
    "First of all, loot at the confusion matrix:"
   ]
  },
  {
   "cell_type": "code",
   "execution_count": 62,
   "metadata": {
    "collapsed": true
   },
   "outputs": [],
   "source": [
    "from sklearn.metrics import confusion_matrix"
   ]
  },
  {
   "cell_type": "code",
   "execution_count": 63,
   "metadata": {
    "collapsed": true
   },
   "outputs": [],
   "source": [
    "def pretty_print_of_confusion_matrix(C, classes):\n",
    "    n = C.shape[0]\n",
    "    flag = 0\n",
    "    for row in range(n):\n",
    "        for column in range(n):\n",
    "            #if row==column:\n",
    "            if flag == 0:\n",
    "                print(\">> Class %d true: \\t\\t [%d]\" % (classes[row], C[row, row]) )\n",
    "            else:\n",
    "                if C[row, column] + C[column, row] != 0 and column != row:\n",
    "                    print(\">> Classes (%d vs. %d): \\t [%d] and [%d]\" % \n",
    "                          (classes[row], classes[column], C[row, column], C[column,row]))\n",
    "            flag += 1\n",
    "            if flag == n:\n",
    "                flag = 0"
   ]
  },
  {
   "cell_type": "code",
   "execution_count": 64,
   "metadata": {
    "collapsed": true
   },
   "outputs": [],
   "source": [
    "classes = pipe.classes_\n",
    "C = confusion_matrix(y_test, y_pred,labels=classes)"
   ]
  },
  {
   "cell_type": "code",
   "execution_count": 65,
   "metadata": {
    "collapsed": true
   },
   "outputs": [],
   "source": [
    "def max_c(C, classes):\n",
    "    cij_max = 0\n",
    "    ci_max = 0\n",
    "    for i in range(C.shape[0]):\n",
    "        ci_max = 0\n",
    "        for j in range(C.shape[0]):\n",
    "            if C[i,j] + C[j,i] > cij_max and i != j:\n",
    "                cij_max = C[i,j] + C[j,i]\n",
    "                idx = (i,j)\n",
    "    return classes[idx[0]], classes[idx[1]], cij_max"
   ]
  },
  {
   "cell_type": "code",
   "execution_count": 66,
   "metadata": {},
   "outputs": [
    {
     "data": {
      "text/plain": [
       "(4060, 5104, 535)"
      ]
     },
     "execution_count": 66,
     "metadata": {},
     "output_type": "execute_result"
    }
   ],
   "source": [
    "max_c(C, classes)"
   ]
  },
  {
   "cell_type": "code",
   "execution_count": 67,
   "metadata": {},
   "outputs": [
    {
     "name": "stdout",
     "output_type": "stream",
     "text": [
      ">> Class 1001 true: \t\t [98]\n",
      ">> Classes (1001 vs. 2008): \t [1] and [3]\n",
      ">> Classes (1001 vs. 2041): \t [0] and [1]\n",
      ">> Classes (1001 vs. 3001): \t [6] and [0]\n",
      ">> Classes (1001 vs. 4006): \t [0] and [1]\n",
      ">> Classes (1001 vs. 4022): \t [7] and [0]\n",
      ">> Classes (1001 vs. 4040): \t [1] and [0]\n",
      ">> Classes (1001 vs. 4070): \t [1] and [0]\n",
      ">> Class 2001 true: \t\t [26]\n",
      ">> Classes (2001 vs. 3001): \t [1] and [0]\n",
      ">> Classes (2001 vs. 4001): \t [5] and [0]\n",
      ">> Classes (2001 vs. 4005): \t [1] and [0]\n",
      ">> Classes (2001 vs. 4022): \t [1] and [0]\n",
      ">> Classes (2001 vs. 4040): \t [1] and [0]\n",
      ">> Class 2003 true: \t\t [0]\n",
      ">> Class 2008 true: \t\t [13]\n",
      ">> Classes (2008 vs. 2024): \t [0] and [1]\n",
      ">> Classes (2008 vs. 2050): \t [1] and [0]\n",
      ">> Classes (2008 vs. 3001): \t [4] and [0]\n",
      ">> Classes (2008 vs. 4001): \t [1] and [0]\n",
      ">> Classes (2008 vs. 4022): \t [2] and [0]\n",
      ">> Classes (2008 vs. 4024): \t [1] and [0]\n",
      ">> Class 2010 true: \t\t [2]\n",
      ">> Class 2024 true: \t\t [9]\n",
      ">> Classes (2024 vs. 2008): \t [1] and [0]\n",
      ">> Classes (2024 vs. 3001): \t [1] and [0]\n",
      ">> Classes (2024 vs. 4022): \t [8] and [0]\n",
      ">> Class 2040 true: \t\t [2280]\n",
      ">> Classes (2040 vs. 2041): \t [0] and [1]\n",
      ">> Classes (2040 vs. 2060): \t [0] and [6]\n",
      ">> Classes (2040 vs. 3001): \t [1] and [0]\n",
      ">> Classes (2040 vs. 4001): \t [1] and [1]\n",
      ">> Classes (2040 vs. 4005): \t [1] and [0]\n",
      ">> Classes (2040 vs. 4006): \t [1] and [0]\n",
      ">> Classes (2040 vs. 4014): \t [5] and [0]\n",
      ">> Classes (2040 vs. 4022): \t [5] and [0]\n",
      ">> Classes (2040 vs. 4040): \t [2] and [4]\n",
      ">> Classes (2040 vs. 4060): \t [7] and [4]\n",
      ">> Classes (2040 vs. 4070): \t [60] and [200]\n",
      ">> Classes (2040 vs. 5003): \t [0] and [2]\n",
      ">> Classes (2040 vs. 5102): \t [0] and [1]\n",
      ">> Classes (2040 vs. 5103): \t [4] and [4]\n",
      ">> Classes (2040 vs. 5104): \t [6] and [3]\n",
      ">> Classes (2040 vs. 5113): \t [10] and [2]\n",
      ">> Classes (2040 vs. 6001): \t [1] and [387]\n",
      ">> Classes (2040 vs. 6007): \t [1] and [1]\n",
      ">> Classes (2040 vs. 6020): \t [0] and [1]\n",
      ">> Class 2041 true: \t\t [56]\n",
      ">> Classes (2041 vs. 2040): \t [1] and [0]\n",
      ">> Classes (2041 vs. 2042): \t [0] and [1]\n",
      ">> Classes (2041 vs. 2050): \t [1] and [0]\n",
      ">> Classes (2041 vs. 3001): \t [5] and [0]\n",
      ">> Classes (2041 vs. 4022): \t [1] and [0]\n",
      ">> Classes (2041 vs. 4024): \t [1] and [0]\n",
      ">> Classes (2041 vs. 4040): \t [1] and [0]\n",
      ">> Class 2042 true: \t\t [43]\n",
      ">> Classes (2042 vs. 2041): \t [1] and [0]\n",
      ">> Classes (2042 vs. 2050): \t [1] and [0]\n",
      ">> Classes (2042 vs. 3001): \t [4] and [0]\n",
      ">> Classes (2042 vs. 4040): \t [1] and [0]\n",
      ">> Classes (2042 vs. 4041): \t [2] and [0]\n",
      ">> Classes (2042 vs. 4122): \t [0] and [1]\n",
      ">> Classes (2042 vs. 5111): \t [2] and [0]\n",
      ">> Class 2045 true: \t\t [1]\n",
      ">> Class 2050 true: \t\t [148]\n",
      ">> Classes (2050 vs. 2008): \t [0] and [1]\n",
      ">> Classes (2050 vs. 2041): \t [0] and [1]\n",
      ">> Classes (2050 vs. 2042): \t [0] and [1]\n",
      ">> Classes (2050 vs. 2060): \t [0] and [5]\n",
      ">> Classes (2050 vs. 3001): \t [3] and [0]\n",
      ">> Classes (2050 vs. 4016): \t [1] and [0]\n",
      ">> Classes (2050 vs. 4040): \t [1] and [0]\n",
      ">> Classes (2050 vs. 4060): \t [1] and [0]\n",
      ">> Classes (2050 vs. 5115): \t [1] and [0]\n",
      ">> Class 2060 true: \t\t [0]\n",
      ">> Classes (2060 vs. 2040): \t [6] and [0]\n",
      ">> Classes (2060 vs. 2050): \t [5] and [0]\n",
      ">> Classes (2060 vs. 3001): \t [2] and [0]\n",
      ">> Classes (2060 vs. 4070): \t [2] and [0]\n",
      ">> Class 2066 true: \t\t [236]\n",
      ">> Classes (2066 vs. 2067): \t [6] and [106]\n",
      ">> Classes (2066 vs. 2068): \t [0] and [7]\n",
      ">> Classes (2066 vs. 2072): \t [0] and [7]\n",
      ">> Classes (2066 vs. 2077): \t [0] and [57]\n",
      ">> Classes (2066 vs. 5101): \t [0] and [1]\n",
      ">> Class 2067 true: \t\t [3]\n",
      ">> Classes (2067 vs. 2066): \t [106] and [6]\n",
      ">> Class 2068 true: \t\t [0]\n",
      ">> Classes (2068 vs. 2066): \t [7] and [0]\n",
      ">> Class 2072 true: \t\t [15]\n",
      ">> Classes (2072 vs. 2066): \t [7] and [0]\n",
      ">> Class 2075 true: \t\t [11]\n",
      ">> Class 2076 true: \t\t [1]\n",
      ">> Class 2077 true: \t\t [2]\n",
      ">> Classes (2077 vs. 2066): \t [57] and [0]\n",
      ">> Class 2101 true: \t\t [355]\n",
      ">> Classes (2101 vs. 2105): \t [0] and [5]\n",
      ">> Classes (2101 vs. 2108): \t [0] and [4]\n",
      ">> Classes (2101 vs. 2131): \t [0] and [20]\n",
      ">> Classes (2101 vs. 3001): \t [0] and [2]\n",
      ">> Classes (2101 vs. 4022): \t [1] and [0]\n",
      ">> Classes (2101 vs. 4040): \t [0] and [2]\n",
      ">> Classes (2101 vs. 4070): \t [11] and [8]\n",
      ">> Class 2102 true: \t\t [4]\n",
      ">> Classes (2102 vs. 2103): \t [1] and [0]\n",
      ">> Classes (2102 vs. 4040): \t [1] and [0]\n",
      ">> Class 2103 true: \t\t [240]\n",
      ">> Classes (2103 vs. 2102): \t [0] and [1]\n",
      ">> Classes (2103 vs. 4040): \t [0] and [3]\n",
      ">> Classes (2103 vs. 4070): \t [0] and [4]\n",
      ">> Class 2105 true: \t\t [5]\n",
      ">> Classes (2105 vs. 2101): \t [5] and [0]\n",
      ">> Classes (2105 vs. 2131): \t [2] and [0]\n",
      ">> Classes (2105 vs. 3001): \t [1] and [0]\n",
      ">> Class 2108 true: \t\t [0]\n",
      ">> Classes (2108 vs. 2101): \t [4] and [0]\n",
      ">> Class 2131 true: \t\t [20]\n",
      ">> Classes (2131 vs. 2101): \t [20] and [0]\n",
      ">> Classes (2131 vs. 2105): \t [0] and [2]\n",
      ">> Classes (2131 vs. 3001): \t [2] and [0]\n",
      ">> Class 3001 true: \t\t [10430]\n",
      ">> Classes (3001 vs. 2001): \t [0] and [1]\n",
      ">> Classes (3001 vs. 2008): \t [0] and [4]\n",
      ">> Classes (3001 vs. 2024): \t [0] and [1]\n",
      ">> Classes (3001 vs. 2040): \t [0] and [1]\n",
      ">> Classes (3001 vs. 2041): \t [0] and [5]\n",
      ">> Classes (3001 vs. 2042): \t [0] and [4]\n",
      ">> Classes (3001 vs. 2050): \t [0] and [3]\n",
      ">> Classes (3001 vs. 2060): \t [0] and [2]\n",
      ">> Classes (3001 vs. 2101): \t [2] and [0]\n",
      ">> Classes (3001 vs. 2105): \t [0] and [1]\n",
      ">> Classes (3001 vs. 2131): \t [0] and [2]\n",
      ">> Classes (3001 vs. 4001): \t [34] and [9]\n",
      ">> Classes (3001 vs. 4002): \t [0] and [1]\n",
      ">> Classes (3001 vs. 4004): \t [1] and [1]\n",
      ">> Classes (3001 vs. 4005): \t [1] and [0]\n",
      ">> Classes (3001 vs. 4006): \t [3] and [2]\n",
      ">> Classes (3001 vs. 4007): \t [0] and [1]\n",
      ">> Classes (3001 vs. 4010): \t [0] and [1]\n",
      ">> Classes (3001 vs. 4011): \t [1] and [0]\n",
      ">> Classes (3001 vs. 4013): \t [0] and [1]\n",
      ">> Classes (3001 vs. 4014): \t [28] and [3]\n",
      ">> Classes (3001 vs. 4015): \t [2] and [0]\n",
      ">> Classes (3001 vs. 4017): \t [3] and [0]\n",
      ">> Classes (3001 vs. 4018): \t [0] and [2]\n",
      ">> Classes (3001 vs. 4019): \t [9] and [6]\n",
      ">> Classes (3001 vs. 4021): \t [0] and [4]\n",
      ">> Classes (3001 vs. 4022): \t [51] and [18]\n",
      ">> Classes (3001 vs. 4024): \t [4] and [0]\n",
      ">> Classes (3001 vs. 4025): \t [0] and [3]\n",
      ">> Classes (3001 vs. 4026): \t [0] and [4]\n",
      ">> Classes (3001 vs. 4028): \t [3] and [6]\n",
      ">> Classes (3001 vs. 4040): \t [141] and [169]\n",
      ">> Classes (3001 vs. 4041): \t [0] and [3]\n",
      ">> Classes (3001 vs. 4060): \t [4] and [42]\n",
      ">> Classes (3001 vs. 4070): \t [4] and [4]\n",
      ">> Classes (3001 vs. 5002): \t [0] and [2]\n",
      ">> Classes (3001 vs. 5003): \t [0] and [1]\n",
      ">> Classes (3001 vs. 5106): \t [0] and [1]\n",
      ">> Classes (3001 vs. 6001): \t [0] and [5]\n",
      ">> Classes (3001 vs. 6007): \t [1] and [2]\n",
      ">> Classes (3001 vs. 8002): \t [0] and [11]\n",
      ">> Classes (3001 vs. 9001): \t [3] and [1]\n",
      ">> Class 4001 true: \t\t [1841]\n",
      ">> Classes (4001 vs. 2001): \t [0] and [5]\n",
      ">> Classes (4001 vs. 2008): \t [0] and [1]\n",
      ">> Classes (4001 vs. 2040): \t [1] and [1]\n",
      ">> Classes (4001 vs. 3001): \t [9] and [34]\n",
      ">> Classes (4001 vs. 4002): \t [53] and [34]\n",
      ">> Classes (4001 vs. 4004): \t [0] and [4]\n",
      ">> Classes (4001 vs. 4006): \t [1] and [11]\n",
      ">> Classes (4001 vs. 4007): \t [1] and [6]\n",
      ">> Classes (4001 vs. 4008): \t [1] and [3]\n",
      ">> Classes (4001 vs. 4010): \t [0] and [1]\n",
      ">> Classes (4001 vs. 4011): \t [0] and [1]\n",
      ">> Classes (4001 vs. 4014): \t [6] and [7]\n",
      ">> Classes (4001 vs. 4015): \t [1] and [0]\n",
      ">> Classes (4001 vs. 4018): \t [2] and [1]\n",
      ">> Classes (4001 vs. 4019): \t [0] and [1]\n",
      ">> Classes (4001 vs. 4021): \t [0] and [1]\n",
      ">> Classes (4001 vs. 4022): \t [61] and [26]\n",
      ">> Classes (4001 vs. 4026): \t [0] and [1]\n",
      ">> Classes (4001 vs. 4028): \t [1] and [2]\n",
      ">> Classes (4001 vs. 4032): \t [0] and [2]\n",
      ">> Classes (4001 vs. 4040): \t [4] and [11]\n",
      ">> Classes (4001 vs. 4060): \t [1] and [0]\n",
      ">> Classes (4001 vs. 4070): \t [3] and [0]\n",
      ">> Classes (4001 vs. 5104): \t [1] and [0]\n",
      ">> Classes (4001 vs. 5113): \t [1] and [0]\n",
      ">> Classes (4001 vs. 6007): \t [0] and [1]\n",
      ">> Classes (4001 vs. 6008): \t [1] and [0]\n",
      ">> Class 4002 true: \t\t [363]\n",
      ">> Classes (4002 vs. 3001): \t [1] and [0]\n",
      ">> Classes (4002 vs. 4001): \t [34] and [53]\n",
      ">> Classes (4002 vs. 4006): \t [1] and [1]\n",
      ">> Classes (4002 vs. 4015): \t [0] and [2]\n",
      ">> Classes (4002 vs. 4022): \t [4] and [1]\n",
      ">> Classes (4002 vs. 4029): \t [1] and [0]\n",
      ">> Classes (4002 vs. 4040): \t [3] and [6]\n",
      ">> Classes (4002 vs. 5003): \t [0] and [1]\n",
      ">> Class 4004 true: \t\t [41]\n",
      ">> Classes (4004 vs. 3001): \t [1] and [1]\n",
      ">> Classes (4004 vs. 4001): \t [4] and [0]\n",
      ">> Classes (4004 vs. 4006): \t [0] and [1]\n",
      ">> Classes (4004 vs. 4016): \t [1] and [0]\n",
      ">> Classes (4004 vs. 4022): \t [2] and [0]\n",
      ">> Classes (4004 vs. 4040): \t [1] and [0]\n",
      ">> Class 4005 true: \t\t [211]\n",
      ">> Classes (4005 vs. 2001): \t [0] and [1]\n",
      ">> Classes (4005 vs. 2040): \t [0] and [1]\n",
      ">> Classes (4005 vs. 3001): \t [0] and [1]\n",
      ">> Classes (4005 vs. 4006): \t [0] and [1]\n",
      ">> Classes (4005 vs. 4022): \t [1] and [2]\n",
      ">> Class 4006 true: \t\t [634]\n",
      ">> Classes (4006 vs. 2040): \t [0] and [1]\n",
      ">> Classes (4006 vs. 3001): \t [2] and [3]\n",
      ">> Classes (4006 vs. 4001): \t [11] and [1]\n",
      ">> Classes (4006 vs. 4002): \t [1] and [1]\n",
      ">> Classes (4006 vs. 4004): \t [1] and [0]\n",
      ">> Classes (4006 vs. 4005): \t [1] and [0]\n",
      ">> Classes (4006 vs. 4015): \t [1] and [0]\n",
      ">> Classes (4006 vs. 4022): \t [4] and [0]\n",
      ">> Classes (4006 vs. 4040): \t [4] and [0]\n",
      ">> Class 4007 true: \t\t [41]\n",
      ">> Classes (4007 vs. 3001): \t [1] and [0]\n",
      ">> Classes (4007 vs. 4001): \t [6] and [1]\n",
      ">> Classes (4007 vs. 4013): \t [4] and [3]\n",
      ">> Classes (4007 vs. 4018): \t [9] and [4]\n",
      ">> Classes (4007 vs. 4019): \t [1] and [0]\n",
      ">> Classes (4007 vs. 4022): \t [6] and [1]\n",
      ">> Class 4008 true: \t\t [26]\n",
      ">> Classes (4008 vs. 4001): \t [3] and [1]\n",
      ">> Class 4010 true: \t\t [47]\n",
      ">> Classes (4010 vs. 3001): \t [1] and [0]\n",
      ">> Classes (4010 vs. 4001): \t [1] and [0]\n",
      ">> Classes (4010 vs. 4015): \t [3] and [3]\n",
      ">> Classes (4010 vs. 4022): \t [16] and [3]\n",
      ">> Classes (4010 vs. 4040): \t [1] and [0]\n",
      ">> Class 4011 true: \t\t [23]\n",
      ">> Classes (4011 vs. 3001): \t [0] and [1]\n",
      ">> Classes (4011 vs. 4001): \t [1] and [0]\n",
      ">> Classes (4011 vs. 4015): \t [1] and [0]\n",
      ">> Classes (4011 vs. 4022): \t [7] and [1]\n",
      ">> Classes (4011 vs. 4025): \t [0] and [1]\n",
      ">> Classes (4011 vs. 4040): \t [2] and [1]\n",
      ">> Class 4013 true: \t\t [90]\n",
      ">> Classes (4013 vs. 3001): \t [1] and [0]\n",
      ">> Classes (4013 vs. 4007): \t [3] and [4]\n",
      ">> Classes (4013 vs. 4019): \t [4] and [2]\n",
      ">> Classes (4013 vs. 4020): \t [0] and [2]\n",
      ">> Classes (4013 vs. 4022): \t [24] and [5]\n",
      ">> Classes (4013 vs. 4040): \t [1] and [1]\n",
      ">> Class 4014 true: \t\t [2063]\n",
      ">> Classes (4014 vs. 2040): \t [0] and [5]\n",
      ">> Classes (4014 vs. 3001): \t [3] and [28]\n",
      ">> Classes (4014 vs. 4001): \t [7] and [6]\n",
      ">> Classes (4014 vs. 4016): \t [0] and [2]\n",
      ">> Classes (4014 vs. 4021): \t [0] and [1]\n",
      ">> Classes (4014 vs. 4022): \t [27] and [31]\n",
      ">> Classes (4014 vs. 4028): \t [1] and [0]\n",
      ">> Classes (4014 vs. 4040): \t [2] and [11]\n",
      ">> Class 4015 true: \t\t [216]\n",
      ">> Classes (4015 vs. 3001): \t [0] and [2]\n",
      ">> Classes (4015 vs. 4001): \t [0] and [1]\n",
      ">> Classes (4015 vs. 4002): \t [2] and [0]\n",
      ">> Classes (4015 vs. 4006): \t [0] and [1]\n",
      ">> Classes (4015 vs. 4010): \t [3] and [3]\n",
      ">> Classes (4015 vs. 4011): \t [0] and [1]\n",
      ">> Classes (4015 vs. 4017): \t [0] and [2]\n",
      ">> Classes (4015 vs. 4018): \t [2] and [0]\n",
      ">> Classes (4015 vs. 4019): \t [2] and [0]\n",
      ">> Classes (4015 vs. 4021): \t [0] and [1]\n",
      ">> Classes (4015 vs. 4022): \t [45] and [11]\n",
      ">> Classes (4015 vs. 4040): \t [2] and [1]\n",
      ">> Class 4016 true: \t\t [875]\n",
      ">> Classes (4016 vs. 2050): \t [0] and [1]\n",
      ">> Classes (4016 vs. 4004): \t [0] and [1]\n",
      ">> Classes (4016 vs. 4014): \t [2] and [0]\n",
      ">> Classes (4016 vs. 4022): \t [18] and [16]\n",
      ">> Classes (4016 vs. 4040): \t [2] and [1]\n",
      ">> Class 4017 true: \t\t [254]\n",
      ">> Classes (4017 vs. 3001): \t [0] and [3]\n",
      ">> Classes (4017 vs. 4015): \t [2] and [0]\n",
      ">> Classes (4017 vs. 4019): \t [0] and [3]\n",
      ">> Classes (4017 vs. 4022): \t [13] and [7]\n",
      ">> Classes (4017 vs. 4040): \t [0] and [1]\n",
      ">> Class 4018 true: \t\t [236]\n",
      ">> Classes (4018 vs. 3001): \t [2] and [0]\n",
      ">> Classes (4018 vs. 4001): \t [1] and [2]\n",
      ">> Classes (4018 vs. 4007): \t [4] and [9]\n",
      ">> Classes (4018 vs. 4015): \t [0] and [2]\n",
      ">> Classes (4018 vs. 4019): \t [2] and [0]\n",
      ">> Classes (4018 vs. 4022): \t [19] and [5]\n",
      ">> Classes (4018 vs. 4040): \t [2] and [0]\n",
      ">> Class 4019 true: \t\t [1502]\n",
      ">> Classes (4019 vs. 3001): \t [6] and [9]\n",
      ">> Classes (4019 vs. 4001): \t [1] and [0]\n",
      ">> Classes (4019 vs. 4007): \t [0] and [1]\n",
      ">> Classes (4019 vs. 4013): \t [2] and [4]\n",
      ">> Classes (4019 vs. 4015): \t [0] and [2]\n",
      ">> Classes (4019 vs. 4017): \t [3] and [0]\n",
      ">> Classes (4019 vs. 4018): \t [0] and [2]\n",
      ">> Classes (4019 vs. 4021): \t [0] and [1]\n",
      ">> Classes (4019 vs. 4022): \t [38] and [37]\n",
      ">> Classes (4019 vs. 4028): \t [0] and [6]\n",
      ">> Classes (4019 vs. 4040): \t [25] and [22]\n",
      ">> Classes (4019 vs. 4060): \t [0] and [1]\n",
      ">> Classes (4019 vs. 4070): \t [1] and [0]\n",
      ">> Class 4020 true: \t\t [95]\n",
      ">> Classes (4020 vs. 4013): \t [2] and [0]\n",
      ">> Classes (4020 vs. 4022): \t [9] and [1]\n",
      ">> Classes (4020 vs. 4040): \t [2] and [0]\n",
      ">> Class 4021 true: \t\t [24]\n",
      ">> Classes (4021 vs. 3001): \t [4] and [0]\n",
      ">> Classes (4021 vs. 4001): \t [1] and [0]\n",
      ">> Classes (4021 vs. 4014): \t [1] and [0]\n",
      ">> Classes (4021 vs. 4015): \t [1] and [0]\n",
      ">> Classes (4021 vs. 4019): \t [1] and [0]\n",
      ">> Classes (4021 vs. 4022): \t [29] and [5]\n",
      ">> Classes (4021 vs. 4040): \t [4] and [0]\n",
      ">> Class 4022 true: \t\t [4601]\n",
      ">> Classes (4022 vs. 2001): \t [0] and [1]\n",
      ">> Classes (4022 vs. 2008): \t [0] and [2]\n",
      ">> Classes (4022 vs. 2024): \t [0] and [8]\n",
      ">> Classes (4022 vs. 2040): \t [0] and [5]\n",
      ">> Classes (4022 vs. 2041): \t [0] and [1]\n",
      ">> Classes (4022 vs. 2101): \t [0] and [1]\n",
      ">> Classes (4022 vs. 3001): \t [18] and [51]\n",
      ">> Classes (4022 vs. 4001): \t [26] and [61]\n",
      ">> Classes (4022 vs. 4002): \t [1] and [4]\n",
      ">> Classes (4022 vs. 4004): \t [0] and [2]\n",
      ">> Classes (4022 vs. 4005): \t [2] and [1]\n",
      ">> Classes (4022 vs. 4006): \t [0] and [4]\n",
      ">> Classes (4022 vs. 4007): \t [1] and [6]\n",
      ">> Classes (4022 vs. 4010): \t [3] and [16]\n",
      ">> Classes (4022 vs. 4011): \t [1] and [7]\n",
      ">> Classes (4022 vs. 4013): \t [5] and [24]\n",
      ">> Classes (4022 vs. 4014): \t [31] and [27]\n",
      ">> Classes (4022 vs. 4015): \t [11] and [45]\n",
      ">> Classes (4022 vs. 4016): \t [16] and [18]\n",
      ">> Classes (4022 vs. 4017): \t [7] and [13]\n",
      ">> Classes (4022 vs. 4018): \t [5] and [19]\n",
      ">> Classes (4022 vs. 4019): \t [37] and [38]\n",
      ">> Classes (4022 vs. 4020): \t [1] and [9]\n",
      ">> Classes (4022 vs. 4021): \t [5] and [29]\n",
      ">> Classes (4022 vs. 4023): \t [0] and [1]\n",
      ">> Classes (4022 vs. 4024): \t [41] and [27]\n",
      ">> Classes (4022 vs. 4026): \t [0] and [1]\n",
      ">> Classes (4022 vs. 4028): \t [16] and [32]\n",
      ">> Classes (4022 vs. 4032): \t [0] and [7]\n",
      ">> Classes (4022 vs. 4033): \t [0] and [1]\n",
      ">> Classes (4022 vs. 4040): \t [142] and [84]\n",
      ">> Classes (4022 vs. 4041): \t [0] and [2]\n",
      ">> Classes (4022 vs. 4060): \t [14] and [13]\n",
      ">> Classes (4022 vs. 4122): \t [0] and [1]\n",
      ">> Classes (4022 vs. 5102): \t [0] and [1]\n",
      ">> Classes (4022 vs. 6001): \t [1] and [2]\n",
      ">> Classes (4022 vs. 6007): \t [0] and [1]\n",
      ">> Classes (4022 vs. 6008): \t [2] and [0]\n",
      ">> Classes (4022 vs. 6016): \t [0] and [1]\n",
      ">> Classes (4022 vs. 6018): \t [0] and [1]\n",
      ">> Class 4023 true: \t\t [8]\n",
      ">> Classes (4023 vs. 4022): \t [1] and [0]\n",
      ">> Classes (4023 vs. 4060): \t [1] and [0]\n",
      ">> Class 4024 true: \t\t [528]\n",
      ">> Classes (4024 vs. 2008): \t [0] and [1]\n",
      ">> Classes (4024 vs. 2041): \t [0] and [1]\n",
      ">> Classes (4024 vs. 3001): \t [0] and [4]\n",
      ">> Classes (4024 vs. 4022): \t [27] and [41]\n",
      ">> Classes (4024 vs. 4028): \t [2] and [0]\n",
      ">> Classes (4024 vs. 4040): \t [0] and [3]\n",
      ">> Class 4025 true: \t\t [0]\n",
      ">> Classes (4025 vs. 3001): \t [3] and [0]\n",
      ">> Classes (4025 vs. 4011): \t [1] and [0]\n",
      ">> Classes (4025 vs. 4040): \t [1] and [0]\n",
      ">> Class 4026 true: \t\t [9]\n",
      ">> Classes (4026 vs. 3001): \t [4] and [0]\n",
      ">> Classes (4026 vs. 4001): \t [1] and [0]\n",
      ">> Classes (4026 vs. 4022): \t [1] and [0]\n",
      ">> Classes (4026 vs. 4040): \t [0] and [1]\n",
      ">> Class 4027 true: \t\t [280]\n",
      ">> Classes (4027 vs. 4030): \t [1] and [2]\n",
      ">> Classes (4027 vs. 4031): \t [1] and [2]\n",
      ">> Class 4028 true: \t\t [363]\n",
      ">> Classes (4028 vs. 3001): \t [6] and [3]\n",
      ">> Classes (4028 vs. 4001): \t [2] and [1]\n",
      ">> Classes (4028 vs. 4014): \t [0] and [1]\n",
      ">> Classes (4028 vs. 4019): \t [6] and [0]\n",
      ">> Classes (4028 vs. 4022): \t [32] and [16]\n",
      ">> Classes (4028 vs. 4024): \t [0] and [2]\n",
      ">> Classes (4028 vs. 4032): \t [0] and [2]\n",
      ">> Classes (4028 vs. 4040): \t [32] and [8]\n",
      ">> Classes (4028 vs. 4060): \t [1] and [0]\n",
      ">> Class 4029 true: \t\t [115]\n",
      ">> Classes (4029 vs. 4002): \t [0] and [1]\n",
      ">> Class 4030 true: \t\t [52]\n",
      ">> Classes (4030 vs. 4027): \t [2] and [1]\n",
      ">> Classes (4030 vs. 4031): \t [2] and [0]\n",
      ">> Class 4031 true: \t\t [154]\n",
      ">> Classes (4031 vs. 4027): \t [2] and [1]\n",
      ">> Classes (4031 vs. 4030): \t [0] and [2]\n",
      ">> Class 4032 true: \t\t [2]\n",
      ">> Classes (4032 vs. 4001): \t [2] and [0]\n",
      ">> Classes (4032 vs. 4022): \t [7] and [0]\n",
      ">> Classes (4032 vs. 4028): \t [2] and [0]\n",
      ">> Classes (4032 vs. 4040): \t [1] and [0]\n",
      ">> Class 4033 true: \t\t [11]\n",
      ">> Classes (4033 vs. 4022): \t [1] and [0]\n",
      ">> Classes (4033 vs. 4040): \t [5] and [0]\n",
      ">> Class 4040 true: \t\t [2607]\n",
      ">> Classes (4040 vs. 2001): \t [0] and [1]\n",
      ">> Classes (4040 vs. 2040): \t [4] and [2]\n",
      ">> Classes (4040 vs. 2041): \t [0] and [1]\n",
      ">> Classes (4040 vs. 2042): \t [0] and [1]\n",
      ">> Classes (4040 vs. 2050): \t [0] and [1]\n",
      ">> Classes (4040 vs. 2101): \t [2] and [0]\n",
      ">> Classes (4040 vs. 2102): \t [0] and [1]\n",
      ">> Classes (4040 vs. 2103): \t [3] and [0]\n",
      ">> Classes (4040 vs. 3001): \t [169] and [141]\n",
      ">> Classes (4040 vs. 4001): \t [11] and [4]\n",
      ">> Classes (4040 vs. 4002): \t [6] and [3]\n",
      ">> Classes (4040 vs. 4004): \t [0] and [1]\n",
      ">> Classes (4040 vs. 4006): \t [0] and [4]\n",
      ">> Classes (4040 vs. 4010): \t [0] and [1]\n",
      ">> Classes (4040 vs. 4011): \t [1] and [2]\n",
      ">> Classes (4040 vs. 4013): \t [1] and [1]\n",
      ">> Classes (4040 vs. 4014): \t [11] and [2]\n",
      ">> Classes (4040 vs. 4015): \t [1] and [2]\n",
      ">> Classes (4040 vs. 4016): \t [1] and [2]\n",
      ">> Classes (4040 vs. 4017): \t [1] and [0]\n",
      ">> Classes (4040 vs. 4018): \t [0] and [2]\n",
      ">> Classes (4040 vs. 4019): \t [22] and [25]\n",
      ">> Classes (4040 vs. 4020): \t [0] and [2]\n",
      ">> Classes (4040 vs. 4021): \t [0] and [4]\n",
      ">> Classes (4040 vs. 4022): \t [84] and [142]\n",
      ">> Classes (4040 vs. 4024): \t [3] and [0]\n",
      ">> Classes (4040 vs. 4025): \t [0] and [1]\n",
      ">> Classes (4040 vs. 4026): \t [1] and [0]\n",
      ">> Classes (4040 vs. 4028): \t [8] and [32]\n",
      ">> Classes (4040 vs. 4032): \t [0] and [1]\n",
      ">> Classes (4040 vs. 4033): \t [0] and [5]\n",
      ">> Classes (4040 vs. 4060): \t [10] and [6]\n",
      ">> Classes (4040 vs. 4070): \t [7] and [4]\n",
      ">> Classes (4040 vs. 4122): \t [0] and [1]\n",
      ">> Classes (4040 vs. 5003): \t [0] and [1]\n",
      ">> Classes (4040 vs. 5102): \t [0] and [1]\n",
      ">> Classes (4040 vs. 6001): \t [0] and [1]\n",
      ">> Classes (4040 vs. 6008): \t [14] and [3]\n",
      ">> Classes (4040 vs. 6018): \t [1] and [0]\n",
      ">> Classes (4040 vs. 8002): \t [0] and [1]\n",
      ">> Classes (4040 vs. 9001): \t [3] and [0]\n",
      ">> Class 4041 true: \t\t [188]\n",
      ">> Classes (4041 vs. 2042): \t [0] and [2]\n",
      ">> Classes (4041 vs. 3001): \t [3] and [0]\n",
      ">> Classes (4041 vs. 4022): \t [2] and [0]\n",
      ">> Classes (4041 vs. 5107): \t [0] and [4]\n",
      ">> Classes (4041 vs. 6001): \t [1] and [2]\n",
      ">> Class 4060 true: \t\t [3179]\n",
      ">> Classes (4060 vs. 2040): \t [4] and [7]\n",
      ">> Classes (4060 vs. 2050): \t [0] and [1]\n",
      ">> Classes (4060 vs. 3001): \t [42] and [4]\n",
      ">> Classes (4060 vs. 4001): \t [0] and [1]\n",
      ">> Classes (4060 vs. 4019): \t [1] and [0]\n",
      ">> Classes (4060 vs. 4022): \t [13] and [14]\n",
      ">> Classes (4060 vs. 4023): \t [0] and [1]\n",
      ">> Classes (4060 vs. 4028): \t [0] and [1]\n",
      ">> Classes (4060 vs. 4040): \t [6] and [10]\n",
      ">> Classes (4060 vs. 4070): \t [1] and [5]\n",
      ">> Classes (4060 vs. 5004): \t [0] and [3]\n",
      ">> Classes (4060 vs. 5104): \t [236] and [299]\n",
      ">> Classes (4060 vs. 5106): \t [0] and [1]\n",
      ">> Classes (4060 vs. 5113): \t [157] and [173]\n",
      ">> Classes (4060 vs. 6001): \t [1] and [0]\n",
      ">> Class 4070 true: \t\t [2630]\n",
      ">> Classes (4070 vs. 2040): \t [200] and [60]\n",
      ">> Classes (4070 vs. 2060): \t [0] and [2]\n",
      ">> Classes (4070 vs. 2101): \t [8] and [11]\n",
      ">> Classes (4070 vs. 2103): \t [4] and [0]\n",
      ">> Classes (4070 vs. 3001): \t [4] and [4]\n",
      ">> Classes (4070 vs. 4001): \t [0] and [3]\n",
      ">> Classes (4070 vs. 4019): \t [0] and [1]\n",
      ">> Classes (4070 vs. 4040): \t [4] and [7]\n",
      ">> Classes (4070 vs. 4060): \t [5] and [1]\n",
      ">> Classes (4070 vs. 5002): \t [0] and [1]\n",
      ">> Classes (4070 vs. 5003): \t [1] and [2]\n",
      ">> Classes (4070 vs. 5102): \t [0] and [1]\n",
      ">> Classes (4070 vs. 5104): \t [7] and [0]\n",
      ">> Classes (4070 vs. 5113): \t [13] and [0]\n",
      ">> Classes (4070 vs. 6001): \t [0] and [2]\n",
      ">> Classes (4070 vs. 6007): \t [0] and [13]\n",
      ">> Classes (4070 vs. 6008): \t [0] and [1]\n",
      ">> Classes (4070 vs. 6011): \t [0] and [1]\n",
      ">> Classes (4070 vs. 6014): \t [0] and [1]\n",
      ">> Classes (4070 vs. 6017): \t [0] and [1]\n",
      ">> Classes (4070 vs. 6018): \t [0] and [3]\n",
      ">> Class 4122 true: \t\t [0]\n",
      ">> Classes (4122 vs. 2042): \t [1] and [0]\n",
      ">> Classes (4122 vs. 4022): \t [1] and [0]\n",
      ">> Classes (4122 vs. 4040): \t [1] and [0]\n",
      ">> Class 5001 true: \t\t [4]\n",
      ">> Classes (5001 vs. 6008): \t [1] and [0]\n",
      ">> Class 5002 true: \t\t [241]\n",
      ">> Classes (5002 vs. 3001): \t [2] and [0]\n",
      ">> Classes (5002 vs. 4070): \t [1] and [0]\n",
      ">> Classes (5002 vs. 5102): \t [284] and [72]\n",
      ">> Class 5003 true: \t\t [271]\n",
      ">> Classes (5003 vs. 2040): \t [2] and [0]\n",
      ">> Classes (5003 vs. 3001): \t [1] and [0]\n",
      ">> Classes (5003 vs. 4002): \t [1] and [0]\n",
      ">> Classes (5003 vs. 4040): \t [1] and [0]\n",
      ">> Classes (5003 vs. 4070): \t [2] and [1]\n",
      ">> Classes (5003 vs. 5103): \t [197] and [149]\n",
      ">> Classes (5003 vs. 6007): \t [1] and [1]\n",
      ">> Class 5004 true: \t\t [16]\n",
      ">> Classes (5004 vs. 4060): \t [3] and [0]\n",
      ">> Class 5016 true: \t\t [0]\n",
      ">> Classes (5016 vs. 5104): \t [16] and [3]\n",
      ">> Classes (5016 vs. 5113): \t [1] and [0]\n",
      ">> Class 5101 true: \t\t [5]\n",
      ">> Classes (5101 vs. 2066): \t [1] and [0]\n",
      ">> Class 5102 true: \t\t [366]\n",
      ">> Classes (5102 vs. 2040): \t [1] and [0]\n",
      ">> Classes (5102 vs. 4022): \t [1] and [0]\n",
      ">> Classes (5102 vs. 4040): \t [1] and [0]\n",
      ">> Classes (5102 vs. 4070): \t [1] and [0]\n",
      ">> Classes (5102 vs. 5002): \t [72] and [284]\n",
      ">> Class 5103 true: \t\t [174]\n",
      ">> Classes (5103 vs. 2040): \t [4] and [4]\n",
      ">> Classes (5103 vs. 5003): \t [149] and [197]\n",
      ">> Class 5104 true: \t\t [889]\n",
      ">> Classes (5104 vs. 2040): \t [3] and [6]\n",
      ">> Classes (5104 vs. 4001): \t [0] and [1]\n",
      ">> Classes (5104 vs. 4060): \t [299] and [236]\n",
      ">> Classes (5104 vs. 4070): \t [0] and [7]\n",
      ">> Classes (5104 vs. 5016): \t [3] and [16]\n",
      ">> Classes (5104 vs. 5113): \t [35] and [105]\n",
      ">> Class 5106 true: \t\t [0]\n",
      ">> Classes (5106 vs. 3001): \t [1] and [0]\n",
      ">> Classes (5106 vs. 4060): \t [1] and [0]\n",
      ">> Class 5107 true: \t\t [0]\n",
      ">> Classes (5107 vs. 4041): \t [4] and [0]\n",
      ">> Class 5111 true: \t\t [2]\n",
      ">> Classes (5111 vs. 2042): \t [0] and [2]\n",
      ">> Class 5113 true: \t\t [318]\n",
      ">> Classes (5113 vs. 2040): \t [2] and [10]\n",
      ">> Classes (5113 vs. 4001): \t [0] and [1]\n",
      ">> Classes (5113 vs. 4060): \t [173] and [157]\n",
      ">> Classes (5113 vs. 4070): \t [0] and [13]\n",
      ">> Classes (5113 vs. 5016): \t [0] and [1]\n",
      ">> Classes (5113 vs. 5104): \t [105] and [35]\n",
      ">> Classes (5113 vs. 6007): \t [0] and [1]\n",
      ">> Class 5115 true: \t\t [1]\n",
      ">> Classes (5115 vs. 2050): \t [0] and [1]\n",
      ">> Class 6001 true: \t\t [6075]\n",
      ">> Classes (6001 vs. 2040): \t [387] and [1]\n",
      ">> Classes (6001 vs. 3001): \t [5] and [0]\n",
      ">> Classes (6001 vs. 4022): \t [2] and [1]\n",
      ">> Classes (6001 vs. 4040): \t [1] and [0]\n",
      ">> Classes (6001 vs. 4041): \t [2] and [1]\n",
      ">> Classes (6001 vs. 4060): \t [0] and [1]\n",
      ">> Classes (6001 vs. 4070): \t [2] and [0]\n",
      ">> Classes (6001 vs. 6007): \t [6] and [15]\n",
      ">> Classes (6001 vs. 6008): \t [1] and [1]\n",
      ">> Classes (6001 vs. 6011): \t [0] and [1]\n",
      ">> Classes (6001 vs. 6014): \t [0] and [1]\n",
      ">> Classes (6001 vs. 6015): \t [2] and [11]\n",
      ">> Classes (6001 vs. 6016): \t [1] and [2]\n",
      ">> Classes (6001 vs. 6018): \t [2] and [0]\n",
      ">> Classes (6001 vs. 6020): \t [0] and [3]\n",
      ">> Classes (6001 vs. 6216): \t [1] and [0]\n",
      ">> Class 6002 true: \t\t [4]\n",
      ">> Classes (6002 vs. 6008): \t [7] and [1]\n",
      ">> Class 6006 true: \t\t [3]\n",
      ">> Class 6007 true: \t\t [694]\n",
      ">> Classes (6007 vs. 2040): \t [1] and [1]\n",
      ">> Classes (6007 vs. 3001): \t [2] and [1]\n",
      ">> Classes (6007 vs. 4001): \t [1] and [0]\n",
      ">> Classes (6007 vs. 4022): \t [1] and [0]\n",
      ">> Classes (6007 vs. 4070): \t [13] and [0]\n",
      ">> Classes (6007 vs. 5003): \t [1] and [1]\n",
      ">> Classes (6007 vs. 5113): \t [1] and [0]\n",
      ">> Classes (6007 vs. 6001): \t [15] and [6]\n",
      ">> Classes (6007 vs. 6011): \t [0] and [1]\n",
      ">> Classes (6007 vs. 6016): \t [2] and [0]\n",
      ">> Classes (6007 vs. 6017): \t [1] and [0]\n",
      ">> Classes (6007 vs. 6216): \t [20] and [9]\n",
      ">> Class 6008 true: \t\t [840]\n",
      ">> Classes (6008 vs. 4001): \t [0] and [1]\n",
      ">> Classes (6008 vs. 4022): \t [0] and [2]\n",
      ">> Classes (6008 vs. 4040): \t [3] and [14]\n",
      ">> Classes (6008 vs. 4070): \t [1] and [0]\n",
      ">> Classes (6008 vs. 5001): \t [0] and [1]\n",
      ">> Classes (6008 vs. 6001): \t [1] and [1]\n",
      ">> Classes (6008 vs. 6002): \t [1] and [7]\n",
      ">> Classes (6008 vs. 6216): \t [0] and [1]\n",
      ">> Class 6011 true: \t\t [78]\n",
      ">> Classes (6011 vs. 4070): \t [1] and [0]\n",
      ">> Classes (6011 vs. 6001): \t [1] and [0]\n",
      ">> Classes (6011 vs. 6007): \t [1] and [0]\n",
      ">> Classes (6011 vs. 6018): \t [0] and [1]\n",
      ">> Class 6014 true: \t\t [0]\n",
      ">> Classes (6014 vs. 4070): \t [1] and [0]\n",
      ">> Classes (6014 vs. 6001): \t [1] and [0]\n",
      ">> Class 6015 true: \t\t [15]\n",
      ">> Classes (6015 vs. 6001): \t [11] and [2]\n",
      ">> Class 6016 true: \t\t [1]\n",
      ">> Classes (6016 vs. 4022): \t [1] and [0]\n",
      ">> Classes (6016 vs. 6001): \t [2] and [1]\n",
      ">> Classes (6016 vs. 6007): \t [0] and [2]\n",
      ">> Class 6017 true: \t\t [3]\n",
      ">> Classes (6017 vs. 4070): \t [1] and [0]\n",
      ">> Classes (6017 vs. 6007): \t [0] and [1]\n",
      ">> Class 6018 true: \t\t [6]\n",
      ">> Classes (6018 vs. 4022): \t [1] and [0]\n",
      ">> Classes (6018 vs. 4040): \t [0] and [1]\n",
      ">> Classes (6018 vs. 4070): \t [3] and [0]\n",
      ">> Classes (6018 vs. 6001): \t [0] and [2]\n",
      ">> Classes (6018 vs. 6011): \t [1] and [0]\n",
      ">> Class 6020 true: \t\t [22]\n",
      ">> Classes (6020 vs. 2040): \t [1] and [0]\n",
      ">> Classes (6020 vs. 6001): \t [3] and [0]\n",
      ">> Class 6216 true: \t\t [1082]\n",
      ">> Classes (6216 vs. 6001): \t [0] and [1]\n",
      ">> Classes (6216 vs. 6007): \t [9] and [20]\n",
      ">> Classes (6216 vs. 6008): \t [1] and [0]\n",
      ">> Class 8002 true: \t\t [155]\n",
      ">> Classes (8002 vs. 3001): \t [11] and [0]\n",
      ">> Classes (8002 vs. 4040): \t [1] and [0]\n",
      ">> Class 9001 true: \t\t [5]\n",
      ">> Classes (9001 vs. 3001): \t [1] and [3]\n",
      ">> Classes (9001 vs. 4040): \t [0] and [3]\n"
     ]
    }
   ],
   "source": [
    "unique, counts = np.unique(y_train, return_counts=True)\n",
    "data_dict = dict(zip(unique, counts))\n",
    "pretty_print_of_confusion_matrix(C, classes)"
   ]
  },
  {
   "cell_type": "code",
   "execution_count": 70,
   "metadata": {
    "collapsed": true
   },
   "outputs": [],
   "source": [
    "C_ = C\n",
    "for i in range(C_.shape[0]):\n",
    "    C_[i,i] = 150"
   ]
  },
  {
   "cell_type": "code",
   "execution_count": 71,
   "metadata": {},
   "outputs": [
    {
     "data": {
      "image/png": "[encoded data removed]",
      "text/plain": [
       "<matplotlib.figure.Figure at 0x20f760d27f0>"
      ]
     },
     "metadata": {},
     "output_type": "display_data"
    }
   ],
   "source": [
    "# Draw a heatmap with the numeric values in each cell\n",
    "f, ax = plt.subplots(figsize=(50, 50))\n",
    "sns.heatmap(C_, annot=True, fmt=\"d\", linewidths=.5, ax=ax, xticklabels=classes, yticklabels=classes)\n",
    "sns.plt.savefig('heatmap.png')"
   ]
  },
  {
   "cell_type": "markdown",
   "metadata": {},
   "source": [
    "## <font color=\"Blue\">Consider several difficult cases:</font>"
   ]
  },
  {
   "cell_type": "markdown",
   "metadata": {},
   "source": [
    "After exploring the heatmap, we see that there are two different cases: a peak error for 2 classes and a long tail of error for a certain class."
   ]
  },
  {
   "cell_type": "markdown",
   "metadata": {},
   "source": [
    "## 4.1 Picked error <a id=\"section4.1\"/>"
   ]
  },
  {
   "cell_type": "markdown",
   "metadata": {},
   "source": [
    "### 4.1.1 Example #1"
   ]
  },
  {
   "cell_type": "markdown",
   "metadata": {},
   "source": [
    "Take the highest error from the heatmap, we see that this error belongs to classification of **6001** and **2040** classes. Take a look at them:"
   ]
  },
  {
   "cell_type": "code",
   "execution_count": 90,
   "metadata": {},
   "outputs": [
    {
     "data": {
      "text/html": [
       "<div>\n",
       "<style>\n",
       "    .dataframe thead tr:only-child th {\n",
       "        text-align: right;\n",
       "    }\n",
       "\n",
       "    .dataframe thead th {\n",
       "        text-align: left;\n",
       "    }\n",
       "\n",
       "    .dataframe tbody tr th {\n",
       "        vertical-align: top;\n",
       "    }\n",
       "</style>\n",
       "<table border=\"1\" class=\"dataframe\">\n",
       "  <thead>\n",
       "    <tr style=\"text-align: right;\">\n",
       "      <th></th>\n",
       "      <th>Type</th>\n",
       "      <th>Description</th>\n",
       "    </tr>\n",
       "  </thead>\n",
       "  <tbody>\n",
       "    <tr>\n",
       "      <th>474214</th>\n",
       "      <td>6001</td>\n",
       "      <td>Комиссия (0,1% за зачисление по договору N1642...</td>\n",
       "    </tr>\n",
       "    <tr>\n",
       "      <th>479203</th>\n",
       "      <td>6001</td>\n",
       "      <td>Комиссия за исх. платеж через ЦБ РФ на основан...</td>\n",
       "    </tr>\n",
       "  </tbody>\n",
       "</table>\n",
       "</div>"
      ],
      "text/plain": [
       "        Type                                        Description\n",
       "474214  6001  Комиссия (0,1% за зачисление по договору N1642...\n",
       "479203  6001  Комиссия за исх. платеж через ЦБ РФ на основан..."
      ]
     },
     "execution_count": 90,
     "metadata": {},
     "output_type": "execute_result"
    }
   ],
   "source": [
    "data[data.Type == 6001].tail(2)"
   ]
  },
  {
   "cell_type": "code",
   "execution_count": 89,
   "metadata": {
    "scrolled": true
   },
   "outputs": [
    {
     "data": {
      "text/html": [
       "<div>\n",
       "<style>\n",
       "    .dataframe thead tr:only-child th {\n",
       "        text-align: right;\n",
       "    }\n",
       "\n",
       "    .dataframe thead th {\n",
       "        text-align: left;\n",
       "    }\n",
       "\n",
       "    .dataframe tbody tr th {\n",
       "        vertical-align: top;\n",
       "    }\n",
       "</style>\n",
       "<table border=\"1\" class=\"dataframe\">\n",
       "  <thead>\n",
       "    <tr style=\"text-align: right;\">\n",
       "      <th></th>\n",
       "      <th>Type</th>\n",
       "      <th>Description</th>\n",
       "    </tr>\n",
       "  </thead>\n",
       "  <tbody>\n",
       "    <tr>\n",
       "      <th>499559</th>\n",
       "      <td>2040</td>\n",
       "      <td>Выплата процентов (18.50%)с 18/12/2014 по 23/1...</td>\n",
       "    </tr>\n",
       "    <tr>\n",
       "      <th>499593</th>\n",
       "      <td>2040</td>\n",
       "      <td>Выплата процентов (11.25%)с 18/05/2015 по 19/0...</td>\n",
       "    </tr>\n",
       "    <tr>\n",
       "      <th>499599</th>\n",
       "      <td>2040</td>\n",
       "      <td>Выплата процентов (11.25%)с 15/06/2015 по 16/0...</td>\n",
       "    </tr>\n",
       "    <tr>\n",
       "      <th>499602</th>\n",
       "      <td>2040</td>\n",
       "      <td>Выплата процентов (11.00%)с 18/06/2015 по 23/0...</td>\n",
       "    </tr>\n",
       "    <tr>\n",
       "      <th>499637</th>\n",
       "      <td>2040</td>\n",
       "      <td>Выплата процентов (10.3%) с 03/11/2015 по 05/1...</td>\n",
       "    </tr>\n",
       "  </tbody>\n",
       "</table>\n",
       "</div>"
      ],
      "text/plain": [
       "        Type                                        Description\n",
       "499559  2040  Выплата процентов (18.50%)с 18/12/2014 по 23/1...\n",
       "499593  2040  Выплата процентов (11.25%)с 18/05/2015 по 19/0...\n",
       "499599  2040  Выплата процентов (11.25%)с 15/06/2015 по 16/0...\n",
       "499602  2040  Выплата процентов (11.00%)с 18/06/2015 по 23/0...\n",
       "499637  2040  Выплата процентов (10.3%) с 03/11/2015 по 05/1..."
      ]
     },
     "execution_count": 89,
     "metadata": {},
     "output_type": "execute_result"
    }
   ],
   "source": [
    "data[data.Type == 2040].tail(2)"
   ]
  },
  {
   "cell_type": "code",
   "execution_count": 88,
   "metadata": {},
   "outputs": [
    {
     "data": {
      "text/plain": [
       "array(['№REF35721<<ИМЯ>ИНН=КПП=', '№REF19303<<ИМЯ>ИНН=КПП=',\n",
       "       '№REF52330<<ИМЯ>ИНН=КПП=', '№REF33873<<ИМЯ>ИНН=КПП=',\n",
       "       '№REF59927<<ИМЯ>ИНН=КПП=', '№REF52349<<ИМЯ>ИНН=КПП=',\n",
       "       '№REF48369<<ИМЯ>ИНН=КПП=', '№REF13912<<ИМЯ>ИНН=КПП=',\n",
       "       '№REF70491<<ИМЯ>ИНН=КПП=', '№REF33068<<ИМЯ>ИНН=КПП=',\n",
       "       '№REF13883<<ИМЯ>ИНН=КПП=', '№REF65906<<ИМЯ>ИНН=КПП=',\n",
       "       '№REF41098<<ИМЯ>ИНН=КПП=', '№REF13418<<ИМЯ>ИНН=КПП=',\n",
       "       '№REF33860<<ИМЯ>ИНН=КПП=', '№REF70754<<ИМЯ>ИНН=КПП=',\n",
       "       '№REF8733<<ИМЯ>ИНН=КПП=', '№REF37375<<ИМЯ>ИНН=КПП=',\n",
       "       '№REF34874<<ИМЯ>ИНН=КПП=', '№REF65935<<ИМЯ>ИНН=КПП=',\n",
       "       '№REF33835<<ИМЯ>ИНН=КПП=', '№REF36656<<ИМЯ>ИНН=КПП=',\n",
       "       '№REF835<<ИМЯ>ИНН=КПП=', '№REF67257<<ИМЯ>ИНН=КПП=',\n",
       "       '№REF11626<<ИМЯ>ИНН=КПП=', '№REF71329<<ИМЯ>ИНН=КПП=',\n",
       "       '№REF8721<<ИМЯ>ИНН=КПП=', '№REF73563<<ИМЯ>ИНН=КПП=',\n",
       "       '№REF48340<<ИМЯ>ИНН=КПП=', '№REF2359<<ИМЯ>ИНН=КПП=',\n",
       "       '№REF26086<<ИМЯ>ИНН=КПП=', '№REF76080<<ИМЯ>ИНН=КПП=',\n",
       "       '№REF68437<<ИМЯ>ИНН=КПП=', '№REF34932<<ИМЯ>ИНН=КПП=',\n",
       "       '№REF38181<<ИМЯ>ИНН=КПП=', '№REF39202<<ИМЯ>ИНН=КПП=',\n",
       "       '№REF33353<<ИМЯ>ИНН=КПП=', '№REF63679<<ИМЯ>ИНН=КПП=',\n",
       "       '№REF25485<<ИМЯ>ИНН=КПП=', '№REF33014<<ИМЯ>ИНН=КПП=',\n",
       "       '№REF22952<<ИМЯ>ИНН=КПП=', '№REF742<<ИМЯ>ИНН=КПП=',\n",
       "       '№REF48348<<ИМЯ>ИНН=КПП=', '№REF643<<ИМЯ>ИНН=КПП=',\n",
       "       '№REF14634<<ИМЯ>ИНН=КПП=', '№REF72669<<ИМЯ>ИНН=КПП=',\n",
       "       '№REF15568<<ИМЯ>ИНН=КПП=', '№REF40616<<ИМЯ>ИНН=КПП=',\n",
       "       '№REF70706<<ИМЯ>ИНН=КПП=', '№REF53887<<ИМЯ>ИНН=КПП=',\n",
       "       '№REF35731<<ИМЯ>ИНН=КПП=', '№REF13795<<ИМЯ>ИНН=КПП=',\n",
       "       '№REF33623<<ИМЯ>ИНН=КПП=', '№REF3731<<ИМЯ>ИНН=КПП=',\n",
       "       '№REF33577<<ИМЯ>ИНН=КПП=', '№REF39118<<ИМЯ>ИНН=КПП=',\n",
       "       '№REF66827<<ИМЯ>ИНН=КПП=', '№REF19308<<ИМЯ>ИНН=КПП=',\n",
       "       '№REF66887<<ИМЯ>ИНН=КПП=', '№REF40356<<ИМЯ>ИНН=КПП=',\n",
       "       '№REF65970<<ИМЯ>ИНН=КПП=', '№REF64826<<ИМЯ>ИНН=КПП=',\n",
       "       '№REF72826<<ИМЯ>ИНН=КПП=', '№REF65923<<ИМЯ>ИНН=КПП=',\n",
       "       '№REF33059<<ИМЯ>ИНН=КПП=', '№REF11554<<ИМЯ>ИНН=КПП=',\n",
       "       '№REF70764<<ИМЯ>ИНН=КПП=', '№REF34919<<ИМЯ>ИНН=КПП=',\n",
       "       '№REF7214<<ИМЯ>ИНН=КПП=', '№REF411<<ИМЯ>ИНН=КПП=',\n",
       "       '№REF25871<<ИМЯ>ИНН=КПП=', '№REF32346<<ИМЯ>ИНН=КПП=',\n",
       "       '№REF66869<<ИМЯ>ИНН=КПП=', '№REF72663<<ИМЯ>ИНН=КПП=',\n",
       "       '№REF48367<<ИМЯ>ИНН=КПП=', '№REF84667<<ИМЯ>ИНН=КПП=',\n",
       "       '№REF34935<<ИМЯ>ИНН=КПП=', '№REF73338<<ИМЯ>ИНН=КПП=',\n",
       "       '№REF13918<<ИМЯ>ИНН=КПП=', '№REF48381<<ИМЯ>ИНН=КПП=',\n",
       "       '№REF41810<<ИМЯ>ИНН=КПП=', '№REF51060<<ИМЯ>ИНН=КПП=',\n",
       "       '№REF72657<<ИМЯ>ИНН=КПП=', '№REF23914<<ИМЯ>ИНН=КПП=',\n",
       "       '№REF59895<<ИМЯ>ИНН=КПП=', '№REF33586<<ИМЯ>ИНН=КПП=',\n",
       "       '№REF41812<<ИМЯ>ИНН=КПП=', '№REF40359<<ИМЯ>ИНН=КПП=',\n",
       "       '№REF65941<<ИМЯ>ИНН=КПП=', '№REF66833<<ИМЯ>ИНН=КПП=',\n",
       "       '№REF33684<<ИМЯ>ИНН=КПП=', '№REF13663<<ИМЯ>ИНН=КПП=',\n",
       "       '№REF26785<<ИМЯ>ИНН=КПП=', '№REF40641<<ИМЯ>ИНН=КПП=',\n",
       "       '№REF72723<<ИМЯ>ИНН=КПП=', '№REF67316<<ИМЯ>ИНН=КПП=',\n",
       "       '№REF40613<<ИМЯ>ИНН=КПП=', '№REF8734<<ИМЯ>ИНН=КПП=',\n",
       "       '№REF16296<<ИМЯ>ИНН=КПП=', '№REF72008<<ИМЯ>ИНН=КПП=',\n",
       "       '№REF67915<<ИМЯ>ИНН=КПП=', '№REF41097<<ИМЯ>ИНН=КПП=',\n",
       "       '№REF32745<<ИМЯ>ИНН=КПП=', '№REF73062<<ИМЯ>ИНН=КПП=',\n",
       "       '№REF13796<<ИМЯ>ИНН=КПП=', '№REF32194<<ИМЯ>ИНН=КПП=',\n",
       "       '№REF32225<<ИМЯ>ИНН=КПП=', '№REF13880<<ИМЯ>ИНН=КПП=',\n",
       "       '№REF65953<<ИМЯ>ИНН=КПП=', '№REF48360<<ИМЯ>ИНН=КПП=',\n",
       "       '№REF25778<<ИМЯ>ИНН=КПП=', '№REF70880<<ИМЯ>ИНН=КПП=',\n",
       "       '№REF33839<<ИМЯ>ИНН=КПП=', '№REF65938<<ИМЯ>ИНН=КПП=',\n",
       "       '№REF15472<<ИМЯ>ИНН=КПП=', '№REF7213<<ИМЯ>ИНН=КПП=',\n",
       "       '№REF65948<<ИМЯ>ИНН=КПП=', '№REF32204<<ИМЯ>ИНН=КПП=',\n",
       "       '№REF32803<<ИМЯ>ИНН=КПП=', '№REF57072<<ИМЯ>ИНН=КПП=',\n",
       "       '№REF12200<<ИМЯ>ИНН=КПП=', '№REF5686<<ИМЯ>ИНН=КПП=',\n",
       "       '№REF37400<<ИМЯ>ИНН=КПП=', '№REF72804<<ИМЯ>ИНН=КПП=',\n",
       "       '№REF32389<<ИМЯ>ИНН=КПП=', '№REF32385<<ИМЯ>ИНН=КПП=',\n",
       "       '№REF40664<<ИМЯ>ИНН=КПП=', '№REF66894<<ИМЯ>ИНН=КПП=',\n",
       "       '№REF22699<<ИМЯ>ИНН=КПП=', '№REF15585<<ИМЯ>ИНН=КПП=',\n",
       "       '№REF76077<<ИМЯ>ИНН=КПП=', '№REF70889<<ИМЯ>ИНН=КПП=',\n",
       "       '№REF52304<<ИМЯ>ИНН=КПП=', '№REF72660<<ИМЯ>ИНН=КПП=',\n",
       "       '№REF292<<ИМЯ>ИНН=КПП=', '№REF35331<<ИМЯ>ИНН=КПП=',\n",
       "       '№REF24017<<ИМЯ>ИНН=КПП=', '№REF32198<<ИМЯ>ИНН=КПП=',\n",
       "       '№REF33874<<ИМЯ>ИНН=КПП=', '№REF48211<<ИМЯ>ИНН=КПП=',\n",
       "       '№REF19309<<ИМЯ>ИНН=КПП=', '№REF12116<<ИМЯ>ИНН=КПП=',\n",
       "       '№REF22955<<ИМЯ>ИНН=КПП=', '№REF59424<<ИМЯ>ИНН=КПП=',\n",
       "       '№REF8725<<ИМЯ>ИНН=КПП=', '№REF70881<<ИМЯ>ИНН=КПП=',\n",
       "       '№REF16400<<ИМЯ>ИНН=КПП=', '№REF52350<<ИМЯ>ИНН=КПП=',\n",
       "       '№REF65988<<ИМЯ>ИНН=КПП=', '№REF72001<<ИМЯ>ИНН=КПП=',\n",
       "       '№REF16414<<ИМЯ>ИНН=КПП=', '№REF41159<<ИМЯ>ИНН=КПП=',\n",
       "       '№REF39115<<ИМЯ>ИНН=КПП=', '№REF34233<<ИМЯ>ИНН=КПП=',\n",
       "       '№REF16293<<ИМЯ>ИНН=КПП=', '№REF72822<<ИМЯ>ИНН=КПП=',\n",
       "       '№REF48383<<ИМЯ>ИНН=КПП=', '№REF16389<<ИМЯ>ИНН=КПП=',\n",
       "       '№REF70887<<ИМЯ>ИНН=КПП=', '№REF78616<<ИМЯ>ИНН=КПП=',\n",
       "       '№REF40389<<ИМЯ>ИНН=КПП=', '№REF33876<<ИМЯ>ИНН=КПП=',\n",
       "       '№REF32393<<ИМЯ>ИНН=КПП=', '№REF13887<<ИМЯ>ИНН=КПП=',\n",
       "       '№REF59317<<ИМЯ>ИНН=КПП=', '№REF16020<<ИМЯ>ИНН=КПП=',\n",
       "       '№REF24480<<ИМЯ>ИНН=КПП=', '№REF32802<<ИМЯ>ИНН=КПП=',\n",
       "       '№REF5687<<ИМЯ>ИНН=КПП=', '№REF35718<<ИМЯ>ИНН=КПП=',\n",
       "       '№REF13910<<ИМЯ>ИНН=КПП=', '№REF60779<<ИМЯ>ИНН=КПП=',\n",
       "       '№REF22956<<ИМЯ>ИНН=КПП=', '№REF67319<<ИМЯ>ИНН=КПП=',\n",
       "       '№REF50853<<ИМЯ>ИНН=КПП=', '№REF35730<<ИМЯ>ИНН=КПП=',\n",
       "       '№REF16701<<ИМЯ>ИНН=КПП=', '№REF14627<<ИМЯ>ИНН=КПП=',\n",
       "       '№REF70737<<ИМЯ>ИНН=КПП=', '№REF38962<<ИМЯ>ИНН=КПП=',\n",
       "       '№REF67258<<ИМЯ>ИНН=КПП=', '№REF65926<<ИМЯ>ИНН=КПП=',\n",
       "       '№REF34230<<ИМЯ>ИНН=КПП=', '№REF33560<<ИМЯ>ИНН=КПП=',\n",
       "       '№REF15570<<ИМЯ>ИНН=КПП=', '№REF13885<<ИМЯ>ИНН=КПП=',\n",
       "       '№REF72827<<ИМЯ>ИНН=КПП=', '№REF40659<<ИМЯ>ИНН=КПП=',\n",
       "       '№REF66880<<ИМЯ>ИНН=КПП=', '№REF10621<<ИМЯ>ИНН=КПП=',\n",
       "       '№REF32359<<ИМЯ>ИНН=КПП=', '№REF40376<<ИМЯ>ИНН=КПП=',\n",
       "       '№REF70760<<ИМЯ>ИНН=КПП=', '№REF3568<<ИМЯ>ИНН=КПП=',\n",
       "       '№REF33692<<ИМЯ>ИНН=КПП=', '№REF32911<<ИМЯ>ИНН=КПП=',\n",
       "       '№REF33266<<ИМЯ>ИНН=КПП=', '№REF2116<<ИМЯ>ИНН=КПП=',\n",
       "       '№REF16406<<ИМЯ>ИНН=КПП=', '№REF52318<<ИМЯ>ИНН=КПП=',\n",
       "       '№REF37411<<ИМЯ>ИНН=КПП=', '№REF48226<<ИМЯ>ИНН=КПП=',\n",
       "       '№REF52337<<ИМЯ>ИНН=КПП=', '№REF8732<<ИМЯ>ИНН=КПП=',\n",
       "       '№REF80024<<ИМЯ>ИНН=КПП=', '№REF59428<<ИМЯ>ИНН=КПП=',\n",
       "       '№REF65911<<ИМЯ>ИНН=КПП=', '№REF13919<<ИМЯ>ИНН=КПП=',\n",
       "       '№REF16391<<ИМЯ>ИНН=КПП=', '№REF1463<<ИМЯ>ИНН=КПП=',\n",
       "       '№REF34921<<ИМЯ>ИНН=КПП=', '№REF72672<<ИМЯ>ИНН=КПП=',\n",
       "       '№REF33678<<ИМЯ>ИНН=КПП=', '№REF66870<<ИМЯ>ИНН=КПП=',\n",
       "       '№REF65927<<ИМЯ>ИНН=КПП=', '№REF52112<<ИМЯ>ИНН=КПП=',\n",
       "       '№REF34480<<ИМЯ>ИНН=КПП=', '№REF37436<<ИМЯ>ИНН=КПП=',\n",
       "       '№REF2813<<ИМЯ>ИНН=КПП=', '№REF33685<<ИМЯ>ИНН=КПП=',\n",
       "       '№REF70660<<ИМЯ>ИНН=КПП=', '№REF33001<<ИМЯ>ИНН=КПП=',\n",
       "       '№REF22944<<ИМЯ>ИНН=КПП=', '№REF64783<<ИМЯ>ИНН=КПП=',\n",
       "       '№REF72009<<ИМЯ>ИНН=КПП=', '№REF8716<<ИМЯ>ИНН=КПП=',\n",
       "       '№REF40303<<ИМЯ>ИНН=КПП=', '№REF8959<<ИМЯ>ИНН=КПП=',\n",
       "       '№REF36650<<ИМЯ>ИНН=КПП=', '№REF36646<<ИМЯ>ИНН=КПП=',\n",
       "       '№REF34140<<ИМЯ>ИНН=КПП=', '№REF32226<<ИМЯ>ИНН=КПП=',\n",
       "       '№REF12133<<ИМЯ>ИНН=КПП=', '№REF73335<<ИМЯ>ИНН=КПП=',\n",
       "       '№REF35727<<ИМЯ>ИНН=КПП=', '№REF25735<<ИМЯ>ИНН=КПП=',\n",
       "       '№REF26087<<ИМЯ>ИНН=КПП=', '№REF52334<<ИМЯ>ИНН=КПП=',\n",
       "       '№REF33805<<ИМЯ>ИНН=КПП=', '№REF32392<<ИМЯ>ИНН=КПП=',\n",
       "       '№REF37398<<ИМЯ>ИНН=КПП=', '№REF67251<<ИМЯ>ИНН=КПП=',\n",
       "       '№REF39113<<ИМЯ>ИНН=КПП=', '№REF52309<<ИМЯ>ИНН=КПП=',\n",
       "       '№REF72329<<ИМЯ>ИНН=КПП=', '№REF48220<<ИМЯ>ИНН=КПП=',\n",
       "       '№REF48374<<ИМЯ>ИНН=КПП=', '№REF52332<<ИМЯ>ИНН=КПП=',\n",
       "       '№REF16284<<ИМЯ>ИНН=КПП=', '№REF68463<<ИМЯ>ИНН=КПП=',\n",
       "       '№REF33693<<ИМЯ>ИНН=КПП=', '№REF40378<<ИМЯ>ИНН=КПП=',\n",
       "       '№REF3542<<ИМЯ>ИНН=КПП=', '№REF71855<<ИМЯ>ИНН=КПП=',\n",
       "       '№REF67261<<ИМЯ>ИНН=КПП=', '№REF35726<<ИМЯ>ИНН=КПП=',\n",
       "       '№REF50849<<ИМЯ>ИНН=КПП=', '№REF40462<<ИМЯ>ИНН=КПП=',\n",
       "       '№REF73575<<ИМЯ>ИНН=КПП=', '№REF15629<<ИМЯ>ИНН=КПП=',\n",
       "       '№REF73324<<ИМЯ>ИНН=КПП=', '№REF34231<<ИМЯ>ИНН=КПП=',\n",
       "       '№REF15028<<ИМЯ>ИНН=КПП=', '№REF78651<<ИМЯ>ИНН=КПП=',\n",
       "       '№REF56017<<ИМЯ>ИНН=КПП=', '№REF40353<<ИМЯ>ИНН=КПП=',\n",
       "       '№REF37374<<ИМЯ>ИНН=КПП=', '№REF40610<<ИМЯ>ИНН=КПП=',\n",
       "       '№REF33682<<ИМЯ>ИНН=КПП=', '№REF40460<<ИМЯ>ИНН=КПП=',\n",
       "       '№REF33833<<ИМЯ>ИНН=КПП=', '№REF34232<<ИМЯ>ИНН=КПП=',\n",
       "       '№REF79087<<ИМЯ>ИНН=КПП=', '№REF12118<<ИМЯ>ИНН=КПП=',\n",
       "       '№REF37378<<ИМЯ>ИНН=КПП=', '№REF16934<<ИМЯ>ИНН=КПП=',\n",
       "       '№REF70766<<ИМЯ>ИНН=КПП=', '№REF693<<ИМЯ>ИНН=КПП=',\n",
       "       '№REF72013<<ИМЯ>ИНН=КПП=', '№REF26076<<ИМЯ>ИНН=КПП=',\n",
       "       '№REF78649<<ИМЯ>ИНН=КПП=', '№REF22513<<ИМЯ>ИНН=КПП=',\n",
       "       '№REF59146<<ИМЯ>ИНН=КПП=', '№REF32807<<ИМЯ>ИНН=КПП=',\n",
       "       '№REF23981<<ИМЯ>ИНН=КПП=', '№REF53886<<ИМЯ>ИНН=КПП=',\n",
       "       '№REF19306<<ИМЯ>ИНН=КПП=', '№REF43279<<ИМЯ>ИНН=КПП=',\n",
       "       '№REF41829<<ИМЯ>ИНН=КПП=', '№REF70773<<ИМЯ>ИНН=КПП=',\n",
       "       '№REF35561<<ИМЯ>ИНН=КПП=', '№REF35014<<ИМЯ>ИНН=КПП=',\n",
       "       '№REF11763<<ИМЯ>ИНН=КПП=', '№REF73334<<ИМЯ>ИНН=КПП=',\n",
       "       '№REF70738<<ИМЯ>ИНН=КПП=', '№REF48230<<ИМЯ>ИНН=КПП=',\n",
       "       '№REF65958<<ИМЯ>ИНН=КПП=', '№REF48347<<ИМЯ>ИНН=КПП=',\n",
       "       '№REF32365<<ИМЯ>ИНН=КПП=', '№REF12134<<ИМЯ>ИНН=КПП=',\n",
       "       '№REF34714<<ИМЯ>ИНН=КПП=', '№REF32211<<ИМЯ>ИНН=КПП=',\n",
       "       '№REF51069<<ИМЯ>ИНН=КПП=', '№REF52348<<ИМЯ>ИНН=КПП=',\n",
       "       '№REF32355<<ИМЯ>ИНН=КПП=', '№REF72805<<ИМЯ>ИНН=КПП=',\n",
       "       '№REF73579<<ИМЯ>ИНН=КПП=', '№REF16412<<ИМЯ>ИНН=КПП=',\n",
       "       '№REF32353<<ИМЯ>ИНН=КПП=', '№REF35713<<ИМЯ>ИНН=КПП=',\n",
       "       '№REF73567<<ИМЯ>ИНН=КПП=', '№REF40305<<ИМЯ>ИНН=КПП=',\n",
       "       '№REF35743<<ИМЯ>ИНН=КПП=', '№REF75339<<ИМЯ>ИНН=КПП=',\n",
       "       '№REF67323<<ИМЯ>ИНН=КПП=', '№REF48375<<ИМЯ>ИНН=КПП=',\n",
       "       '№REF59315<<ИМЯ>ИНН=КПП=', '№REF12154<<ИМЯ>ИНН=КПП=',\n",
       "       '№REF59919<<ИМЯ>ИНН=КПП=', '№REF66736<<ИМЯ>ИНН=КПП=',\n",
       "       '№REF691<<ИМЯ>ИНН=КПП=', '№REF71360<<ИМЯ>ИНН=КПП=',\n",
       "       '№REF35677<<ИМЯ>ИНН=КПП=', '№REF19298<<ИМЯ>ИНН=КПП=',\n",
       "       '№REF33644<<ИМЯ>ИНН=КПП=', '№REF82209<<ИМЯ>ИНН=КПП=',\n",
       "       '№REF22939<<ИМЯ>ИНН=КПП=', '№REF33997<<ИМЯ>ИНН=КПП=',\n",
       "       '№REF48345<<ИМЯ>ИНН=КПП=', '№REF751<<ИМЯ>ИНН=КПП=',\n",
       "       '№REF35755<<ИМЯ>ИНН=КПП=', '№REF16395<<ИМЯ>ИНН=КПП=',\n",
       "       '№REF67315<<ИМЯ>ИНН=КПП=', '№REF48388<<ИМЯ>ИНН=КПП=',\n",
       "       '№REF59427<<ИМЯ>ИНН=КПП=', '№REF32218<<ИМЯ>ИНН=КПП=',\n",
       "       '№REF49264<<ИМЯ>ИНН=КПП=', '№REF73077<<ИМЯ>ИНН=КПП=',\n",
       "       '№REF66735<<ИМЯ>ИНН=КПП=', '№REF64829<<ИМЯ>ИНН=КПП=',\n",
       "       '№REF32943<<ИМЯ>ИНН=КПП=', '№REF3569<<ИМЯ>ИНН=КПП=',\n",
       "       '№REF16413<<ИМЯ>ИНН=КПП=', '№REF72327<<ИМЯ>ИНН=КПП=',\n",
       "       '№REF70727<<ИМЯ>ИНН=КПП=', '№REF26952<<ИМЯ>ИНН=КПП=',\n",
       "       '№REF3703<<ИМЯ>ИНН=КПП=', '№REF24023<<ИМЯ>ИНН=КПП=',\n",
       "       '№REF12451<<ИМЯ>ИНН=КПП=', '№REF48217<<ИМЯ>ИНН=КПП=',\n",
       "       '№REF69532<<ИМЯ>ИНН=КПП=', '№REF71997<<ИМЯ>ИНН=КПП=',\n",
       "       '№REF48359<<ИМЯ>ИНН=КПП=', '№REF73074<<ИМЯ>ИНН=КПП=',\n",
       "       '№REF34907<<ИМЯ>ИНН=КПП=', '№REF32338<<ИМЯ>ИНН=КПП=',\n",
       "       '№REF32232<<ИМЯ>ИНН=КПП=', '№REF51064<<ИМЯ>ИНН=КПП=',\n",
       "       '№REF32217<<ИМЯ>ИНН=КПП=', '№REF67253<<ИМЯ>ИНН=КПП=',\n",
       "       '№REF12114<<ИМЯ>ИНН=КПП=', '№REF54710<<ИМЯ>ИНН=КПП=',\n",
       "       '№REF32401<<ИМЯ>ИНН=КПП=', '№REF72815<<ИМЯ>ИНН=КПП=',\n",
       "       '№REF41850<<ИМЯ>ИНН=КПП=', '№REF37431<<ИМЯ>ИНН=КПП=',\n",
       "       '№REF13390<<ИМЯ>ИНН=КПП=', '№REF52200<<ИМЯ>ИНН=КПП=',\n",
       "       '№REF64780<<ИМЯ>ИНН=КПП=', '№REF13394<<ИМЯ>ИНН=КПП=',\n",
       "       '№REF35733<<ИМЯ>ИНН=КПП=', '№REF70878<<ИМЯ>ИНН=КПП=',\n",
       "       '№REF16801<<ИМЯ>ИНН=КПП=', '№REF452<<ИМЯ>ИНН=КПП=',\n",
       "       '№REF23705<<ИМЯ>ИНН=КПП=', '№REF13930<<ИМЯ>ИНН=КПП=',\n",
       "       '№REF34338<<ИМЯ>ИНН=КПП=', '№REF65950<<ИМЯ>ИНН=КПП=',\n",
       "       '№REF51744<<ИМЯ>ИНН=КПП=', '№REF35756<<ИМЯ>ИНН=КПП=',\n",
       "       '№REF66879<<ИМЯ>ИНН=КПП=', '№REF35734<<ИМЯ>ИНН=КПП=',\n",
       "       '№REF59931<<ИМЯ>ИНН=КПП=', '№REF70673<<ИМЯ>ИНН=КПП=',\n",
       "       '№REF64827<<ИМЯ>ИНН=КПП=', '№REF33864<<ИМЯ>ИНН=КПП=',\n",
       "       '№REF59395<<ИМЯ>ИНН=КПП='], dtype=object)"
      ]
     },
     "execution_count": 88,
     "metadata": {},
     "output_type": "execute_result"
    }
   ],
   "source": [
    "X_test[(y_test == 6001) & (y_pred == 2040)]"
   ]
  },
  {
   "cell_type": "markdown",
   "metadata": {},
   "source": [
    "### 4.1.2 Example #2"
   ]
  },
  {
   "cell_type": "markdown",
   "metadata": {},
   "source": [
    "Take another high error from the heatmap that belongs to classification of **4070** and **2040** classes. Take a look at them:"
   ]
  },
  {
   "cell_type": "code",
   "execution_count": 94,
   "metadata": {},
   "outputs": [
    {
     "data": {
      "text/html": [
       "<div>\n",
       "<style>\n",
       "    .dataframe thead tr:only-child th {\n",
       "        text-align: right;\n",
       "    }\n",
       "\n",
       "    .dataframe thead th {\n",
       "        text-align: left;\n",
       "    }\n",
       "\n",
       "    .dataframe tbody tr th {\n",
       "        vertical-align: top;\n",
       "    }\n",
       "</style>\n",
       "<table border=\"1\" class=\"dataframe\">\n",
       "  <thead>\n",
       "    <tr style=\"text-align: right;\">\n",
       "      <th></th>\n",
       "      <th>Type</th>\n",
       "      <th>Description</th>\n",
       "    </tr>\n",
       "  </thead>\n",
       "  <tbody>\n",
       "    <tr>\n",
       "      <th>496571</th>\n",
       "      <td>4070</td>\n",
       "      <td>Частичное погашение займа по договору беспроце...</td>\n",
       "    </tr>\n",
       "    <tr>\n",
       "      <th>497622</th>\n",
       "      <td>4070</td>\n",
       "      <td>Частичное погашение займа по договору беспроце...</td>\n",
       "    </tr>\n",
       "  </tbody>\n",
       "</table>\n",
       "</div>"
      ],
      "text/plain": [
       "        Type                                        Description\n",
       "496571  4070  Частичное погашение займа по договору беспроце...\n",
       "497622  4070  Частичное погашение займа по договору беспроце..."
      ]
     },
     "execution_count": 94,
     "metadata": {},
     "output_type": "execute_result"
    }
   ],
   "source": [
    "data[data.Type == 4070].tail(2)"
   ]
  },
  {
   "cell_type": "code",
   "execution_count": 89,
   "metadata": {
    "scrolled": true
   },
   "outputs": [
    {
     "data": {
      "text/html": [
       "<div>\n",
       "<style>\n",
       "    .dataframe thead tr:only-child th {\n",
       "        text-align: right;\n",
       "    }\n",
       "\n",
       "    .dataframe thead th {\n",
       "        text-align: left;\n",
       "    }\n",
       "\n",
       "    .dataframe tbody tr th {\n",
       "        vertical-align: top;\n",
       "    }\n",
       "</style>\n",
       "<table border=\"1\" class=\"dataframe\">\n",
       "  <thead>\n",
       "    <tr style=\"text-align: right;\">\n",
       "      <th></th>\n",
       "      <th>Type</th>\n",
       "      <th>Description</th>\n",
       "    </tr>\n",
       "  </thead>\n",
       "  <tbody>\n",
       "    <tr>\n",
       "      <th>499559</th>\n",
       "      <td>2040</td>\n",
       "      <td>Выплата процентов (18.50%)с 18/12/2014 по 23/1...</td>\n",
       "    </tr>\n",
       "    <tr>\n",
       "      <th>499593</th>\n",
       "      <td>2040</td>\n",
       "      <td>Выплата процентов (11.25%)с 18/05/2015 по 19/0...</td>\n",
       "    </tr>\n",
       "    <tr>\n",
       "      <th>499599</th>\n",
       "      <td>2040</td>\n",
       "      <td>Выплата процентов (11.25%)с 15/06/2015 по 16/0...</td>\n",
       "    </tr>\n",
       "    <tr>\n",
       "      <th>499602</th>\n",
       "      <td>2040</td>\n",
       "      <td>Выплата процентов (11.00%)с 18/06/2015 по 23/0...</td>\n",
       "    </tr>\n",
       "    <tr>\n",
       "      <th>499637</th>\n",
       "      <td>2040</td>\n",
       "      <td>Выплата процентов (10.3%) с 03/11/2015 по 05/1...</td>\n",
       "    </tr>\n",
       "  </tbody>\n",
       "</table>\n",
       "</div>"
      ],
      "text/plain": [
       "        Type                                        Description\n",
       "499559  2040  Выплата процентов (18.50%)с 18/12/2014 по 23/1...\n",
       "499593  2040  Выплата процентов (11.25%)с 18/05/2015 по 19/0...\n",
       "499599  2040  Выплата процентов (11.25%)с 15/06/2015 по 16/0...\n",
       "499602  2040  Выплата процентов (11.00%)с 18/06/2015 по 23/0...\n",
       "499637  2040  Выплата процентов (10.3%) с 03/11/2015 по 05/1..."
      ]
     },
     "execution_count": 89,
     "metadata": {},
     "output_type": "execute_result"
    }
   ],
   "source": [
    "data[data.Type == 2040].tail(2)"
   ]
  },
  {
   "cell_type": "code",
   "execution_count": 95,
   "metadata": {},
   "outputs": [
    {
     "data": {
      "text/plain": [
       "array(['№REFD269301<<ИМЯ>ИНН=КПП=', '№REFD434557<<ИМЯ>ИНН=КПП=',\n",
       "       '№REFD398502<<ИМЯ>ИНН=КПП=', '№REFD781881<<ИМЯ>ИНН=КПП=',\n",
       "       '№REFD368927<<ИМЯ>ИНН=КПП=', '№REFD429738<<ИМЯ>ИНН=КПП=',\n",
       "       '№REFD018977<<ИМЯ>ИНН=КПП=',\n",
       "       '1708878.608470.665002№REFAMphD0220322<<ИМЯ>ИНН=КПП=',\n",
       "       '№REFD072031<<ИМЯ>ИНН=КПП=', '№REFD240058<<ИМЯ>ИНН=КПП=',\n",
       "       '№REFD790714<<ИМЯ>ИНН=КПП=', '№REFD065685<<ИМЯ>ИНН=КПП=',\n",
       "       '№REFD092180<<ИМЯ>ИНН=КПП=', '№REFD063407<<ИМЯ>ИНН=КПП=',\n",
       "       '№REFD752616<<ИМЯ>ИНН=КПП=', '№REFD296531<<ИМЯ>ИНН=КПП=',\n",
       "       '№REFD319398<<ИМЯ>ИНН=КПП=',\n",
       "       'Покупка/продажа валюты по заявке № 1(1).№REF1<<ИМЯ>ИНН=3128011788',\n",
       "       '№REFD467258<<ИМЯ>ИНН=КПП=', '№REFD315949<<ИМЯ>ИНН=КПП=',\n",
       "       '[КП] платеж по договору займа, НДС не облагается НДС не облагается№REF23<<ИМЯ>ИНН=4823006703КПП=997550001',\n",
       "       '№REFD791878<<ИМЯ>ИНН=КПП=', '№REFD112616<<ИМЯ>ИНН=КПП=',\n",
       "       'XX.1711652.617382.665002№REFAMphI0270198<<ИМЯ>ИНН=КПП=',\n",
       "       '№REFD746808<<ИМЯ>ИНН=КПП=', '№REFD054414<<ИМЯ>ИНН=КПП=',\n",
       "       '№REFD043330<<ИМЯ>ИНН=КПП=', '№REFD020436<<ИМЯ>ИНН=КПП=',\n",
       "       '№REFD018409<<ИМЯ>ИНН=КПП=', '№REFD194917<<ИМЯ>ИНН=КПП=',\n",
       "       '№REFD465983<<ИМЯ>ИНН=КПП=', '№REFD788875<<ИМЯ>ИНН=КПП=',\n",
       "       '№REFD402697<<ИМЯ>ИНН=КПП=', '№REFD207557<<ИМЯ>ИНН=КПП=',\n",
       "       '№REFD709144<<ИМЯ>ИНН=КПП=', '№REFD382974<<ИМЯ>ИНН=КПП=',\n",
       "       '№REFD350659<<ИМЯ>ИНН=КПП=',\n",
       "       '1707907.605166.679451№REFAMphC0206297<<ИМЯ>ИНН=КПП=',\n",
       "       '№REFD012267<<ИМЯ>ИНН=КПП=', '№REFD012575<<ИМЯ>ИНН=КПП=',\n",
       "       '№REFD117601<<ИМЯ>ИНН=КПП=', '№REFD387307<<ИМЯ>ИНН=КПП=',\n",
       "       '№REFD235154<<ИМЯ>ИНН=КПП=', '№REFD392982<<ИМЯ>ИНН=КПП=',\n",
       "       '№REFD748319<<ИМЯ>ИНН=КПП=', '№REFD791879<<ИМЯ>ИНН=КПП=',\n",
       "       '[КП] платеж по договору займа, НДС не облагается НДС не облагается<<ИМЯ>АО  НЛМК-УралИНН=6646009256КПП=668401001',\n",
       "       '№REFD753287<<ИМЯ>ИНН=КПП=', '№REFD118527<<ИМЯ>ИНН=КПП=',\n",
       "       '№REFD248709<<ИМЯ>ИНН=КПП=', '№REFD423957<<ИМЯ>ИНН=КПП=',\n",
       "       '№REFD263745<<ИМЯ>ИНН=КПП=', '№REFD095486<<ИМЯ>ИНН=КПП=',\n",
       "       '№REFD154201<<ИМЯ>ИНН=КПП=', '№REFD375353<<ИМЯ>ИНН=КПП=',\n",
       "       '№REFD012266<<ИМЯ>ИНН=КПП=', '№REFD729541<<ИМЯ>ИНН=КПП=',\n",
       "       '№REFD399516<<ИМЯ>ИНН=КПП=', '№REFD322858<<ИМЯ>ИНН=КПП=',\n",
       "       '№REFD098005<<ИМЯ>ИНН=КПП=', '№REFD394013<<ИМЯ>ИНН=КПП=',\n",
       "       '№REFD428434<<ИМЯ>ИНН=КПП=', '№REFD667532<<ИМЯ>ИНН=КПП=',\n",
       "       '№REFD360216<<ИМЯ>ИНН=КПП=', '№REFD306107<<ИМЯ>ИНН=КПП=',\n",
       "       '№REFD328599<<ИМЯ>ИНН=КПП=', '№REFD693055<<ИМЯ>ИНН=КПП=',\n",
       "       '№REFD796804<<ИМЯ>ИНН=КПП=', '№REFD455078<<ИМЯ>ИНН=КПП=',\n",
       "       '1706975.601768.600966№REFAMphB0193409<<ИМЯ>ИНН=КПП=',\n",
       "       '№REFD415234<<ИМЯ>ИНН=КПП=', '№REFD036479<<ИМЯ>ИНН=КПП=',\n",
       "       '№REFD061585<<ИМЯ>ИНН=КПП=', '№REFD231918<<ИМЯ>ИНН=КПП=',\n",
       "       '№REFD729862<<ИМЯ>ИНН=КПП=',\n",
       "       'Возврат процентов по договору процентного займа N 23190 от 21.05.2013г. НДС не облагается№REF<<ИМЯ>Общество с ограниченной ответственностью  НЛМК-Информационные технологииИНН=4823055193КПП=482301001',\n",
       "       '№REFD385273<<ИМЯ>ИНН=КПП=', '№REFD595203<<ИМЯ>ИНН=КПП=',\n",
       "       '№REFD478801<<ИМЯ>ИНН=КПП=',\n",
       "       '{VO01030} ЗАЯВКА N 301174 ОТ 30/11/2012 - КОНВЕРСИЯ 1205100.00 RUB ЗА EUR, КУРС 40.17000000.PO# 30117 DD 3011<<ИМЯ>НОВОЛИПЕЦКИЙ МЕТАЛЛУРГИЧЕСКИНН=4823006703',\n",
       "       'XX.1711715.617724.600966№REFAMphI0272803<<ИМЯ>ИНН=КПП=',\n",
       "       '№REFD342358<<ИМЯ>ИНН=КПП=', '№REFD306310<<ИМЯ>ИНН=КПП=',\n",
       "       'Оплата за покупку векселейпо договору 10-26/2013 купли-продажи векселей ГПБ (ОАО) от 31.07.2013. НДС не облагается<<ИМЯ>Ф-л ГПБ (ОАО) в г.Екатеринбурге (до востребования)ИНН=7744001497КПП=',\n",
       "       'Досрочный частичный возврат беспроцентного займа по договору N91005 от 28.12.2010г. НДС не облагается№REF42734<<ИМЯ>ОAО  СТОЙЛЕНСКИЙ ГОРНО-ОБОГAТИТЕЛЬНЫЙ КОМБИНAТИНН=3128011788КПП=997550001',\n",
       "       '№REFD750015<<ИМЯ>ИНН=КПП=', '№REFD321695<<ИМЯ>ИНН=КПП=',\n",
       "       '№REFD016640<<ИМЯ>ИНН=КПП=',\n",
       "       '[КП] платеж по договору займа, НДС не облагается НДС не облагается№REF26<<ИМЯ>ПАО  НЛМКИНН=4823006703КПП=997550001',\n",
       "       '№REFD273162<<ИМЯ>ИНН=КПП=', '№REFD090776<<ИМЯ>ИНН=КПП=',\n",
       "       '№REFD305354<<ИМЯ>ИНН=КПП=', '№REFD400603<<ИМЯ>ИНН=КПП=',\n",
       "       '№REFD246340<<ИМЯ>ИНН=КПП=', '№REFD336689<<ИМЯ>ИНН=КПП=',\n",
       "       '№REFD221773<<ИМЯ>ИНН=КПП=', '№REFD793745<<ИМЯ>ИНН=КПП=',\n",
       "       '№REFD787750<<ИМЯ>ИНН=КПП=', '№REFD250739<<ИМЯ>ИНН=КПП=',\n",
       "       '№REFD126024<<ИМЯ>ИНН=КПП=',\n",
       "       '{VO01030} Покупка резидентом иностранной валюты за валюту РФ. Курс - 54.8126 Сумма - 2530.60 USD (Поручениена покупку N 4 от 29.06.2015)№REF<<ИМЯ>ОБЩЕСТВО С ОГРАНИЧЕННОЙ ОТВЕТСТВЕННОСТЬЮ  ТОРГОВЫЙ ДОМ НЛМКИНН=7705605953КПП=',\n",
       "       'Досрочный частичный возврат беспроцентного займа по Договору N91005 от 28.12.2010г. НДС не облагается№REF46104<<ИМЯ>ОAО  СТОЙЛЕНСКИЙ ГОРНО-ОБОГAТИТЕЛЬНЫЙ КОМБИНAТИНН=3128011788КПП=997550001',\n",
       "       '№REFD691810<<ИМЯ>ИНН=КПП=', '№REFD323860<<ИМЯ>ИНН=КПП=',\n",
       "       '№REFD375349<<ИМЯ>ИНН=КПП=', '№REFD660556<<ИМЯ>ИНН=КПП=',\n",
       "       '№REFD142674<<ИМЯ>ИНН=КПП=', '№REFD351974<<ИМЯ>ИНН=КПП=',\n",
       "       '№REFD018500<<ИМЯ>ИНН=КПП=', '№REFD732262<<ИМЯ>ИНН=КПП=',\n",
       "       '№REFD756344<<ИМЯ>ИНН=КПП=', '№REFD094535<<ИМЯ>ИНН=КПП=',\n",
       "       '№REFD737838<<ИМЯ>ИНН=КПП=', '№REFD475608<<ИМЯ>ИНН=КПП=',\n",
       "       '№REFD479904<<ИМЯ>ИНН=КПП=', '№REFD070087<<ИМЯ>ИНН=КПП=',\n",
       "       '№REFD688343<<ИМЯ>ИНН=КПП=', '№REFD307211<<ИМЯ>ИНН=КПП=',\n",
       "       'RETURN OF FUNDS AS MINUTESOF THE AGR DD 14/05/2012 AS PER CONT. NTS 10-67 THE TO ORDER OF NUOVA ELETROFER№REF00024<<ИМЯ>ИНН=7729405872',\n",
       "       '№REFD698978<<ИМЯ>ИНН=КПП=', '№REFD078189<<ИМЯ>ИНН=КПП=',\n",
       "       '№REFD004235<<ИМЯ>ИНН=КПП=', '№REFD101420<<ИМЯ>ИНН=КПП=',\n",
       "       '[КП] ПЛАТЕЖ ПО ДОГОВОРУ ЗАЙМА, НДС НЕ ОБЛАГАЕТСЯ НДС НЕ ОБЛАГАЕТСЯ№REF149<<ИМЯ>ИНН=4823006703КПП=997550001',\n",
       "       '№REFD076302<<ИМЯ>ИНН=КПП=', '№REFD448280<<ИМЯ>ИНН=КПП=',\n",
       "       '№REFD375348<<ИМЯ>ИНН=КПП=', '№REFD778797<<ИМЯ>ИНН=КПП=',\n",
       "       '№REFD475456<<ИМЯ>ИНН=КПП=', '№REFD592481<<ИМЯ>ИНН=КПП=',\n",
       "       '№REFD097360<<ИМЯ>ИНН=КПП=', '№REFD128714<<ИМЯ>ИНН=КПП=',\n",
       "       '№REFD370698<<ИМЯ>ИНН=КПП=', '№REFD662767<<ИМЯ>ИНН=КПП=',\n",
       "       '№REFD146617<<ИМЯ>ИНН=КПП=', '№REFD062523<<ИМЯ>ИНН=КПП=',\n",
       "       '№REFD765754<<ИМЯ>ИНН=КПП=', '№REFD350754<<ИМЯ>ИНН=КПП=',\n",
       "       '№REFD698772<<ИМЯ>ИНН=КПП=', '№REFD270246<<ИМЯ>ИНН=КПП=',\n",
       "       '№REFD245327<<ИМЯ>ИНН=КПП=', '№REFD104998<<ИМЯ>ИНН=КПП=',\n",
       "       '№REFD673129<<ИМЯ>ИНН=КПП=', '№REFD421501<<ИМЯ>ИНН=КПП=',\n",
       "       '№REFD748495<<ИМЯ>ИНН=КПП=', '№REFD117182<<ИМЯ>ИНН=КПП=',\n",
       "       '№REFD087897<<ИМЯ>ИНН=КПП=',\n",
       "       'Досрочный возврат займа подоговору процентного займаN 23190 от 21.05.2013г НДСне облагается№REF<<ИМЯ>Общество с ограниченной ответственностью  НЛМК-Информационные технологииИНН=4823055193КПП=482301001',\n",
       "       '№REFD749085<<ИМЯ>ИНН=КПП=', '№REFD003240<<ИМЯ>ИНН=КПП=',\n",
       "       'XX.1712590.620581.679451№REFAMphJ0296420<<ИМЯ>ИНН=КПП=',\n",
       "       '№REFD797817<<ИМЯ>ИНН=КПП=', '№REFD450756<<ИМЯ>ИНН=КПП=',\n",
       "       '№REFD018976<<ИМЯ>ИНН=КПП=',\n",
       "       '[КП] платеж по договору займа, НДС не облагается НДС не облагается№REF132<<ИМЯ>ИНН=4823006703КПП=997550001',\n",
       "       '№REFD030240<<ИМЯ>ИНН=КПП=', '№REFD073784<<ИМЯ>ИНН=КПП=',\n",
       "       '№REFD116420<<ИМЯ>ИНН=КПП=', '№REFD265849<<ИМЯ>ИНН=КПП=',\n",
       "       '№REFD248490<<ИМЯ>ИНН=КПП=',\n",
       "       'Досрочный частичный возврат беспроцентного займа по договору N91005 от 28.12.2010г. НДС не облагается№REF42338<<ИМЯ>ОAО  СТОЙЛЕНСКИЙ ГОРНО-ОБОГAТИТЕЛЬНЫЙ КОМБИНAТИНН=3128011788КПП=997550001',\n",
       "       '№REFD758042<<ИМЯ>ИНН=КПП=', '№REFD137375<<ИМЯ>ИНН=КПП=',\n",
       "       '№REFD231567<<ИМЯ>ИНН=КПП=', '№REFD321684<<ИМЯ>ИНН=КПП=',\n",
       "       '№REFD262930<<ИМЯ>ИНН=КПП=', '№REFD463888<<ИМЯ>ИНН=КПП=',\n",
       "       '№REFD381106<<ИМЯ>ИНН=КПП=', '№REFD029113<<ИМЯ>ИНН=КПП=',\n",
       "       '№REFD751728<<ИМЯ>ИНН=КПП=', '№REFD327656<<ИМЯ>ИНН=КПП=',\n",
       "       '№REFD265090<<ИМЯ>ИНН=КПП=', '№REFD334755<<ИМЯ>ИНН=КПП=',\n",
       "       '№REFD481703<<ИМЯ>ИНН=КПП=', '№REFD768987<<ИМЯ>ИНН=КПП=',\n",
       "       '№REFD023287<<ИМЯ>ИНН=КПП=', '№REFD682193<<ИМЯ>ИНН=КПП=',\n",
       "       '№REFD371943<<ИМЯ>ИНН=КПП=', '№REFD351909<<ИМЯ>ИНН=КПП=',\n",
       "       '№REFD287679<<ИМЯ>ИНН=КПП=',\n",
       "       'Окончательное погашение процентов по договору процеентного займа N20867 от 17.12.2012г. НДС не облагается<<ИМЯ>Открытое акционерное общество  Новолипецкий металлургический комбинатИНН=4823006703КПП=997550001',\n",
       "       '№REFD257786<<ИМЯ>ИНН=КПП=', '№REFD662967<<ИМЯ>ИНН=КПП=',\n",
       "       '№REFD093096<<ИМЯ>ИНН=КПП=', '№REFD489134<<ИМЯ>ИНН=КПП=',\n",
       "       'Частичный досрочный возврат займа по договору беспроцентного займа N 20651 от 29.11.2012г. НДС не облагается№REF<<ИМЯ>ОАО  ДОЛОМИТИНН=4803003415КПП=480301001',\n",
       "       '№REFD174328<<ИМЯ>ИНН=КПП=', '№REFD087211<<ИМЯ>ИНН=КПП=',\n",
       "       '№REFD345585<<ИМЯ>ИНН=КПП=', '№REFD374056<<ИМЯ>ИНН=КПП=',\n",
       "       '№REFD792877<<ИМЯ>ИНН=КПП=', '№REFD395973<<ИМЯ>ИНН=КПП=',\n",
       "       '№REFD258777<<ИМЯ>ИНН=КПП=', '№REFD154833<<ИМЯ>ИНН=КПП=',\n",
       "       '№REFD763873<<ИМЯ>ИНН=КПП=', '№REFD355621<<ИМЯ>ИНН=КПП=',\n",
       "       '№REFD769475<<ИМЯ>ИНН=КПП=', 'VALUE№REF<<ИМЯ>ИНН=КПП=',\n",
       "       '№REFD511606<<ИМЯ>ИНН=КПП=', '№REFD485293<<ИМЯ>ИНН=КПП='], dtype=object)"
      ]
     },
     "execution_count": 95,
     "metadata": {},
     "output_type": "execute_result"
    }
   ],
   "source": [
    "X_test[(y_test == 4070) & (y_pred == 2040)]"
   ]
  },
  {
   "cell_type": "markdown",
   "metadata": {},
   "source": [
    "### 4.1.3 Example #3"
   ]
  },
  {
   "cell_type": "markdown",
   "metadata": {},
   "source": [
    "Take another high error from the heatmap that belongs to classification of **5104** and **4060** classes. Take a look at them:"
   ]
  },
  {
   "cell_type": "code",
   "execution_count": 115,
   "metadata": {},
   "outputs": [
    {
     "data": {
      "text/html": [
       "<div>\n",
       "<style>\n",
       "    .dataframe thead tr:only-child th {\n",
       "        text-align: right;\n",
       "    }\n",
       "\n",
       "    .dataframe thead th {\n",
       "        text-align: left;\n",
       "    }\n",
       "\n",
       "    .dataframe tbody tr th {\n",
       "        vertical-align: top;\n",
       "    }\n",
       "</style>\n",
       "<table border=\"1\" class=\"dataframe\">\n",
       "  <thead>\n",
       "    <tr style=\"text-align: right;\">\n",
       "      <th></th>\n",
       "      <th>Type</th>\n",
       "      <th>Description</th>\n",
       "    </tr>\n",
       "  </thead>\n",
       "  <tbody>\n",
       "    <tr>\n",
       "      <th>31414</th>\n",
       "      <td>4060</td>\n",
       "      <td>{VO01010} Операция по продаже валюты по заявле...</td>\n",
       "    </tr>\n",
       "    <tr>\n",
       "      <th>31415</th>\n",
       "      <td>4060</td>\n",
       "      <td>{VO01010} Операция по продаже валюты по заявле...</td>\n",
       "    </tr>\n",
       "    <tr>\n",
       "      <th>31416</th>\n",
       "      <td>4060</td>\n",
       "      <td>{VO01010} Операция по продаже валюты по заявле...</td>\n",
       "    </tr>\n",
       "    <tr>\n",
       "      <th>31417</th>\n",
       "      <td>4060</td>\n",
       "      <td>{VO01010} Операция по продаже валюты по заявле...</td>\n",
       "    </tr>\n",
       "    <tr>\n",
       "      <th>31418</th>\n",
       "      <td>4060</td>\n",
       "      <td>{VO01010} Операция по продаже валюты по заявле...</td>\n",
       "    </tr>\n",
       "  </tbody>\n",
       "</table>\n",
       "</div>"
      ],
      "text/plain": [
       "       Type                                        Description\n",
       "31414  4060  {VO01010} Операция по продаже валюты по заявле...\n",
       "31415  4060  {VO01010} Операция по продаже валюты по заявле...\n",
       "31416  4060  {VO01010} Операция по продаже валюты по заявле...\n",
       "31417  4060  {VO01010} Операция по продаже валюты по заявле...\n",
       "31418  4060  {VO01010} Операция по продаже валюты по заявле..."
      ]
     },
     "execution_count": 115,
     "metadata": {},
     "output_type": "execute_result"
    }
   ],
   "source": [
    "data[data.Type == 4060].iloc[5:10]"
   ]
  },
  {
   "cell_type": "code",
   "execution_count": 103,
   "metadata": {
    "scrolled": true
   },
   "outputs": [
    {
     "data": {
      "text/html": [
       "<div>\n",
       "<style>\n",
       "    .dataframe thead tr:only-child th {\n",
       "        text-align: right;\n",
       "    }\n",
       "\n",
       "    .dataframe thead th {\n",
       "        text-align: left;\n",
       "    }\n",
       "\n",
       "    .dataframe tbody tr th {\n",
       "        vertical-align: top;\n",
       "    }\n",
       "</style>\n",
       "<table border=\"1\" class=\"dataframe\">\n",
       "  <thead>\n",
       "    <tr style=\"text-align: right;\">\n",
       "      <th></th>\n",
       "      <th>Type</th>\n",
       "      <th>Description</th>\n",
       "    </tr>\n",
       "  </thead>\n",
       "  <tbody>\n",
       "    <tr>\n",
       "      <th>489295</th>\n",
       "      <td>5104</td>\n",
       "      <td>Продажа валюты по курсу Банка. Курс: 59.9100№R...</td>\n",
       "    </tr>\n",
       "    <tr>\n",
       "      <th>489455</th>\n",
       "      <td>5104</td>\n",
       "      <td>Конверсионная сделка Spot № 933972 продажа USD...</td>\n",
       "    </tr>\n",
       "    <tr>\n",
       "      <th>497046</th>\n",
       "      <td>5104</td>\n",
       "      <td>Покупка/продажа валюты по заявке № 94(94).№REF...</td>\n",
       "    </tr>\n",
       "    <tr>\n",
       "      <th>497047</th>\n",
       "      <td>5104</td>\n",
       "      <td>Покупка/продажа валюты по заявке № 93(93).№REF...</td>\n",
       "    </tr>\n",
       "    <tr>\n",
       "      <th>497368</th>\n",
       "      <td>5104</td>\n",
       "      <td>Покупка/продажа валюты по заявке № 368(368).№R...</td>\n",
       "    </tr>\n",
       "  </tbody>\n",
       "</table>\n",
       "</div>"
      ],
      "text/plain": [
       "        Type                                        Description\n",
       "489295  5104  Продажа валюты по курсу Банка. Курс: 59.9100№R...\n",
       "489455  5104  Конверсионная сделка Spot № 933972 продажа USD...\n",
       "497046  5104  Покупка/продажа валюты по заявке № 94(94).№REF...\n",
       "497047  5104  Покупка/продажа валюты по заявке № 93(93).№REF...\n",
       "497368  5104  Покупка/продажа валюты по заявке № 368(368).№R..."
      ]
     },
     "execution_count": 103,
     "metadata": {},
     "output_type": "execute_result"
    }
   ],
   "source": [
    "data[data.Type == 5104].tail(5)"
   ]
  },
  {
   "cell_type": "code",
   "execution_count": 100,
   "metadata": {},
   "outputs": [
    {
     "data": {
      "text/plain": [
       "array([ 'Покупка/продажа валюты по заявке № 140(140).№REF140<<ИМЯ>НЛМК ОАОИНН=4823006703',\n",
       "       '{VO01010} Операция по продаже валюты по заявлению №0000402 от 21.06.2016. Курс 64.06500№REF123909<<ИМЯ>МОСКОВСКИЙ ФИЛИАЛ ПАО РОСБАНКИНН=7730060164КПП=',\n",
       "       '{VO01010} Операция по продаже валюты по заявлению №0000807 от 01.11.2016. Курс 63.16500№REF135945<<ИМЯ>МОСКОВСКИЙ ФИЛИАЛ ПАО РОСБАНКИНН=7730060164КПП=',\n",
       "       'Продажа валютных средств, поручение на продажу валютных средств по ПП 5 от 13/03/2015№REF<<ИМЯ>ИНН=2205001753КПП=',\n",
       "       'Покупка/продажа валюты по заявке № 597(597).№REF<<ИМЯ>ИНН=4823006703',\n",
       "       'Покупка/продажа валюты по заявке № 16(16).№REF16<<ИМЯ>НЛМК ОАОИНН=4823006703',\n",
       "       'Покупка/продажа валюты по заявке № 156(156).№REF156<<ИМЯ>НЛМК ОАОИНН=4823006703',\n",
       "       '{VO01010} Операция по продаже валюты по заявлению №0000167 от 11.07.2016. Курс 64.17250№REF39757<<ИМЯ>УРАЛЬСКИЙ ФИЛИАЛ ПАО РОСБАНКИНН=7730060164КПП=',\n",
       "       'Продажа валюты по курсу Банка. Курс: 38.5955№REF<<ИМЯ>ИНН=6658084667КПП=997550001',\n",
       "       'Расчеты по конверсионным сделкам по курсу ВТБ USD/RUR32.9625 (Курс Банка России32.8646) согласно поручения N 64 от 18.12.2013 г. Открытое акционерное обществоНоволипецкий металлургический комбинат№REF64<<ИМЯ>Открытое акционерное общество  Новолипецкий металлургический комбинатИНН=4823006703КПП=997550001',\n",
       "       'Покупка/продажа валюты по заявке № 487(487).№REF<<ИМЯ>ИНН=4823006703',\n",
       "       '{VO01010} Операция по продаже валюты по заявлению №0000861 от 16.11.2016. Курс 65.36500№REF190504<<ИМЯ>МОСКОВСКИЙ ФИЛИАЛ ПАО РОСБАНКИНН=7730060164КПП=',\n",
       "       '{VO01010} Операция по продаже валюты по заявлению №0000275 от 17.05.2016. Курс 64.65500№REF63038<<ИМЯ>МОСКОВСКИЙ ФИЛИАЛ ПАО РОСБАНКИНН=7730060164КПП=',\n",
       "       'FT.2291369.354272.665002.P№REF8881580<<ИМЯ>ИНН=КПП=',\n",
       "       '{VO01010} Операция по продаже валюты по заявлению №0000106 от 31.03.2016. Курс 67.81000№REF9918<<ИМЯ>УРАЛЬСКИЙ ФИЛИАЛ ПАО РОСБАНКИНН=7730060164КПП=',\n",
       "       'Расчеты по конверсионным сделкам по курсу ВТБ USD/RUR67.8500 (Курс Банка России68.5215) согласно поручения N 38 от 07.04.2016 г. Публичное акционерное обществоНоволипецкий металлургический комбинат№REF38<<ИМЯ>Публичное акционерное общество  Новолипецкий металлургический комбинатИНН=4823006703КПП=482301001',\n",
       "       'Покупка/продажа валюты по заявке № 209(209).№REF209<<ИМЯ>НЛМК ОАОИНН=4823006703',\n",
       "       '{VO01010} Операция по продаже валюты по заявлению №0001085 от 26.01.2017. Курс 59.93000№REF138877<<ИМЯ>МОСКОВСКИЙ ФИЛИАЛ ПАО РОСБАНКИНН=7730060164КПП=',\n",
       "       '{VO01010} Операция по продаже валюты по заявлению №0000158 от 22.06.2016. Курс 63.66250№REF10220<<ИМЯ>УРАЛЬСКИЙ ФИЛИАЛ ПАО РОСБАНКИНН=7730060164КПП=',\n",
       "       'Покупка/продажа валюты по заявке № 22(22).№REF22<<ИМЯ>НЛМК ОАОИНН=4823006703',\n",
       "       '{VO01010} Операция по продаже валюты по заявлению №0000946 от 20.12.2016. Курс 61.68750№REF175351<<ИМЯ>МОСКОВСКИЙ ФИЛИАЛ ПАО РОСБАНКИНН=7730060164КПП=',\n",
       "       '{VO01010} Операция по продаже валюты по заявлению №0001018 от 13.01.2017. Курс 59.30000№REF121004<<ИМЯ>МОСКОВСКИЙ ФИЛИАЛ ПАО РОСБАНКИНН=7730060164КПП=',\n",
       "       'Расчеты по конверсионным сделкам по курсу ВТБ USD/RUR40.9025 (Курс Банка России41.0450) согласно поручения N 88 от 20.10.2014 г. Открытое акционерное обществоНоволипецкий металлургический комбинат№REF<<ИМЯ>Открытое акционерное общество  Новолипецкий металлургический комбинатИНН=4823006703КПП=997550001',\n",
       "       'Продажа валюты по курсу Банка. Курс: 36.0525№REFZ 13<<ИМЯ>ИНН=6658084667КПП=997550001',\n",
       "       'Покупка/продажа валюты по заявке № 48(48).№REF48<<ИМЯ>ИНН=4823006703',\n",
       "       'Покупка/продажа валюты по заявке № 31(31).№REF31<<ИМЯ>ИНН=4823006703',\n",
       "       '{VO01010} Операция по продаже валюты по заявлению №0001066 от 23.01.2017. Курс 59.44000№REF326917<<ИМЯ>МОСКОВСКИЙ ФИЛИАЛ ПАО РОСБАНКИНН=7730060164КПП=',\n",
       "       'Покупка/продажа валюты по заявке № 226(226).№REF226<<ИМЯ>ИНН=4823006703',\n",
       "       'Расчеты по конверсионным сделкам по курсу ВТБ USD/RUR33.9400 (Курс Банка России34.0758) согласно поручения N 1 от 10.07.2014 г. Открытое акционерное общество  Стойленский горно-обогатительный комбинат№REF<<ИМЯ>Открытое акционерное общество  Стойленский горно-обогатительный комбинатИНН=3128011788КПП=312801001',\n",
       "       '{VO01010} Операция по продаже валюты по заявлению №0001051 от 18.01.2017. Курс 59.16000№REF131934<<ИМЯ>МОСКОВСКИЙ ФИЛИАЛ ПАО РОСБАНКИНН=7730060164КПП=',\n",
       "       'Покупка/продажа валюты по заявке № 41(41).№REF41<<ИМЯ>ИНН=4823006703',\n",
       "       'Продажа валюты по курсу Банка. Курс: 40.5375№REF<<ИМЯ>ИНН=6658084667КПП=997550001',\n",
       "       '{VO01010} Операция по продаже валюты по заявлению №0000511 от 06.07.2016. Курс 64.73500№REF95629<<ИМЯ>МОСКОВСКИЙ ФИЛИАЛ ПАО РОСБАНКИНН=7730060164КПП=',\n",
       "       'Покупка/продажа валюты по заявке № 482(482).№REF<<ИМЯ>ИНН=4823006703',\n",
       "       '{VO01010} Операция по продаже валюты по заявлению №0000233 от 23.12.2016. Курс 60.81000№REF25054<<ИМЯ>УРАЛЬСКИЙ ФИЛИАЛ ПАО РОСБАНКИНН=7730060164КПП=',\n",
       "       '{VO01010} Операция по продаже валюты по заявлению №0000138 от 26.04.2016. Курс 66.49500№REF19420<<ИМЯ>УРАЛЬСКИЙ ФИЛИАЛ ПАО РОСБАНКИНН=7730060164КПП=',\n",
       "       '{VO01010} Операция по продаже валюты по заявлению №0000243 от 13.01.2017. Курс 59.36250№REF24547<<ИМЯ>УРАЛЬСКИЙ ФИЛИАЛ ПАО РОСБАНКИНН=7730060164КПП=',\n",
       "       '{VO01010} Операция по продаже валюты по заявлению №0000949 от 21.12.2016. Курс 61.10250№REF102094<<ИМЯ>МОСКОВСКИЙ ФИЛИАЛ ПАО РОСБАНКИНН=7730060164КПП=',\n",
       "       '{VO01010} Операция по продаже валюты по заявлению №0000269 от 16.05.2016. Курс 65.03000№REF334093<<ИМЯ>МОСКОВСКИЙ ФИЛИАЛ ПАО РОСБАНКИНН=7730060164КПП=',\n",
       "       'Покупка/продажа валюты по заявке № 201(201).№REF201<<ИМЯ>ИНН=4823006703',\n",
       "       '{VO01010} Операция по продаже валюты по заявлению №0000127 от 14.04.2016. Курс 66.32000№REF17012<<ИМЯ>УРАЛЬСКИЙ ФИЛИАЛ ПАО РОСБАНКИНН=7730060164КПП=',\n",
       "       'Покупка/продажа валюты по заявке № 287(287).№REF<<ИМЯ>ИНН=4823006703',\n",
       "       'Покупка/продажа валюты по заявке № 315(315).№REF<<ИМЯ>ИНН=4823006703',\n",
       "       '{VO01010} Операция по продаже валюты по заявлению №0000261 от 13.05.2016. Курс 65.02500№REF129754<<ИМЯ>МОСКОВСКИЙ ФИЛИАЛ ПАО РОСБАНКИНН=7730060164КПП=',\n",
       "       'Покупка/продажа валюты по заявке № 806(806).№REF<<ИМЯ>ИНН=4823006703',\n",
       "       'Покупка/продажа валюты по заявке № 93(93).№REF93<<ИМЯ>ИНН=4823006703',\n",
       "       'Покупка/продажа валюты по заявке № 89(89).№REF89<<ИМЯ>НЛМК ОАОИНН=4823006703',\n",
       "       '{VO01010} Операция по продаже валюты по заявлению №0000537 от 13.07.2016. Курс 63.90000№REF108018<<ИМЯ>МОСКОВСКИЙ ФИЛИАЛ ПАО РОСБАНКИНН=7730060164КПП=',\n",
       "       'Покупка/продажа валюты по заявке № 636(636).№REF<<ИМЯ>ИНН=4823006703',\n",
       "       '{VO01010} Операция по продаже валюты по заявлению №0000514 от 07.07.2016. Курс 64.02500№REF127826<<ИМЯ>МОСКОВСКИЙ ФИЛИАЛ ПАО РОСБАНКИНН=7730060164КПП=',\n",
       "       '{VO01010} Операция по продаже валюты по заявлению №0000375 от 16.06.2016. Курс 65.79750№REF119072<<ИМЯ>МОСКОВСКИЙ ФИЛИАЛ ПАО РОСБАНКИНН=7730060164КПП=',\n",
       "       'Конверсионная сделка N 129590. Продажа Доллар Сша. покурсу 71.05. Курс: 71,05№REF7280947<<ИМЯ>ВИЗ-СТАЛЬИНН=6658084667КПП=',\n",
       "       'Продажа валюты по курсу Банка. Курс: 50.0200№REF<<ИМЯ>ИНН=6658084667КПП=997550001',\n",
       "       'Покупка/продажа валюты по заявке № 795(795).№REF<<ИМЯ>ИНН=4823006703',\n",
       "       '{VO01010} Операция по продаже валюты по заявлению №0000156 от 17.06.2016. Курс 65.39750№REF14862<<ИМЯ>УРАЛЬСКИЙ ФИЛИАЛ ПАО РОСБАНКИНН=7730060164КПП=',\n",
       "       'Покупка/продажа валюты по заявке № 542(542).№REF<<ИМЯ>ИНН=4823006703',\n",
       "       'Покупка/продажа валюты по заявке № 706(706).№REF<<ИМЯ>ИНН=4823006703',\n",
       "       'Покупка/продажа валюты по заявке № 552(552).№REF<<ИМЯ>ИНН=4823006703',\n",
       "       'Покупка/продажа валюты по заявке № 50(50).№REF50<<ИМЯ>НЛМК ОАОИНН=4823006703',\n",
       "       '{VO01010} Операция по продаже валюты по заявлению №0000546 от 14.07.2016. Курс 63.32750№REF90562<<ИМЯ>МОСКОВСКИЙ ФИЛИАЛ ПАО РОСБАНКИНН=7730060164КПП=',\n",
       "       '{VO01010} Операция по продаже валюты по заявлению №0000857 от 16.11.2016. Курс 65.48000№REF180087<<ИМЯ>МОСКОВСКИЙ ФИЛИАЛ ПАО РОСБАНКИНН=7730060164КПП=',\n",
       "       'Конверсионная сделка Spot № 750263 продажа USD по курсу 62№REFNONREF<<ИМЯ>ОАО Алтай-КоксИНН=2205001753КПП=667145004',\n",
       "       'Расчеты по конверсионным сделкам по курсу ВТБ USD/RUR63.9825 (Курс Банка России63.4183) согласно поручения N 131 от 21.07.2016 г. Публичное акционерное общество  Новолипецкий металлургический комбинат№REF131<<ИМЯ>Публичное акционерное общество  Новолипецкий металлургический комбинатИНН=4823006703КПП=482301001',\n",
       "       '{VO01010} Операция по продаже валюты по заявлению №0000449 от 24.06.2016. Курс 65.49500№REF153699<<ИМЯ>МОСКОВСКИЙ ФИЛИАЛ ПАО РОСБАНКИНН=7730060164КПП=',\n",
       "       '15.06.15, 952566, платеж FX OPTION 1898639.№REF<<ИМЯ>ИНН=КПП=',\n",
       "       'Покупка/продажа валюты по заявке № 99(99).№REF99<<ИМЯ>ИНН=4823006703',\n",
       "       'Продажа валюты по курсу Банка. Курс: 66.0000№REF<<ИМЯ>ИНН=6658084667КПП=997550001',\n",
       "       'FT.2291372.354278.665002.P№REF8881450<<ИМЯ>ИНН=КПП=',\n",
       "       'Покупка/продажа валюты по заявке № 331(331).№REF<<ИМЯ>ИНН=4823006703',\n",
       "       '{VO01010} Операция по продаже валюты по заявлению №0000284 от 18.05.2016. Курс 65.12500№REF112685<<ИМЯ>МОСКОВСКИЙ ФИЛИАЛ ПАО РОСБАНКИНН=7730060164КПП=',\n",
       "       'Покупка/продажа валюты по заявке № 474(474).№REF<<ИМЯ>ИНН=4823006703',\n",
       "       'Продажа валюты по курсу Банка. Курс: 34.6300№REF<<ИМЯ>ИНН=6658084667КПП=997550001',\n",
       "       'Покупка/продажа валюты по заявке № 18(18).№REF18<<ИМЯ>ИНН=4823006703',\n",
       "       'Покупка/продажа валюты по заявке № 235(235).№REF235<<ИМЯ>ИНН=4823006703',\n",
       "       'Покупка/продажа валюты по заявке № 349(349).№REF<<ИМЯ>ИНН=4823006703',\n",
       "       '{VO01010} Операция по продаже валюты по заявлению №0000805 от 01.11.2016. Курс 63.18000№REF116073<<ИМЯ>МОСКОВСКИЙ ФИЛИАЛ ПАО РОСБАНКИНН=7730060164КПП=',\n",
       "       '{VO01010} Операция по продаже валюты по заявлению №0000250 от 12.05.2016. Курс 65.00500№REF75636<<ИМЯ>МОСКОВСКИЙ ФИЛИАЛ ПАО РОСБАНКИНН=7730060164КПП=',\n",
       "       'Продажа валюты по курсу Банка. Курс: 35.2850№REF<<ИМЯ>ИНН=6658084667КПП=997550001',\n",
       "       'курс 28,1525 Расчеты по операциям на ВВР№REFDXF11620BLR0320<<ИМЯ>й металлургический комбинат, ОАО (ОАО  НЛМК )ИНН=4823006703',\n",
       "       '{VO01010} Операция по продаже валюты по заявлению №0000810 от 01.11.2016. Курс 63.17000№REF165119<<ИМЯ>МОСКОВСКИЙ ФИЛИАЛ ПАО РОСБАНКИНН=7730060164КПП=',\n",
       "       '{VO01010} Операция по продаже валюты по заявлению №0000409 от 22.06.2016. Курс 63.78750№REF32056<<ИМЯ>МОСКОВСКИЙ ФИЛИАЛ ПАО РОСБАНКИНН=7730060164КПП=',\n",
       "       'Покупка/продажа валюты по заявке № 78(78).№REF78<<ИМЯ>ИНН=4823006703',\n",
       "       '{VO01010} Операция по продаже валюты по заявлению №0000540 от 14.07.2016. Курс 63.58500№REF43686<<ИМЯ>МОСКОВСКИЙ ФИЛИАЛ ПАО РОСБАНКИНН=7730060164КПП=',\n",
       "       'Покупка/продажа валюты по заявке № 821(821).№REF<<ИМЯ>ИНН=4823006703',\n",
       "       'Продажа валюты по курсу Банка. Курс: 31.6900№REFZ 21<<ИМЯ>ИНН=6658084667КПП=997550001',\n",
       "       '{VO01010} Операция по продаже валюты по заявлению №0001067 от 23.01.2017. Курс 59.50000№REF342841<<ИМЯ>МОСКОВСКИЙ ФИЛИАЛ ПАО РОСБАНКИНН=7730060164КПП=',\n",
       "       'Покупка/продажа валюты по заявке № 729(729).№REF<<ИМЯ>ИНН=4823006703',\n",
       "       '{VO01010} Операция по продаже валюты по заявлению №0000517 от 08.07.2016. Курс 64.11500№REF78684<<ИМЯ>МОСКОВСКИЙ ФИЛИАЛ ПАО РОСБАНКИНН=7730060164КПП=',\n",
       "       'Конверсионная сделка N 134244. Продажа Доллар Сша. покурсу 69.45. Курс: 69,45№REF7424711<<ИМЯ>ВИЗ-СТАЛЬИНН=6658084667КПП=',\n",
       "       '{VO01010} Операция по продаже валюты по заявлению №0000228 от 05.05.2016. Курс 66.01500№REF111992<<ИМЯ>МОСКОВСКИЙ ФИЛИАЛ ПАО РОСБАНКИНН=7730060164КПП=',\n",
       "       'Расчеты по конверсионным сделкам по курсу ВТБ USD/RUR66.9400 (Курс Банка России67.4662) согласно поручения N 39 от 11.04.2016 г. Публичное акционерное обществоНоволипецкий металлургический комбинат№REF39<<ИМЯ>Публичное акционерное общество  Новолипецкий металлургический комбинатИНН=4823006703КПП=482301001',\n",
       "       'Покупка/продажа валюты по заявке № 202(202).№REF202<<ИМЯ>НЛМК ОАОИНН=4823006703',\n",
       "       '{VO01010} Операция по продаже валюты по заявлению №0000400 от 21.06.2016. Курс 64.10000№REF73275<<ИМЯ>МОСКОВСКИЙ ФИЛИАЛ ПАО РОСБАНКИНН=7730060164КПП=',\n",
       "       'Продажа валюты по курсу Банка. Курс: 56.7500№REF<<ИМЯ>ИНН=6658084667КПП=997550001',\n",
       "       'Продажа валюты по курсу Банка. Курс: 69,26№REFZ 38<<ИМЯ>ООО ВИЗ-СТАЛЬИНН=6658084667КПП=997550001',\n",
       "       'Покупка/продажа валюты по заявке № 133(133).№REF133<<ИМЯ>НЛМК ОАОИНН=4823006703',\n",
       "       '{VO01010} Операция по продаже валюты по заявлению №0000391 от 20.06.2016. Курс 64.11500№REF292392<<ИМЯ>МОСКОВСКИЙ ФИЛИАЛ ПАО РОСБАНКИНН=7730060164КПП=',\n",
       "       '{VO01010} Операция по продаже валюты по заявлению №0000682 от 04.10.2016. Курс 62.53500№REF130462<<ИМЯ>МОСКОВСКИЙ ФИЛИАЛ ПАО РОСБАНКИНН=7730060164КПП=',\n",
       "       'Покупка/продажа валюты по заявке № 137(137).№REF137<<ИМЯ>НЛМК ОАОИНН=4823006703',\n",
       "       'Расчеты по конверсионным сделкам по курсу ВТБ USD/RUR64.6550 (Курс Банка России64.2676) согласно поручения N 86 от 06.07.2016 г. Публичное акционерное обществоНоволипецкий металлургический комбинат№REF86<<ИМЯ>Публичное акционерное общество  Новолипецкий металлургический комбинатИНН=4823006703КПП=482301001',\n",
       "       '{VO01010} Операция по продаже валюты по заявлению №0000157 от 17.06.2016. Курс 65.40000№REF14927<<ИМЯ>УРАЛЬСКИЙ ФИЛИАЛ ПАО РОСБАНКИНН=7730060164КПП=',\n",
       "       '{VO01010} Операция по продаже валюты по заявлению №0000571 от 26.07.2016. Курс 65.87000№REF111529<<ИМЯ>МОСКОВСКИЙ ФИЛИАЛ ПАО РОСБАНКИНН=7730060164КПП=',\n",
       "       'Покупка/продажа валюты по заявке № 125(125).№REF125<<ИМЯ>ИНН=4823006703',\n",
       "       'Покупка/продажа валюты по заявке № 469(469).№REF<<ИМЯ>ИНН=4823006703',\n",
       "       'Покупка/продажа валюты по заявке № 473(473).№REF<<ИМЯ>ИНН=4823006703',\n",
       "       '{VO01010} Операция по продаже валюты по заявлению №0001061 от 19.01.2017. Курс 59.92250№REF109833<<ИМЯ>МОСКОВСКИЙ ФИЛИАЛ ПАО РОСБАНКИНН=7730060164КПП=',\n",
       "       '{VO01010} Операция по продаже валюты по заявлению №0000854 от 16.11.2016. Курс 65.38000№REF146775<<ИМЯ>МОСКОВСКИЙ ФИЛИАЛ ПАО РОСБАНКИНН=7730060164КПП=',\n",
       "       'Покупка/продажа валюты по заявке № 114(114).№REF114<<ИМЯ>ИНН=4823006703',\n",
       "       '{VO01010} Операция по продаже валюты по заявлению №0000550 от 18.07.2016. Курс 63.14250№REF236729<<ИМЯ>МОСКОВСКИЙ ФИЛИАЛ ПАО РОСБАНКИНН=7730060164КПП=',\n",
       "       'Расчеты по конверсионным сделкам по курсу ВТБ USD/RUR63.7325 (Курс Банка России63.4183) согласно поручения N 127 от 21.07.2016 г. Публичное акционерное общество  Новолипецкий металлургический комбинат№REF127<<ИМЯ>Публичное акционерное общество  Новолипецкий металлургический комбинатИНН=4823006703КПП=482301001',\n",
       "       '{VO01010} Операция по продаже валюты по заявлению №0000280 от 17.05.2016. Курс 64.91000№REF87447<<ИМЯ>МОСКОВСКИЙ ФИЛИАЛ ПАО РОСБАНКИНН=7730060164КПП=',\n",
       "       'Расчеты по конверсионным сделкам по курсу ВТБ USD/RUR41.5550 (Курс Банка России40.9671) согласно поручения N 96 от 23.10.2014 г. Открытое акционерное обществоНоволипецкий металлургический комбинат№REF<<ИМЯ>Открытое акционерное общество  Новолипецкий металлургический комбинатИНН=4823006703КПП=997550001',\n",
       "       '{VO01010} Операция по продаже валюты по заявлению №0001010 от 11.01.2017. Курс 60.11250№REF106456<<ИМЯ>МОСКОВСКИЙ ФИЛИАЛ ПАО РОСБАНКИНН=7730060164КПП=',\n",
       "       '{VO01010} Операция по продаже валюты по заявлению №0000971 от 22.12.2016. Курс 61.02250№REF195481<<ИМЯ>МОСКОВСКИЙ ФИЛИАЛ ПАО РОСБАНКИНН=7730060164КПП=',\n",
       "       '{VO01010} Операция по продаже валюты по заявлению №0000712 от 13.10.2016. Курс 63.32000№REF93399<<ИМЯ>МОСКОВСКИЙ ФИЛИАЛ ПАО РОСБАНКИНН=7730060164КПП=',\n",
       "       'Покупка/продажа валюты по заявке № 688(688).№REF<<ИМЯ>ИНН=4823006703',\n",
       "       'Продажа валюты по курсу Банка. Курс: 32.1710№REFZ 5<<ИМЯ>ИНН=6658084667КПП=997550001',\n",
       "       '{VO01010} Операция по продаже валюты по заявлению №0001035 от 17.01.2017. Курс 59.38250№REF117149<<ИМЯ>МОСКОВСКИЙ ФИЛИАЛ ПАО РОСБАНКИНН=7730060164КПП=',\n",
       "       '{VO01010} Операция по продаже валюты по заявлению №0000621 от 25.08.2016. Курс 64.97000№REF89696<<ИМЯ>МОСКОВСКИЙ ФИЛИАЛ ПАО РОСБАНКИНН=7730060164КПП=',\n",
       "       'Покупка/продажа валюты по заявке № 7(7).№REF7<<ИМЯ>ИНН=4823006703',\n",
       "       '{VO01010} Операция по продаже валюты по заявлению №0000929 от 13.12.2016. Курс 61.02500№REF183018<<ИМЯ>МОСКОВСКИЙ ФИЛИАЛ ПАО РОСБАНКИНН=7730060164КПП=',\n",
       "       'Продажа валюты по курсу Банка. Курс: 52.8200№REF<<ИМЯ>ИНН=6658084667КПП=997550001',\n",
       "       'Покупка/продажа валюты по заявке № 43(43).№REF43<<ИМЯ>ИНН=4823006703',\n",
       "       'Конверсионная сделка N 233359. Продажа Доллар Сша. покурсу 74.085. Курс: 74,085№REF8081751<<ИМЯ>ВИЗ-СТАЛЬИНН=6658084667КПП=',\n",
       "       '{VO01010} Операция по продаже валюты по заявлению №0000575 от 27.07.2016. Курс 66.00250№REF123978<<ИМЯ>МОСКОВСКИЙ ФИЛИАЛ ПАО РОСБАНКИНН=7730060164КПП=',\n",
       "       'Конверсионная сделка N 113111. Продажа Доллар Сша. покурсу 68.53. Курс: 68,53№REF6958674<<ИМЯ>ВИЗ-СТАЛЬИНН=6658084667КПП=',\n",
       "       'Покупка/продажа валюты по заявке № 57(57).№REF57<<ИМЯ>ИНН=4823006703',\n",
       "       'Продажа валюты по курсу Банка. Курс: 34.3715№REFZ 8<<ИМЯ>ИНН=6658084667КПП=997550001',\n",
       "       'Покупка/продажа валюты по заявке № 443(443).№REF<<ИМЯ>ИНН=4823006703',\n",
       "       '{VO01010} Операция по продаже валюты по заявлению №0000528 от 11.07.2016. Курс 64.22250№REF279131<<ИМЯ>МОСКОВСКИЙ ФИЛИАЛ ПАО РОСБАНКИНН=7730060164КПП=',\n",
       "       '{VO01010} Операция по продаже валюты по заявлению №0000941 от 15.12.2016. Курс 61.63500№REF152308<<ИМЯ>МОСКОВСКИЙ ФИЛИАЛ ПАО РОСБАНКИНН=7730060164КПП=',\n",
       "       'Продажа валюты по курсу Банка. Курс: 35.6550№REF<<ИМЯ>ИНН=6658084667КПП=997550001',\n",
       "       'Покупка/продажа валюты по заявке № 177(177).№REF177<<ИМЯ>ИНН=4823006703',\n",
       "       '{VO01010} Операция по продаже валюты по заявлению №0000451 от 24.06.2016. Курс 65.49500№REF169501<<ИМЯ>МОСКОВСКИЙ ФИЛИАЛ ПАО РОСБАНКИНН=7730060164КПП=',\n",
       "       '{VO01010} Операция по продаже валюты по заявлению №0000524 от 11.07.2016. Курс 64.23000№REF275877<<ИМЯ>МОСКОВСКИЙ ФИЛИАЛ ПАО РОСБАНКИНН=7730060164КПП=',\n",
       "       'Покупка/продажа валюты по заявке № 240(240).№REF240<<ИМЯ>ИНН=4823006703',\n",
       "       'Расчеты по конверсионным сделкам по курсу ВТБ USD/RUR65.7925 (Курс Банка России65.9156) согласно поручения N 67 от 16.06.2016 г. Публичное акционерное обществоНоволипецкий металлургический комбинат№REF67<<ИМЯ>Публичное акционерное общество  Новолипецкий металлургический комбинатИНН=4823006703КПП=482301001',\n",
       "       '{VO01010} Операция по продаже валюты по заявлению №0000226 от 15.12.2016. Курс 61.58500№REF31842<<ИМЯ>УРАЛЬСКИЙ ФИЛИАЛ ПАО РОСБАНКИНН=7730060164КПП=',\n",
       "       'Продажа валюты по курсу Банка. Курс: 32.6035№REFZ 40<<ИМЯ>ИНН=6658084667КПП=997550001',\n",
       "       '{VO01010} Операция по продаже валюты по заявлению №0000154 от 17.06.2016. Курс 65.29000№REF14169<<ИМЯ>УРАЛЬСКИЙ ФИЛИАЛ ПАО РОСБАНКИНН=7730060164КПП=',\n",
       "       'Покупка/продажа валюты по заявке № 483(483).№REF<<ИМЯ>ИНН=4823006703',\n",
       "       'Покупка/продажа валюты по заявке № 470(470).№REF<<ИМЯ>ИНН=4823006703',\n",
       "       '{VO01010} Операция по продаже валюты по заявлению №0000064 от 16.10.2015. Курс 61.41250№REF<<ИМЯ>УРАЛЬСКИЙ ФИЛИАЛ ПАО РОСБАНКИНН=7730060164КПП=',\n",
       "       'Покупка/продажа валюты по заявке № 350(350).№REF<<ИМЯ>ИНН=4823006703',\n",
       "       'Конверсионная сделка N 117331. Продажа Доллар Сша. покурсу 69.25. Курс: 69,25№REF7065797<<ИМЯ>ВИЗ-СТАЛЬИНН=6658084667КПП=',\n",
       "       '{VO01010} Операция по продаже валюты по заявлению №0000291 от 18.05.2016. Курс 65.17000№REF148122<<ИМЯ>МОСКОВСКИЙ ФИЛИАЛ ПАО РОСБАНКИНН=7730060164КПП=',\n",
       "       '{VO01010} Операция по продаже валюты по заявлению №0000393 от 20.06.2016. Курс 64.06000№REF292762<<ИМЯ>МОСКОВСКИЙ ФИЛИАЛ ПАО РОСБАНКИНН=7730060164КПП=',\n",
       "       '{VO01010} Операция по продаже валюты по заявлению №0000552 от 18.07.2016. Курс 63.05750№REF265350<<ИМЯ>МОСКОВСКИЙ ФИЛИАЛ ПАО РОСБАНКИНН=7730060164КПП=',\n",
       "       'Покупка/продажа валюты по заявке № 534(534).№REF<<ИМЯ>ИНН=4823006703',\n",
       "       '{VO01010} Операция по продаже валюты по заявлению №0000385 от 17.06.2016. Курс 65.22000№REF110834<<ИМЯ>МОСКОВСКИЙ ФИЛИАЛ ПАО РОСБАНКИНН=7730060164КПП=',\n",
       "       'Продажа валюты по курсу Банка. Курс: 35.6150№REF<<ИМЯ>ИНН=6658084667КПП=997550001',\n",
       "       '{VO01010} Операция по продаже валюты по заявлению №0000108 от 31.03.2016. Курс 67.90000№REF9920<<ИМЯ>УРАЛЬСКИЙ ФИЛИАЛ ПАО РОСБАНКИНН=7730060164КПП=',\n",
       "       '{VO01010} Операция по продаже валюты по заявлению №0001063 от 19.01.2017. Курс 59.85250№REF110035<<ИМЯ>МОСКОВСКИЙ ФИЛИАЛ ПАО РОСБАНКИНН=7730060164КПП=',\n",
       "       '{VO01010} Операция по продаже валюты по заявлению №0000795 от 28.10.2016. Курс 62.88000№REF62964<<ИМЯ>МОСКОВСКИЙ ФИЛИАЛ ПАО РОСБАНКИНН=7730060164КПП=',\n",
       "       'Продажа валюты по курсу Банка. Курс: 53.9500№REF<<ИМЯ>ИНН=6658084667КПП=997550001',\n",
       "       'Продажа валюты по курсу Банка. Курс: 65.4000№REF<<ИМЯ>ИНН=6658084667КПП=997550001',\n",
       "       '{VO01010} Операция по продаже валюты по заявлению №0000168 от 11.07.2016. Курс 64.17000№REF39766<<ИМЯ>УРАЛЬСКИЙ ФИЛИАЛ ПАО РОСБАНКИНН=7730060164КПП=',\n",
       "       '{VO01010} Операция по продаже валюты по заявлению №0000923 от 13.12.2016. Курс 61.03000№REF140606<<ИМЯ>МОСКОВСКИЙ ФИЛИАЛ ПАО РОСБАНКИНН=7730060164КПП=',\n",
       "       'Покупка/продажа валюты по заявке № 194(194).№REF194<<ИМЯ>ИНН=4823006703',\n",
       "       'Покупка/продажа валюты по заявке № 855(855).№REF<<ИМЯ>ИНН=4823006703',\n",
       "       '{VO01010} Операция по продаже валюты по заявлению №0000560 от 20.07.2016. Курс 63.38500№REF70989<<ИМЯ>МОСКОВСКИЙ ФИЛИАЛ ПАО РОСБАНКИНН=7730060164КПП=',\n",
       "       '{VO01010} Операция по продаже валюты по заявлению №0000149 от 25.05.2016. Курс 65.87400№REF21397<<ИМЯ>УРАЛЬСКИЙ ФИЛИАЛ ПАО РОСБАНКИНН=7730060164КПП=',\n",
       "       'Покупка/продажа валюты по заявке № 701(701).№REF<<ИМЯ>ИНН=4823006703',\n",
       "       'Покупка/продажа валюты по заявке № 731(731).№REF<<ИМЯ>ИНН=4823006703',\n",
       "       'Покупка/продажа валюты по заявке № 494(494).№REF<<ИМЯ>ИНН=4823006703',\n",
       "       'Расчеты по конверсионным сделкам по курсу ВТБ USD/RUR66.2200 (Курс Банка России66.1928) согласно поручения N 45 от 10.05.2016 г. Публичное акционерное обществоНоволипецкий металлургический комбинат№REF45<<ИМЯ>Публичное акционерное общество  Новолипецкий металлургический комбинатИНН=4823006703КПП=482301001',\n",
       "       'Конверсионная сделка N 166114. Продажа Доллар Сша. покурсу 79.38. Курс: 79,38№REF7703555<<ИМЯ>ВИЗ-СТАЛЬИНН=6658084667КПП=',\n",
       "       'Конверсионная сделка N 977630. Продажа Доллар Сша. покурсу 65.71№REF<<ИМЯ>ИНН=6658084667КПП=',\n",
       "       '{VO01010} Операция по продаже валюты по заявлению №0000992 от 29.12.2016. Курс 60.26000№REF172114<<ИМЯ>МОСКОВСКИЙ ФИЛИАЛ ПАО РОСБАНКИНН=7730060164КПП=',\n",
       "       '{VO01010} Операция по продаже валюты по заявлению №0000355 от 10.06.2016. Курс 64.65750№REF70441<<ИМЯ>МОСКОВСКИЙ ФИЛИАЛ ПАО РОСБАНКИНН=7730060164КПП=',\n",
       "       '{VO01010} Операция по продаже валюты по заявлению №0000162 от 22.06.2016. Курс 63.81250№REF11213<<ИМЯ>УРАЛЬСКИЙ ФИЛИАЛ ПАО РОСБАНКИНН=7730060164КПП=',\n",
       "       '{VO01010} Операция по продаже валюты по заявлению №0000139 от 26.04.2016. Курс 66.38000№REF23367<<ИМЯ>УРАЛЬСКИЙ ФИЛИАЛ ПАО РОСБАНКИНН=7730060164КПП=',\n",
       "       'Продажа валюты по курсу Банка. Курс: 61.6300№REF<<ИМЯ>ИНН=6658084667КПП=997550001',\n",
       "       '{VO01010} Операция по продаже валюты по заявлению №0000381 от 17.06.2016. Курс 65.39250№REF64078<<ИМЯ>МОСКОВСКИЙ ФИЛИАЛ ПАО РОСБАНКИНН=7730060164КПП=',\n",
       "       'Покупка/продажа валюты по заявке № 773(773).№REF<<ИМЯ>ИНН=4823006703',\n",
       "       'Покупка/продажа валюты по заявке № 761(761).№REF<<ИМЯ>ИНН=4823006703',\n",
       "       'Расчеты по конверсионным сделкам по курсу ВТБ USD/RUR63.9000 (Курс Банка России63.4183) согласно поручения N 128 от 21.07.2016 г. Публичное акционерное общество  Новолипецкий металлургический комбинат№REF128<<ИМЯ>Публичное акционерное общество  Новолипецкий металлургический комбинатИНН=4823006703КПП=482301001',\n",
       "       'Конверсионная сделка Spot № 697630 продажа USD по курсу 63.3№REFNONREF<<ИМЯ>Стойленский ГОКИНН=3128011788КПП=775001001',\n",
       "       '{VO01010} Операция по продаже валюты по заявлению №0000169 от 11.07.2016. Курс 64.23250№REF39759<<ИМЯ>УРАЛЬСКИЙ ФИЛИАЛ ПАО РОСБАНКИНН=7730060164КПП=',\n",
       "       'Расчеты по конверсионным сделкам по курсу ВТБ USD/RUR38.3450 (Курс Банка России38.7058) согласно поручения N 77 от 17.09.2014 г. Открытое акционерное обществоНоволипецкий металлургический комбинат№REF<<ИМЯ>Открытое акционерное общество  Новолипецкий металлургический комбинатИНН=4823006703КПП=997550001',\n",
       "       'FT.2294401.359311.679451.P№REF8921381<<ИМЯ>ИНН=КПП=',\n",
       "       '{VO01010} Операция по продаже валюты по заявлению №0000938 от 15.12.2016. Курс 61.57000№REF130320<<ИМЯ>МОСКОВСКИЙ ФИЛИАЛ ПАО РОСБАНКИНН=7730060164КПП=',\n",
       "       'Покупка/продажа валюты по заявке № 449(449).№REF<<ИМЯ>ИНН=4823006703',\n",
       "       '{VO01010} Операция по продаже валюты по заявлению №0001026 от 16.01.2017. Курс 59.61500№REF325106<<ИМЯ>МОСКОВСКИЙ ФИЛИАЛ ПАО РОСБАНКИНН=7730060164КПП=',\n",
       "       'Продажа валюты по курсу Банка. Курс: 38.9325№REF<<ИМЯ>ИНН=6658084667КПП=997550001',\n",
       "       'Покупка/продажа валюты по заявке № 223(223).№REF223<<ИМЯ>ИНН=4823006703',\n",
       "       'Покупка/продажа валюты по заявке № 594(594).№REF<<ИМЯ>ИНН=4823006703',\n",
       "       '{VO01010} Операция по продаже валюты по заявлению №0000959 от 21.12.2016. Курс 61.05750№REF172634<<ИМЯ>МОСКОВСКИЙ ФИЛИАЛ ПАО РОСБАНКИНН=7730060164КПП=',\n",
       "       '{VO01010} Операция по продаже валюты по заявлению №0000246 от 13.01.2017. Курс 59.39000№REF26464<<ИМЯ>УРАЛЬСКИЙ ФИЛИАЛ ПАО РОСБАНКИНН=7730060164КПП=',\n",
       "       'Расчеты по конверсионным сделкам по курсу ВТБ USD/RUR65.9450 (Курс Банка России65.7408) согласно поручения N 146 от 27.07.2016 г. Публичное акционерное общество  Новолипецкий металлургический комбинат№REF146<<ИМЯ>Публичное акционерное общество  Новолипецкий металлургический комбинатИНН=4823006703КПП=482301001',\n",
       "       '{VO01010} Операция по продаже валюты по заявлению №0000447 от 24.06.2016. Курс 65.41250№REF129816<<ИМЯ>МОСКОВСКИЙ ФИЛИАЛ ПАО РОСБАНКИНН=7730060164КПП=',\n",
       "       'Расчеты по конверсионным сделкам по курсу ВТБ USD/RUR63.1350 (Курс Банка России63.1697) согласно поручения N 96 от 18.07.2016 г. Публичное акционерное обществоНоволипецкий металлургический комбинат№REF96<<ИМЯ>Публичное акционерное общество  Новолипецкий металлургический комбинатИНН=4823006703КПП=482301001',\n",
       "       'Расчеты по конверсионным сделкам по курсу ВТБ USD/RUR78.3800 (Курс Банка России81.8394) согласно поручения N 16 от 27.01.2016 г. Публичное акционерное обществоНоволипецкий металлургический комбинат№REF16<<ИМЯ>Публичное акционерное общество  Новолипецкий металлургический комбинатИНН=4823006703КПП=482301001',\n",
       "       'Покупка/продажа валюты по заявке № 233(233).№REF233<<ИМЯ>ИНН=4823006703',\n",
       "       '{VO01010} Операция по продаже валюты по заявлению №0000515 от 07.07.2016. Курс 63.94500№REF139533<<ИМЯ>МОСКОВСКИЙ ФИЛИАЛ ПАО РОСБАНКИНН=7730060164КПП=',\n",
       "       'Покупка/продажа валюты по заявке № 43(43).№REF43<<ИМЯ>НЛМК ОАОИНН=4823006703',\n",
       "       'Расчеты по конверсионным сделкам по курсу ВТБ USD/RUR30.6835 (Курс Банка России30.7870) согласно поручения N 3 от 05.03.2013 г. Открытое акционерное общество  Новолипецкий металлургический комбинат№REF3<<ИМЯ>Открытое акционерное общество  Новолипецкий металлургический комбинатИНН=4823006703КПП=997550001',\n",
       "       '{VO01010} Операция по продаже валюты по заявлению №0001032 от 16.01.2017. Курс 59.64500№REF376464<<ИМЯ>МОСКОВСКИЙ ФИЛИАЛ ПАО РОСБАНКИНН=7730060164КПП=',\n",
       "       'Конверсионная сделка N 993801. Продажа Доллар Сша. покурсу 66.44. Курс: 66,44№REF<<ИМЯ>ВИЗ-СТАЛЬИНН=6658084667КПП=',\n",
       "       '{VO01010} Операция по продаже валюты по заявлению №0001062 от 19.01.2017. Курс 59.86000№REF110030<<ИМЯ>МОСКОВСКИЙ ФИЛИАЛ ПАО РОСБАНКИНН=7730060164КПП=',\n",
       "       'Конверсионная сделка N 138326. Продажа Доллар Сша. покурсу 70.215. Курс: 70,215№REF7441303<<ИМЯ>ВИЗ-СТАЛЬИНН=6658084667КПП=',\n",
       "       'Продажа валюты по курсу Банка. Курс: 38.2935№REF<<ИМЯ>ИНН=6658084667КПП=997550001',\n",
       "       'Покупка/продажа валюты по заявке № 507(507).№REF<<ИМЯ>ИНН=4823006703',\n",
       "       'Покупка/продажа валюты по заявке № 128(128).№REF128<<ИМЯ>НЛМК ОАОИНН=4823006703',\n",
       "       '{VO01010} Операция по продаже валюты по заявлению №0000185 от 26.07.2016. Курс 65.84500№REF23574<<ИМЯ>УРАЛЬСКИЙ ФИЛИАЛ ПАО РОСБАНКИНН=7730060164КПП=',\n",
       "       '{VO01010} Операция по продаже валюты по заявлению №0000245 от 13.01.2017. Курс 59.38250№REF26459<<ИМЯ>УРАЛЬСКИЙ ФИЛИАЛ ПАО РОСБАНКИНН=7730060164КПП=',\n",
       "       'Покупка/продажа валюты по заявке № 699(699).№REF<<ИМЯ>ИНН=4823006703',\n",
       "       'Покупка/продажа валюты по заявке № 630(630).№REF<<ИМЯ>ИНН=4823006703',\n",
       "       'Продажа валюты по курсу Банка. Курс: 32.4360№REFZ 9<<ИМЯ>ИНН=6658084667КПП=997550001',\n",
       "       'Покупка/продажа валюты по заявке № 190(190).№REF190<<ИМЯ>НЛМК ОАОИНН=4823006703',\n",
       "       'Покупка/продажа валюты по заявке № 106(106).№REF106<<ИМЯ>ИНН=4823006703',\n",
       "       'Покупка/продажа валюты по заявке № 610(610).№REF<<ИМЯ>ИНН=4823006703',\n",
       "       '{VO01010} Операция по продаже валюты по заявлению №0000932 от 14.12.2016. Курс 60.81000№REF110964<<ИМЯ>МОСКОВСКИЙ ФИЛИАЛ ПАО РОСБАНКИНН=7730060164КПП=',\n",
       "       'Покупка/продажа валюты по заявке № 311(311).№REF<<ИМЯ>ИНН=4823006703',\n",
       "       'Покупка/продажа валюты по заявке № 492(492).№REF<<ИМЯ>ИНН=4823006703',\n",
       "       '{VO01010} Операция по продаже валюты по заявлению №0000215 от 29.11.2016. Курс 64.94000№REF26563<<ИМЯ>УРАЛЬСКИЙ ФИЛИАЛ ПАО РОСБАНКИНН=7730060164КПП=',\n",
       "       'Продажа валютных средств, поручение на продажу валютных средств по ПП 8 от 16/03/2015№REF<<ИМЯ>ИНН=2205001753КПП=',\n",
       "       '{VO01010} Операция по продаже валюты по заявлению №0000080 от 12.01.2016. Курс 76.48000№REF20055<<ИМЯ>УРАЛЬСКИЙ ФИЛИАЛ ПАО РОСБАНКИНН=7730060164КПП=',\n",
       "       '{VO01010} Операция по продаже валюты по заявлению №0000639 от 29.08.2016. Курс 65.07250№REF267357<<ИМЯ>МОСКОВСКИЙ ФИЛИАЛ ПАО РОСБАНКИНН=7730060164КПП=',\n",
       "       '{VO01010} Операция по продаже валюты по заявлению №0000234 от 10.05.2016. Курс 66.38000№REF355578<<ИМЯ>МОСКОВСКИЙ ФИЛИАЛ ПАО РОСБАНКИНН=7730060164КПП=',\n",
       "       'Продажа валюты по курсу Банка. Курс: 38.7340№REF<<ИМЯ>ИНН=6658084667КПП=997550001',\n",
       "       'Покупка/продажа валюты по заявке № 222(222).№REF222<<ИМЯ>ИНН=4823006703',\n",
       "       '{VO01010} Операция по продаже валюты по заявлению №0000414 от 22.06.2016. Курс 64.02750№REF75326<<ИМЯ>МОСКОВСКИЙ ФИЛИАЛ ПАО РОСБАНКИНН=7730060164КПП=',\n",
       "       'Продажа валюты по курсу Банка. Курс: 55.1300№REF<<ИМЯ>ИНН=6658084667КПП=997550001',\n",
       "       'Конверсионная сделка Spot № 682676 покупка RUR по курсу 64.03№REFNONREF<<ИМЯ>АО ЮНИКРЕДИТ БАНК Г.МОСКВАИНН=7710030411КПП=775001001',\n",
       "       '{VO01010} Операция по продаже валюты по заявлению №0000233 от 10.05.2016. Курс 66.46100№REF355495<<ИМЯ>МОСКОВСКИЙ ФИЛИАЛ ПАО РОСБАНКИНН=7730060164КПП=',\n",
       "       '{VO01010} Операция по продаже валюты по заявлению №0000238 от 10.05.2016. Курс 66.23500№REF377570<<ИМЯ>МОСКОВСКИЙ ФИЛИАЛ ПАО РОСБАНКИНН=7730060164КПП=',\n",
       "       '{VO01010} Операция по продаже валюты по заявлению №0001050 от 18.01.2017. Курс 59.19250№REF125678<<ИМЯ>МОСКОВСКИЙ ФИЛИАЛ ПАО РОСБАНКИНН=7730060164КПП=',\n",
       "       '{VO01010} Операция по продаже валюты по заявлению №0000266 от 16.05.2016. Курс 64.95000№REF278414<<ИМЯ>МОСКОВСКИЙ ФИЛИАЛ ПАО РОСБАНКИНН=7730060164КПП=',\n",
       "       'Покупка/продажа валюты по заявке № 139(139).№REF139<<ИМЯ>НЛМК ОАОИНН=4823006703',\n",
       "       'Покупка/продажа валюты по заявке № 555(555).№REF<<ИМЯ>ИНН=4823006703',\n",
       "       'Покупка/продажа валюты по заявке № 421(421).№REF<<ИМЯ>ИНН=4823006703',\n",
       "       'Покупка/продажа валюты по заявке № 589(589).№REF<<ИМЯ>ИНН=4823006703',\n",
       "       'Конверсионная сделка N 995676. Продажа Доллар Сша. покурсу 64.69. Курс: 64,69№REF<<ИМЯ>ВИЗ-СТАЛЬИНН=6658084667КПП=',\n",
       "       '{VO01010} Операция по продаже валюты по заявлению №0000627 от 25.08.2016. Курс 64.94250№REF138728<<ИМЯ>МОСКОВСКИЙ ФИЛИАЛ ПАО РОСБАНКИНН=7730060164КПП=',\n",
       "       'Расчеты по конверсионным сделкам по курсу ВТБ USD/RUR63.8900 (Курс Банка России65.2089) согласно поручения N 54 от 08.06.2016 г. Публичное акционерное обществоНоволипецкий металлургический комбинат№REF54<<ИМЯ>Публичное акционерное общество  Новолипецкий металлургический комбинатИНН=4823006703КПП=482301001',\n",
       "       'Покупка/продажа валюты по заявке № 148(148).№REF148<<ИМЯ>НЛМК ОАОИНН=4823006703',\n",
       "       'Продажа валюты по курсу Банка. Курс: 38.7000№REF<<ИМЯ>ИНН=6658084667КПП=997550001',\n",
       "       'Конверсионная сделка Spot № 933974 продажа USD по курсу 59.135. Курс: 59,135№REF2611626<<ИМЯ>ООО ВИЗ-СТАЛЬИНН=6658084667КПП=667145004',\n",
       "       '{VO01010} Операция по продаже валюты по заявлению №0000856 от 16.11.2016. Курс 65.31750№REF178507<<ИМЯ>МОСКОВСКИЙ ФИЛИАЛ ПАО РОСБАНКИНН=7730060164КПП=',\n",
       "       'Расчеты по конверсионным сделкам по курсу ВТБ USD/RUR66.4500 (Курс Банка России66.1928) согласно поручения N 48 от 10.05.2016 г. Публичное акционерное обществоНоволипецкий металлургический комбинат№REF48<<ИМЯ>Публичное акционерное общество  Новолипецкий металлургический комбинатИНН=4823006703КПП=482301001',\n",
       "       '{VO01010} Операция по продаже валюты по заявлению № 473 от 28.06.2016. Курс 64.67000№REF127370<<ИМЯ>МОСКОВСКИЙ ФИЛИАЛ ПАО РОСБАНКИНН=7730060164КПП=',\n",
       "       'Продажа валюты по курсу Банка. Курс: 31.8310№REFZ 19<<ИМЯ>ИНН=6658084667КПП=997550001',\n",
       "       'Покупка/продажа валюты по заявке № 368(368).№REF<<ИМЯ>ИНН=4823006703',\n",
       "       '{VO01010} Операция по продаже валюты по заявлению №0000523 от 11.07.2016. Курс 64.23250№REF275829<<ИМЯ>МОСКОВСКИЙ ФИЛИАЛ ПАО РОСБАНКИНН=7730060164КПП=',\n",
       "       '{VO01010} Операция по продаже валюты по заявлению №0000840 от 10.11.2016. Курс 63.84000№REF186268<<ИМЯ>МОСКОВСКИЙ ФИЛИАЛ ПАО РОСБАНКИНН=7730060164КПП=',\n",
       "       'Конверсионная сделка N 201650. Продажа Доллар Сша. покурсу 79.116. Курс: 79.116№REF7902049<<ИМЯ>ВИЗ-СТАЛЬИНН=6658084667КПП=',\n",
       "       '{VO01010} Операция по продаже валюты по заявлению №0000448 от 24.06.2016. Курс 65.44750№REF153649<<ИМЯ>МОСКОВСКИЙ ФИЛИАЛ ПАО РОСБАНКИНН=7730060164КПП=',\n",
       "       'курс 33.4000 Сумма 195,224.01 USD, курс сделки 33.4000. Операции на ВВР№REF1080<<ИМЯ>Новолипецкий металлургический комбинат, ОАО (ОАО  НЛМК)ИНН=4823006703КПП=',\n",
       "       'Продажа валюты по курсу Банка. Курс: 32.4450№REFZ 24<<ИМЯ>ИНН=6658084667КПП=997550001',\n",
       "       'Покупка/продажа валюты по заявке № 163(163).№REF163<<ИМЯ>ИНН=4823006703',\n",
       "       'Покупка/продажа валюты по заявке № 65(65).№REF65<<ИМЯ>НЛМК ОАОИНН=4823006703',\n",
       "       '{VO01010} Операция по продаже валюты по заявлению №0000572 от 26.07.2016. Курс 66.06000№REF114622<<ИМЯ>МОСКОВСКИЙ ФИЛИАЛ ПАО РОСБАНКИНН=7730060164КПП=',\n",
       "       'Покупка/продажа валюты по заявке № 458(458).№REF<<ИМЯ>ИНН=4823006703',\n",
       "       '{VO01010} Операция по продаже валюты по заявлению №0001083 от 26.01.2017. Курс 59.79500№REF137602<<ИМЯ>МОСКОВСКИЙ ФИЛИАЛ ПАО РОСБАНКИНН=7730060164КПП=',\n",
       "       '{VO01010} Операция по продаже валюты по заявлению №0000279 от 17.05.2016. Курс 64.88000№REF84522<<ИМЯ>МОСКОВСКИЙ ФИЛИАЛ ПАО РОСБАНКИНН=7730060164КПП=',\n",
       "       'Покупка/продажа валюты по заявке № 67(67).№REF67<<ИМЯ>ИНН=4823006703',\n",
       "       '{VO01010} Операция по продаже валюты по заявлению №0000405 от 22.06.2016. Курс 63.65750№REF31717<<ИМЯ>МОСКОВСКИЙ ФИЛИАЛ ПАО РОСБАНКИНН=7730060164КПП=',\n",
       "       'Покупка/продажа валюты по заявке № 464(464).№REF<<ИМЯ>ИНН=4823006703',\n",
       "       'Продажа валюты по курсу Банка. Курс: 41.9000№REF<<ИМЯ>ИНН=6658084667КПП=997550001',\n",
       "       'Покупка/продажа валюты по заявке № 651(651).№REF<<ИМЯ>ИНН=4823006703',\n",
       "       '{VO01010} Операция по продаже валюты по заявлению №0000346 от 09.06.2016. Курс 64.12600№REF85919<<ИМЯ>МОСКОВСКИЙ ФИЛИАЛ ПАО РОСБАНКИНН=7730060164КПП=',\n",
       "       '{VO01010} Операция по продаже валюты по заявлению №0000855 от 16.11.2016. Курс 65.40000№REF158847<<ИМЯ>МОСКОВСКИЙ ФИЛИАЛ ПАО РОСБАНКИНН=7730060164КПП=',\n",
       "       '{VO01010} Операция по продаже валюты по заявлению №0000525 от 11.07.2016. Курс 64.23000№REF264916<<ИМЯ>МОСКОВСКИЙ ФИЛИАЛ ПАО РОСБАНКИНН=7730060164КПП=',\n",
       "       'Продажа валюты по курсу Банка. Курс: 39.9650№REF<<ИМЯ>ИНН=6658084667КПП=997550001',\n",
       "       '{VO01010} Операция по продаже валюты по заявлению №0000265 от 13.05.2016. Курс 65.41000№REF172348<<ИМЯ>МОСКОВСКИЙ ФИЛИАЛ ПАО РОСБАНКИНН=7730060164КПП=',\n",
       "       'Продажа валюты по курсу Банка. Курс: 31.8510№REFZ 3<<ИМЯ>ИНН=6658084667КПП=997550001',\n",
       "       '{VO01010} Операция по продаже валюты по заявлению №0000361 от 14.06.2016. Курс 66.07750№REF304536<<ИМЯ>МОСКОВСКИЙ ФИЛИАЛ ПАО РОСБАНКИНН=7730060164КПП=',\n",
       "       '{VO01010} Операция по продаже валюты по заявлению №0001005 от 10.01.2017. Курс 59.98750№REF212654<<ИМЯ>МОСКОВСКИЙ ФИЛИАЛ ПАО РОСБАНКИНН=7730060164КПП=',\n",
       "       'Продажа валюты по курсу Банка. Курс: 49.9400№REF<<ИМЯ>ИНН=6658084667КПП=997550001',\n",
       "       '{VO01010} Операция по продаже валюты по заявлению №0000135 от 22.04.2016. Курс 66.21000№REF21958<<ИМЯ>УРАЛЬСКИЙ ФИЛИАЛ ПАО РОСБАНКИНН=7730060164КПП=',\n",
       "       'Расчеты по конверсионным сделкам по курсу ВТБ USD/RUR59.2850 (Курс Банка России59.1830) согласно поручения N 1 от 19.01.2017 г. Публичное акционерное обществоНоволипецкий металлургический комбинат№REF1<<ИМЯ>Публичное акционерное общество  Новолипецкий металлургический комбинатИНН=4823006703КПП=482301001',\n",
       "       'Покупка/продажа валюты по заявке № 686(686).№REF<<ИМЯ>ИНН=4823006703',\n",
       "       '{VO01010} Операция по продаже валюты по заявлению №0000362 от 14.06.2016. Курс 66.09000№REF312168<<ИМЯ>МОСКОВСКИЙ ФИЛИАЛ ПАО РОСБАНКИНН=7730060164КПП=',\n",
       "       'Покупка/продажа валюты по заявке № 191(191).№REF191<<ИМЯ>НЛМК ОАОИНН=4823006703',\n",
       "       'Покупка/продажа валюты по заявке № 509(509).№REF<<ИМЯ>ИНН=4823006703',\n",
       "       '{VO01010} Операция по продаже валюты по заявлению №0000369 от 15.06.2016. Курс 65.78250№REF137728<<ИМЯ>МОСКОВСКИЙ ФИЛИАЛ ПАО РОСБАНКИНН=7730060164КПП=',\n",
       "       'Покупка/продажа валюты по заявке № 50(50).№REF50<<ИМЯ>ИНН=4823006703',\n",
       "       '{VO01010} Операция по продаже валюты по заявлению №0000860 от 16.11.2016. Курс 65.39000№REF186337<<ИМЯ>МОСКОВСКИЙ ФИЛИАЛ ПАО РОСБАНКИНН=7730060164КПП=',\n",
       "       '{VO01010} Операция по продаже валюты по заявлению №0000235 от 23.12.2016. Курс 60.84500№REF25249<<ИМЯ>УРАЛЬСКИЙ ФИЛИАЛ ПАО РОСБАНКИНН=7730060164КПП=',\n",
       "       'Покупка/продажа валюты по заявке № 47(47).№REF47<<ИМЯ>ИНН=4823006703',\n",
       "       '{VO01010} Операция по продаже валюты по заявлению №0000165 от 08.07.2016. Курс 64.20250№REF15842<<ИМЯ>УРАЛЬСКИЙ ФИЛИАЛ ПАО РОСБАНКИНН=7730060164КПП=',\n",
       "       'Конверсионная сделка Spot № 824530 покупка RUR по курсу 64.375№REFNONREF<<ИМЯ>АО ЮНИКРЕДИТ БАНК Г.МОСКВАИНН=7710030411КПП=775001001',\n",
       "       '{VO01010} Операция по продаже валюты по заявлению №0000446 от 24.06.2016. Курс 65.34750№REF129801<<ИМЯ>МОСКОВСКИЙ ФИЛИАЛ ПАО РОСБАНКИНН=7730060164КПП=',\n",
       "       '{VO01010} Операция по продаже валюты по заявлению №0000947 от 20.12.2016. Курс 61.68500№REF223643<<ИМЯ>МОСКОВСКИЙ ФИЛИАЛ ПАО РОСБАНКИНН=7730060164КПП=',\n",
       "       '{VO01010} Операция по продаже валюты по заявлению №0000389 от 20.06.2016. Курс 64.14250№REF243863<<ИМЯ>МОСКОВСКИЙ ФИЛИАЛ ПАО РОСБАНКИНН=7730060164КПП=',\n",
       "       'Покупка/продажа валюты по заявке № 174(174).№REF174<<ИМЯ>НЛМК ОАОИНН=4823006703',\n",
       "       'Покупка/продажа валюты по заявке № 135(135).№REF135<<ИМЯ>НЛМК ОАОИНН=4823006703',\n",
       "       'Покупка/продажа валюты по заявке № 249(249).№REF249<<ИМЯ>НЛМК ОАОИНН=4823006703',\n",
       "       'Покупка/продажа валюты по заявке № 326(326).№REF<<ИМЯ>ИНН=4823006703',\n",
       "       '{VO01010} Операция по продаже валюты по заявлению №0000493 от 01.07.2016. Курс 64.15000№REF108055<<ИМЯ>МОСКОВСКИЙ ФИЛИАЛ ПАО РОСБАНКИНН=7730060164КПП=',\n",
       "       '{VO01010} Операция по продаже валюты по заявлению №0000469 от 28.06.2016. Курс 64.75000№REF118550<<ИМЯ>МОСКОВСКИЙ ФИЛИАЛ ПАО РОСБАНКИНН=7730060164КПП=',\n",
       "       'Расчеты по конверсионным сделкам по курсу ВТБ USD/RUR62.4100 (Курс Банка России62.5841) согласно поручения N 192 от 20.10.2016 г. Публичное акционерное общество  Новолипецкий металлургический комбинат№REF192<<ИМЯ>Публичное акционерное общество  Новолипецкий металлургический комбинатИНН=4823006703КПП=482301001',\n",
       "       '{VO01010} Операция по продаже валюты по заявлению №0000935 от 14.12.2016. Курс 60.90000№REF165595<<ИМЯ>МОСКОВСКИЙ ФИЛИАЛ ПАО РОСБАНКИНН=7730060164КПП=',\n",
       "       'Расчеты по конверсионным сделкам по курсу ВТБ USD/RUR61.6550 (Курс Банка России60.8079) согласно поручения N 213 от 15.12.2016 г. Публичное акционерное общество  Новолипецкий металлургический комбинат№REF213<<ИМЯ>Публичное акционерное общество  Новолипецкий металлургический комбинатИНН=4823006703КПП=482301001',\n",
       "       '{VO01010} Операция по продаже валюты по заявлению №0000277 от 17.05.2016. Курс 64.74000№REF67444<<ИМЯ>МОСКОВСКИЙ ФИЛИАЛ ПАО РОСБАНКИНН=7730060164КПП=',\n",
       "       '{VO01010} Операция по продаже валюты по заявлению №0000412 от 22.06.2016. Курс 64.03500№REF61074<<ИМЯ>МОСКОВСКИЙ ФИЛИАЛ ПАО РОСБАНКИНН=7730060164КПП=',\n",
       "       '{VO01010} Операция по продаже валюты по заявлению №0001039 от 17.01.2017. Курс 59.18500№REF133742<<ИМЯ>МОСКОВСКИЙ ФИЛИАЛ ПАО РОСБАНКИНН=7730060164КПП=',\n",
       "       'Покупка/продажа валюты по заявке № 65(65).№REF65<<ИМЯ>ИНН=4823006703'], dtype=object)"
      ]
     },
     "execution_count": 100,
     "metadata": {},
     "output_type": "execute_result"
    }
   ],
   "source": [
    "X_test[(y_test == 5104) & (y_pred == 4060)]"
   ]
  },
  {
   "cell_type": "code",
   "execution_count": 107,
   "metadata": {},
   "outputs": [
    {
     "data": {
      "text/plain": [
       "(array([4060, 5104]), array([ 0.88766283,  0.06318255]))"
      ]
     },
     "execution_count": 107,
     "metadata": {},
     "output_type": "execute_result"
    }
   ],
   "source": [
    "entry = 'Покупка/продажа валюты по заявке № 806(806).№REF<<ИМЯ>ИНН=4823006703'\n",
    "find_most_probable_class(y_train, pipe.predict_proba([entry]))"
   ]
  },
  {
   "cell_type": "code",
   "execution_count": null,
   "metadata": {
    "collapsed": true
   },
   "outputs": [],
   "source": []
  },
  {
   "cell_type": "code",
   "execution_count": null,
   "metadata": {
    "collapsed": true
   },
   "outputs": [],
   "source": []
  },
  {
   "cell_type": "markdown",
   "metadata": {},
   "source": [
    "We see that our classifier confuses **5103** and **5003** classes, and in our data we have several entries, which belong to that classes:"
   ]
  },
  {
   "cell_type": "code",
   "execution_count": 370,
   "metadata": {
    "collapsed": true
   },
   "outputs": [],
   "source": [
    "entry = '{VO61100} Зачисление валютной выручки согласно поруч.N 107 от 11/11/2010г. ОАО  НЛМК  Уведомление N 71873 от 10/11/2010г.<<ИМЯ>ОАО  НЛМКИНН=4823006703КПП=0'"
   ]
  },
  {
   "cell_type": "code",
   "execution_count": 371,
   "metadata": {},
   "outputs": [
    {
     "data": {
      "text/html": [
       "<div>\n",
       "<style>\n",
       "    .dataframe thead tr:only-child th {\n",
       "        text-align: right;\n",
       "    }\n",
       "\n",
       "    .dataframe thead th {\n",
       "        text-align: left;\n",
       "    }\n",
       "\n",
       "    .dataframe tbody tr th {\n",
       "        vertical-align: top;\n",
       "    }\n",
       "</style>\n",
       "<table border=\"1\" class=\"dataframe\">\n",
       "  <thead>\n",
       "    <tr style=\"text-align: right;\">\n",
       "      <th></th>\n",
       "      <th>Type</th>\n",
       "      <th>Description</th>\n",
       "    </tr>\n",
       "  </thead>\n",
       "  <tbody>\n",
       "    <tr>\n",
       "      <th>278875</th>\n",
       "      <td>5003</td>\n",
       "      <td>{VO61100} Зачисление валютной выручки согласно...</td>\n",
       "    </tr>\n",
       "    <tr>\n",
       "      <th>278878</th>\n",
       "      <td>5103</td>\n",
       "      <td>{VO61100} Зачисление валютной выручки согласно...</td>\n",
       "    </tr>\n",
       "  </tbody>\n",
       "</table>\n",
       "</div>"
      ],
      "text/plain": [
       "        Type                                        Description\n",
       "278875  5003  {VO61100} Зачисление валютной выручки согласно...\n",
       "278878  5103  {VO61100} Зачисление валютной выручки согласно..."
      ]
     },
     "execution_count": 371,
     "metadata": {},
     "output_type": "execute_result"
    }
   ],
   "source": [
    "data[data.Description==entry]"
   ]
  },
  {
   "cell_type": "code",
   "execution_count": 372,
   "metadata": {},
   "outputs": [
    {
     "data": {
      "text/plain": [
       "(array([5103, 5003]), array([ 0.49555008,  0.4785053 ]))"
      ]
     },
     "execution_count": 372,
     "metadata": {},
     "output_type": "execute_result"
    }
   ],
   "source": [
    "probs = best_clf.predict_proba([entry])\n",
    "find_most_probable_class(y_train, probs, 2)"
   ]
  },
  {
   "cell_type": "markdown",
   "metadata": {},
   "source": [
    "## 4.2 Next step <a id=\"section4.2\"/>"
   ]
  },
  {
   "cell_type": "code",
   "execution_count": 41,
   "metadata": {
    "collapsed": true
   },
   "outputs": [],
   "source": [
    "mistakes = np.array([i for i in range(len(y_pred_)) if (y_pred_[i] != y_test_[i])])"
   ]
  },
  {
   "cell_type": "code",
   "execution_count": 42,
   "metadata": {
    "collapsed": true
   },
   "outputs": [],
   "source": [
    "entry = 'Покупка/продажа валюты по заявке № 27(27).№REF27<<ИМЯ>НЛМК ОАОИНН=4823006703'"
   ]
  },
  {
   "cell_type": "code",
   "execution_count": 43,
   "metadata": {},
   "outputs": [
    {
     "data": {
      "text/html": [
       "<div>\n",
       "<style>\n",
       "    .dataframe thead tr:only-child th {\n",
       "        text-align: right;\n",
       "    }\n",
       "\n",
       "    .dataframe thead th {\n",
       "        text-align: left;\n",
       "    }\n",
       "\n",
       "    .dataframe tbody tr th {\n",
       "        vertical-align: top;\n",
       "    }\n",
       "</style>\n",
       "<table border=\"1\" class=\"dataframe\">\n",
       "  <thead>\n",
       "    <tr style=\"text-align: right;\">\n",
       "      <th></th>\n",
       "      <th>Type</th>\n",
       "      <th>Description</th>\n",
       "    </tr>\n",
       "  </thead>\n",
       "  <tbody>\n",
       "    <tr>\n",
       "      <th>34314</th>\n",
       "      <td>4060</td>\n",
       "      <td>Покупка/продажа валюты по заявке № 27(27).№REF...</td>\n",
       "    </tr>\n",
       "    <tr>\n",
       "      <th>480248</th>\n",
       "      <td>5104</td>\n",
       "      <td>Покупка/продажа валюты по заявке № 27(27).№REF...</td>\n",
       "    </tr>\n",
       "  </tbody>\n",
       "</table>\n",
       "</div>"
      ],
      "text/plain": [
       "        Type                                        Description\n",
       "34314   4060  Покупка/продажа валюты по заявке № 27(27).№REF...\n",
       "480248  5104  Покупка/продажа валюты по заявке № 27(27).№REF..."
      ]
     },
     "execution_count": 43,
     "metadata": {},
     "output_type": "execute_result"
    }
   ],
   "source": [
    "data[data.Description == 'Покупка/продажа валюты по заявке № 27(27).№REF27<<ИМЯ>НЛМК ОАОИНН=4823006703']"
   ]
  },
  {
   "cell_type": "code",
   "execution_count": 70,
   "metadata": {},
   "outputs": [
    {
     "data": {
      "text/plain": [
       "(array([4028, 3001]), array([ 0.35762322,  0.27690191]))"
      ]
     },
     "execution_count": 70,
     "metadata": {},
     "output_type": "execute_result"
    }
   ],
   "source": [
    "find_most_probable_class(y_train,best_clf.predict_proba([entry]),2)"
   ]
  },
  {
   "cell_type": "code",
   "execution_count": 72,
   "metadata": {},
   "outputs": [
    {
     "data": {
      "text/plain": [
       "array([   18,    23,    29, ..., 51039, 51045, 51047])"
      ]
     },
     "execution_count": 72,
     "metadata": {},
     "output_type": "execute_result"
    }
   ],
   "source": [
    "mistakes"
   ]
  },
  {
   "cell_type": "code",
   "execution_count": 74,
   "metadata": {
    "scrolled": true
   },
   "outputs": [
    {
     "data": {
      "text/plain": [
       "('Покупка/продажа валюты по заявке № 140(140).№REF140<<ИМЯ>НЛМК ОАОИНН=4823006703',\n",
       " 4060,\n",
       " 5104)"
      ]
     },
     "execution_count": 74,
     "metadata": {},
     "output_type": "execute_result"
    }
   ],
   "source": [
    "j = 18\n",
    "X_test_[j], y_pred_[j], y_test_[j]"
   ]
  },
  {
   "cell_type": "code",
   "execution_count": 75,
   "metadata": {
    "collapsed": true
   },
   "outputs": [],
   "source": [
    "pr = best_clf.predict_proba([X_test_[j]])"
   ]
  },
  {
   "cell_type": "code",
   "execution_count": 76,
   "metadata": {
    "scrolled": true
   },
   "outputs": [
    {
     "data": {
      "text/plain": [
       "(array([4060, 5113]), array([ 0.45005059,  0.29812294]))"
      ]
     },
     "execution_count": 76,
     "metadata": {},
     "output_type": "execute_result"
    }
   ],
   "source": [
    "find_most_probable_class(y_train, pr, 2)"
   ]
  },
  {
   "cell_type": "code",
   "execution_count": 77,
   "metadata": {
    "collapsed": true
   },
   "outputs": [],
   "source": [
    "countvector = best_clf.named_steps['vect']\n",
    "tfid = best_clf.named_steps['tfidf']"
   ]
  },
  {
   "cell_type": "code",
   "execution_count": 78,
   "metadata": {
    "collapsed": true
   },
   "outputs": [],
   "source": [
    "ar = tfid.transform(countvector.transform(['Зарплата сотрудников по ведомости N221 от 28.09.2012 НДС не облагается№REF61618<<ИМЯ>ИНН=6608003052КПП=667101001']))"
   ]
  },
  {
   "cell_type": "markdown",
   "metadata": {},
   "source": [
    "## 4.3 Strange description <a id=\"section4.3\"/>"
   ]
  },
  {
   "cell_type": "markdown",
   "metadata": {},
   "source": [
    "The first thing to consider is that classes **2101** and **2103** are pretty similar:"
   ]
  },
  {
   "cell_type": "markdown",
   "metadata": {},
   "source": [
    "And our classifier works fine:"
   ]
  },
  {
   "cell_type": "code",
   "execution_count": 80,
   "metadata": {
    "collapsed": true
   },
   "outputs": [],
   "source": [
    "def lazy_print(idx):\n",
    "    print('%r => %s, true: %s' % (X_test[idx], best_clf.predict([X_test[idx]]),y_test[idx]))"
   ]
  },
  {
   "cell_type": "code",
   "execution_count": 81,
   "metadata": {},
   "outputs": [
    {
     "data": {
      "text/plain": [
       "'CHRG:BEN№REFFX00439344-02-01<<ИМЯ>'"
      ]
     },
     "execution_count": 81,
     "metadata": {},
     "output_type": "execute_result"
    }
   ],
   "source": [
    "data[data.Type == 5113].Description[426189]"
   ]
  },
  {
   "cell_type": "code",
   "execution_count": 86,
   "metadata": {},
   "outputs": [
    {
     "data": {
      "text/plain": [
       "array([   18,    23,    29, ..., 51039, 51045, 51047])"
      ]
     },
     "execution_count": 86,
     "metadata": {},
     "output_type": "execute_result"
    }
   ],
   "source": [
    "mistakes"
   ]
  },
  {
   "cell_type": "code",
   "execution_count": 88,
   "metadata": {},
   "outputs": [
    {
     "name": "stdout",
     "output_type": "stream",
     "text": [
      "'Оплата за аренду нежилого помещения за март, апрель, май месяцы 2017г. Оплата подоговору № 126700 от 01.09.2014г. Сумма 10673-00 В том числе НДС: 1628-10№REF5<<ИМЯ>Общество с ограниченной ответственностью  ТЕХПРОМЭНЕРГОИНН=6658114167' => [4022], true: 2024\n"
     ]
    }
   ],
   "source": [
    "lazy_print(23)"
   ]
  },
  {
   "cell_type": "code",
   "execution_count": 52,
   "metadata": {},
   "outputs": [
    {
     "data": {
      "text/plain": [
       "(array([4022, 3001, 4070]), array([ 0.80748896,  0.05991611,  0.04561528]))"
      ]
     },
     "execution_count": 52,
     "metadata": {},
     "output_type": "execute_result"
    }
   ],
   "source": [
    "find_most_probable_class(y_train[::10], best_clf.predict_proba([X_test[14]]), n_classes=3)"
   ]
  },
  {
   "cell_type": "code",
   "execution_count": 53,
   "metadata": {},
   "outputs": [
    {
     "data": {
      "text/plain": [
       "4022"
      ]
     },
     "execution_count": 53,
     "metadata": {},
     "output_type": "execute_result"
    }
   ],
   "source": [
    "y_test[14]"
   ]
  },
  {
   "cell_type": "code",
   "execution_count": 54,
   "metadata": {},
   "outputs": [
    {
     "data": {
      "text/plain": [
       "(3695,)"
      ]
     },
     "execution_count": 54,
     "metadata": {},
     "output_type": "execute_result"
    }
   ],
   "source": [
    "mistakes.shape"
   ]
  },
  {
   "cell_type": "markdown",
   "metadata": {
    "collapsed": true
   },
   "source": [
    "## 4.4 Other mistakes <a id=\"section4.4\"/>"
   ]
  },
  {
   "cell_type": "code",
   "execution_count": 55,
   "metadata": {},
   "outputs": [
    {
     "data": {
      "text/plain": [
       "array([   18,    23,    29, ..., 51039, 51045, 51047])"
      ]
     },
     "execution_count": 55,
     "metadata": {},
     "output_type": "execute_result"
    }
   ],
   "source": [
    "mistakes"
   ]
  },
  {
   "cell_type": "code",
   "execution_count": 56,
   "metadata": {
    "scrolled": true
   },
   "outputs": [
    {
     "data": {
      "text/plain": [
       "array([28229, 28236, 28237, 28255, 28268, 28269, 28278, 28317, 28330,\n",
       "       28356, 28388, 28389, 28399, 28427, 28453, 28454, 28456, 28459,\n",
       "       28467, 28488])"
      ]
     },
     "execution_count": 56,
     "metadata": {},
     "output_type": "execute_result"
    }
   ],
   "source": [
    "mistakes.shape\n",
    "mistakes[2040:2060]"
   ]
  },
  {
   "cell_type": "code",
   "execution_count": 57,
   "metadata": {
    "scrolled": true
   },
   "outputs": [
    {
     "data": {
      "text/plain": [
       "('Оплата за пост управления по дог. 506/12Д, спец. 7, сч. 1 408 989 от 04.10.2012 В т.ч. НДС 18%- 257-36<<ИМЯ>Общество с ограниченной ответственностью РС ЛогистикаИНН=7704524684КПП=771601001',\n",
       " 4001,\n",
       " 4001)"
      ]
     },
     "execution_count": 57,
     "metadata": {},
     "output_type": "execute_result"
    }
   ],
   "source": [
    "j = 21329\n",
    "X_test_[j], y_pred_[j], y_test_[j]"
   ]
  },
  {
   "cell_type": "code",
   "execution_count": 58,
   "metadata": {
    "collapsed": true
   },
   "outputs": [],
   "source": [
    "pr = best_clf.predict_proba([X_test_[j]])"
   ]
  },
  {
   "cell_type": "code",
   "execution_count": 59,
   "metadata": {
    "scrolled": true
   },
   "outputs": [
    {
     "data": {
      "text/plain": [
       "(array([4001, 4022]), array([ 0.56621036,  0.19014649]))"
      ]
     },
     "execution_count": 59,
     "metadata": {},
     "output_type": "execute_result"
    }
   ],
   "source": [
    "find_most_probable_class(y_train, pr, 2)"
   ]
  },
  {
   "cell_type": "code",
   "execution_count": 143,
   "metadata": {},
   "outputs": [
    {
     "data": {
      "text/html": [
       "<div>\n",
       "<style>\n",
       "    .dataframe thead tr:only-child th {\n",
       "        text-align: right;\n",
       "    }\n",
       "\n",
       "    .dataframe thead th {\n",
       "        text-align: left;\n",
       "    }\n",
       "\n",
       "    .dataframe tbody tr th {\n",
       "        vertical-align: top;\n",
       "    }\n",
       "</style>\n",
       "<table border=\"1\" class=\"dataframe\">\n",
       "  <thead>\n",
       "    <tr style=\"text-align: right;\">\n",
       "      <th></th>\n",
       "      <th>Type</th>\n",
       "      <th>Description</th>\n",
       "    </tr>\n",
       "  </thead>\n",
       "  <tbody>\n",
       "    <tr>\n",
       "      <th>132448</th>\n",
       "      <td>5004</td>\n",
       "      <td>Списание долларов США для продажи согласно зая...</td>\n",
       "    </tr>\n",
       "  </tbody>\n",
       "</table>\n",
       "</div>"
      ],
      "text/plain": [
       "        Type                                        Description\n",
       "132448  5004  Списание долларов США для продажи согласно зая..."
      ]
     },
     "execution_count": 143,
     "metadata": {},
     "output_type": "execute_result"
    }
   ],
   "source": [
    "entry = 'Списание долларов США для продажи согласно заявки №67от 01.03.2012г.№REF40740894<<ИМЯ>ИНН=7729405872'\n",
    "data_cleared[data_cleared.Description == entry]"
   ]
  },
  {
   "cell_type": "code",
   "execution_count": 152,
   "metadata": {
    "collapsed": true
   },
   "outputs": [],
   "source": [
    "probs = best_clf.predict_proba([entry])"
   ]
  },
  {
   "cell_type": "code",
   "execution_count": 153,
   "metadata": {},
   "outputs": [
    {
     "data": {
      "text/plain": [
       "(array([4060, 5004]), array([ 0.54328869,  0.40173498]))"
      ]
     },
     "execution_count": 153,
     "metadata": {},
     "output_type": "execute_result"
    }
   ],
   "source": [
    "find_most_probable_class(y_train, probs, 2)"
   ]
  },
  {
   "cell_type": "code",
   "execution_count": 154,
   "metadata": {},
   "outputs": [
    {
     "data": {
      "text/html": [
       "<div>\n",
       "<style>\n",
       "    .dataframe thead tr:only-child th {\n",
       "        text-align: right;\n",
       "    }\n",
       "\n",
       "    .dataframe thead th {\n",
       "        text-align: left;\n",
       "    }\n",
       "\n",
       "    .dataframe tbody tr th {\n",
       "        vertical-align: top;\n",
       "    }\n",
       "</style>\n",
       "<table border=\"1\" class=\"dataframe\">\n",
       "  <thead>\n",
       "    <tr style=\"text-align: right;\">\n",
       "      <th></th>\n",
       "      <th>Type</th>\n",
       "      <th>Description</th>\n",
       "    </tr>\n",
       "  </thead>\n",
       "  <tbody>\n",
       "    <tr>\n",
       "      <th>450747</th>\n",
       "      <td>4028</td>\n",
       "      <td>Арендная плата за октябрь 2013г. по ДАЗУ 33 от...</td>\n",
       "    </tr>\n",
       "  </tbody>\n",
       "</table>\n",
       "</div>"
      ],
      "text/plain": [
       "        Type                                        Description\n",
       "450747  4028  Арендная плата за октябрь 2013г. по ДАЗУ 33 от..."
      ]
     },
     "execution_count": 154,
     "metadata": {},
     "output_type": "execute_result"
    }
   ],
   "source": [
    "entry = 'Арендная плата за октябрь 2013г. по ДАЗУ 33 от 13.12.2005 НДС не облагается<<ИМЯ>УФК по Свердловской области (МУГИСО)ИНН=6658091960КПП=667001001'\n",
    "data_cleared[data_cleared.Description == entry]"
   ]
  },
  {
   "cell_type": "markdown",
   "metadata": {},
   "source": [
    "## 4.5  Hold-out 75% of 3001 class <a id=\"section4.5\"/>"
   ]
  },
  {
   "cell_type": "code",
   "execution_count": 155,
   "metadata": {},
   "outputs": [
    {
     "name": "stdout",
     "output_type": "stream",
     "text": [
      "Accuracy for 3001: 0.970392301999\n"
     ]
    }
   ],
   "source": [
    "y_3001 = best_clf.predict(data_3001.Description[::20])\n",
    "print('Accuracy for 3001:', accuracy_score(y_3001, 3001*np.ones(len(y_3001))))"
   ]
  },
  {
   "cell_type": "markdown",
   "metadata": {},
   "source": [
    "# 5. Postprocessing <a id=\"section5\"/>"
   ]
  },
  {
   "cell_type": "markdown",
   "metadata": {},
   "source": [
    "Now, find difficult cases: where the clf gives almost equal probability for 2 classes. Consider these examples separately. "
   ]
  },
  {
   "cell_type": "code",
   "execution_count": 37,
   "metadata": {
    "collapsed": true
   },
   "outputs": [],
   "source": [
    "def classify(X_test, y_test, y_train, eps = 0.1):\n",
    "    examples_for_manual_clf = []\n",
    "    X_test_ = []\n",
    "    y_test_ = []\n",
    "    y_pred_ = []\n",
    "    for entry_test, i in zip(X_test, range(len(X_test))):\n",
    "        probs = best_clf.predict_proba([entry_test])\n",
    "        top_2_classes, top_2_probs = find_most_probable_class(y_train, probs, 2)\n",
    "        if np.abs(top_2_probs[0] - top_2_probs[1]) < eps:\n",
    "            examples_for_manual_clf.append(entry_test)\n",
    "        else:\n",
    "            X_test_.append(entry_test)\n",
    "            y_test_.append(y_test[i])\n",
    "            y_pred_.append(top_2_classes[0])\n",
    "        accuracy = accuracy_score(y_test_, y_pred_)\n",
    "    return accuracy, X_test_, y_test_, y_pred_, examples_for_manual_clf         "
   ]
  },
  {
   "cell_type": "code",
   "execution_count": 38,
   "metadata": {},
   "outputs": [
    {
     "data": {
      "text/plain": [
       "53433"
      ]
     },
     "execution_count": 38,
     "metadata": {},
     "output_type": "execute_result"
    }
   ],
   "source": [
    "len(X_test)"
   ]
  },
  {
   "cell_type": "code",
   "execution_count": 39,
   "metadata": {
    "collapsed": true
   },
   "outputs": [],
   "source": [
    "accuracy, X_test_, y_test_, y_pred_, examples_for_manual_clf = classify(X_test, y_test, y_train)"
   ]
  },
  {
   "cell_type": "code",
   "execution_count": 40,
   "metadata": {},
   "outputs": [
    {
     "data": {
      "text/plain": [
       "['Оплата труда 500000руб. согл.бюджета на июнь 2012г. НДС не облагается№REF38441<<ИМЯ>Филиал открытого акционерного общества  Новолипецкий металлургический комбинат  вИНН=4823006703КПП=665843001',\n",
       " 'За авиабилеты по договору 03-02-SL-0034/0612 от 01.01.2007 по счету 6 от 29.06.2012 В т.ч. НДС 18%- 1226-44№REF7397<<ИМЯ>Общество с ограниченной ответственностью  С 7 БИЛЕТИНН=5406194003КПП=770501001',\n",
       " 'Конверсионная сделка N 174952. Продажа Доллар Сша. покурсу 79.1. Курс: 79,1№REF7746240<<ИМЯ>ВИЗ-СТАЛЬИНН=6658084667КПП=',\n",
       " '{VO01010} Операция по продаже валюты по заявлению №0000456 от 27.06.2016. Курс 65.14250№REF207416<<ИМЯ>МОСКОВСКИЙ ФИЛИАЛ ПАО РОСБАНКИНН=7730060164КПП=',\n",
       " 'Расчеты по конверсионным сделкам по курсу ВТБ USD/RUR63.8350 (Курс Банка России63.4183) согласно поручения N 133 от 21.07.2016 г. Публичное акционерное общество  Новолипецкий металлургический комбинат№REF133<<ИМЯ>Публичное акционерное общество  Новолипецкий металлургический комбинатИНН=4823006703КПП=482301001',\n",
       " '{VO01010} Операция по продаже валюты по заявлению №0000648 от 20.09.2016. Курс 72.54250№REF131111<<ИМЯ>МОСКОВСКИЙ ФИЛИАЛ ПАО РОСБАНКИНН=7730060164КПП=',\n",
       " 'Перевод собственных средств. НДС не облагается.№REF01569<<ИМЯ>ИНН=4823006703КПП=997550001',\n",
       " 'За сувенирные подарки по счету N 111 от 12.02.10 г. Вт.ч. НДС 18%- 1703-97№REF5203<<ИМЯ>ООО  AРТОФИС-КорпоративныеподаркиИНН=7729609717КПП=772901001',\n",
       " 'Продажа валюты по курсу Банка. Курс: 35.9900№REF<<ИМЯ>ИНН=6658084667КПП=997550001',\n",
       " 'Плата за выдачу инфор.на объект: Воздуш. линия эле ктропередач110 кВс опорами(20шт)отПС Металлургичес кая  до ГППN3 ,кадастр.N: 48-48-01/236/2009-245,г. Липецк,р-он промзоны комбината НДС не облагается№REF8438<<ИМЯ>УФК по Липецкой области (Управление Росреестра по Липецкой области)ИНН=4826044672КПП=482501001']"
      ]
     },
     "execution_count": 40,
     "metadata": {},
     "output_type": "execute_result"
    }
   ],
   "source": [
    "examples_for_manual_clf[:10]"
   ]
  },
  {
   "cell_type": "markdown",
   "metadata": {},
   "source": [
    "# <font color=\"#2220f0f23\">SMTH TO TEST: </font>"
   ]
  },
  {
   "cell_type": "code",
   "execution_count": 188,
   "metadata": {
    "collapsed": true
   },
   "outputs": [],
   "source": [
    "countvectorizer = CountVectorizer(analyzer=stemming, stop_words=stopwordlist, min_df = 10, max_df = 0.8, ngram_range=(1,1))"
   ]
  },
  {
   "cell_type": "code",
   "execution_count": 197,
   "metadata": {},
   "outputs": [
    {
     "data": {
      "text/plain": [
       "CountVectorizer(analyzer=<function stemming at 0x00000244980E7840>,\n",
       "        binary=False, decode_error='strict', dtype=<class 'numpy.int64'>,\n",
       "        encoding='utf-8', input='content', lowercase=True, max_df=0.8,\n",
       "        max_features=None, min_df=10, ngram_range=(1, 1),\n",
       "        preprocessor=None,\n",
       "        stop_words=['и', 'в', 'во', 'не', 'что', 'он', 'на', 'я', 'с', 'со', 'как', 'а', 'то', 'все', 'она', 'так', 'его', 'но', 'да', 'ты', 'к', 'у', 'же', 'вы', 'за', 'бы', 'по', 'только', 'ее', 'мне', 'было', 'вот', 'от', 'меня', 'еще', 'нет', 'о', 'из', 'ему', 'теперь', 'когда', 'даже', 'ну', 'вдруг', '...гда', 'лучше', 'чуть', 'том', 'нельзя', 'такой', 'им', 'более', 'всегда', 'конечно', 'всю', 'между'],\n",
       "        strip_accents=None, token_pattern='(?u)\\\\b\\\\w\\\\w+\\\\b',\n",
       "        tokenizer=None, vocabulary=None)"
      ]
     },
     "execution_count": 197,
     "metadata": {},
     "output_type": "execute_result"
    }
   ],
   "source": [
    "countvectorizer.fit(X_train)"
   ]
  },
  {
   "cell_type": "markdown",
   "metadata": {
    "collapsed": true
   },
   "source": [
    "### 5. Save model"
   ]
  },
  {
   "cell_type": "code",
   "execution_count": 213,
   "metadata": {
    "collapsed": true
   },
   "outputs": [],
   "source": [
    "pickle.dump(pipe, open( \"pipe.pkl\", \"wb\"))"
   ]
  },
  {
   "cell_type": "code",
   "execution_count": 64,
   "metadata": {
    "collapsed": true
   },
   "outputs": [],
   "source": [
    "pickle.dump(best_clf, open( \"best_clf.pkl\", \"wb\" ) )"
   ]
  },
  {
   "cell_type": "markdown",
   "metadata": {},
   "source": [
    "### 6. Load model"
   ]
  },
  {
   "cell_type": "code",
   "execution_count": 1,
   "metadata": {
    "collapsed": true
   },
   "outputs": [],
   "source": [
    "def load(path):\n",
    "    return pickle.load(open(path,'rb'))"
   ]
  },
  {
   "cell_type": "code",
   "execution_count": 136,
   "metadata": {
    "collapsed": true
   },
   "outputs": [],
   "source": [
    "clf = pickle.load(open( \"best_clf.pkl\", \"rb\") )"
   ]
  },
  {
   "cell_type": "code",
   "execution_count": 137,
   "metadata": {},
   "outputs": [
    {
     "data": {
      "text/plain": [
       "array([2042])"
      ]
     },
     "execution_count": 137,
     "metadata": {},
     "output_type": "execute_result"
    }
   ],
   "source": [
    "clf.predict(['закрой че нить'])"
   ]
  },
  {
   "cell_type": "code",
   "execution_count": 141,
   "metadata": {
    "collapsed": true
   },
   "outputs": [],
   "source": [
    "labels = np.zeros(4)\n",
    "probs = clf.predict_proba(['открой и закрой пожалуйста что нить'])"
   ]
  },
  {
   "cell_type": "code",
   "execution_count": 142,
   "metadata": {},
   "outputs": [
    {
     "data": {
      "text/plain": [
       "(array([2042, 3001]), array([ 0.70277563,  0.07736889]))"
      ]
     },
     "execution_count": 142,
     "metadata": {},
     "output_type": "execute_result"
    }
   ],
   "source": [
    "find_most_probable_class(y_train, probs)"
   ]
  },
  {
   "cell_type": "code",
   "execution_count": null,
   "metadata": {
    "collapsed": true
   },
   "outputs": [],
   "source": []
  }
 ],
 "metadata": {
  "kernelspec": {
   "display_name": "Python 3",
   "language": "python",
   "name": "python3"
  },
  "language_info": {
   "codemirror_mode": {
    "name": "ipython",
    "version": 3
   },
   "file_extension": ".py",
   "mimetype": "text/x-python",
   "name": "python",
   "nbconvert_exporter": "python",
   "pygments_lexer": "ipython3",
   "version": "3.6.1"
  }
 },
 "nbformat": 4,
 "nbformat_minor": 2
}
